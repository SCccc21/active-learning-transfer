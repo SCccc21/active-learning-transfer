{
 "cells": [
  {
   "cell_type": "markdown",
   "metadata": {
    "id": "1G_-MNjO8aLS"
   },
   "source": [
    "# Import Libraries"
   ]
  },
  {
   "cell_type": "code",
   "execution_count": 1,
   "metadata": {
    "id": "m9sihl5nxMz8"
   },
   "outputs": [],
   "source": [
    "import torch\n",
    "import torch.nn as nn\n",
    "import torch.optim as optim\n",
    "from torch.autograd import Variable\n",
    "import torch.nn.functional as F\n",
    "from torch.optim.lr_scheduler import StepLR, MultiStepLR\n",
    "\n",
    "from sklearn.model_selection import train_test_split\n",
    "from sklearn.linear_model import LogisticRegression\n",
    "\n",
    "import keras\n",
    "from keras.layers import Input, Flatten, Dense, LeakyReLU, Dropout\n",
    "from keras.models import Sequential\n",
    "from keras.layers.convolutional import Conv2D, MaxPooling2D\n",
    "from keras.layers.core import Activation, Flatten, Dense\n",
    "from keras import backend as K\n",
    "from keras.models import clone_model\n",
    "from keras import Model\n",
    "from keras.datasets import mnist\n",
    "from keras.utils import np_utils\n",
    "\n",
    "import tensorflow.compat.v1 as tf\n",
    "from tensorflow.keras import regularizers\n",
    "from tensorflow.keras import initializers\n",
    "\n",
    "import numpy as np\n",
    "import collections\n",
    "import copy\n",
    "import pandas as pd \n",
    "import matplotlib.pyplot as plt \n",
    "import scipy.optimize as op \n",
    "import seaborn as sns\n",
    "\n",
    "import pickle"
   ]
  },
  {
   "cell_type": "markdown",
   "metadata": {
    "id": "M2bDzlaSEs_n"
   },
   "source": [
    "### Sample Utility"
   ]
  },
  {
   "cell_type": "code",
   "execution_count": 2,
   "metadata": {
    "id": "wjGtjvQpQVWn"
   },
   "outputs": [],
   "source": [
    "# utility_func_args = [x_train, y_train, x_val, y_val]\n",
    "def sample_utility(n, size_min, size_max, utility_func, utility_func_args, random_state, ub_prob=0.2, verbose=False):\n",
    "\n",
    "  x_train, y_train, x_val, y_val = utility_func_args\n",
    "\n",
    "  X_feature_test = []\n",
    "  y_feature_test = []\n",
    "\n",
    "  x_train = np.array(x_train)\n",
    "  y_train = np.array(y_train)\n",
    "\n",
    "  N = len(y_train)\n",
    "\n",
    "  np.random.seed(random_state)\n",
    "  \n",
    "  for i in range(n):\n",
    "    if verbose:\n",
    "      print('{} / {}'.format(i, n))\n",
    "\n",
    "    n_select = np.random.choice(range(size_min, size_max))\n",
    "\n",
    "    subset_index = []\n",
    "\n",
    "    \"\"\"\n",
    "    if unbalance:\n",
    "      n_per_class = int(N / 10)\n",
    "      alpha = np.ones(10)\n",
    "      alpha[np.random.choice(range(10))] = np.random.choice(range(1, 50))\n",
    "    else:\n",
    "      alpha = np.random.choice(range(1, 20), size=10, replace=True)\n",
    "    \"\"\"\n",
    "\n",
    "    toss = np.random.uniform()\n",
    "\n",
    "    # With probability ub_prob, sample a class-imbalanced subset\n",
    "    if toss > 1-ub_prob:\n",
    "      n_per_class = int(N / 10)\n",
    "      alpha = np.ones(10)\n",
    "      alpha[np.random.choice(range(10))] = np.random.choice(range(1, 50))\n",
    "    else:\n",
    "      alpha = np.random.choice(range(90, 100), size=10, replace=True)\n",
    "\n",
    "    p = np.random.dirichlet(alpha=alpha)\n",
    "    occur = np.random.choice(range(10), size=n_select, replace=True, p=p)\n",
    "    counts = np.array([np.sum(occur==i) for i in range(10)])\n",
    "    \n",
    "    for i in range(10):\n",
    "      ind_i = np.where(np.argmax(y_train, 1)==i)[0]\n",
    "      if len(ind_i) > counts[i]:\n",
    "        selected_ind_i = np.random.choice(ind_i, size=counts[i], replace=False)\n",
    "      else:\n",
    "        selected_ind_i = np.random.choice(ind_i, size=counts[i], replace=True)\n",
    "      subset_index = subset_index + list(selected_ind_i)\n",
    "\n",
    "    subset_index = np.array(subset_index)\n",
    "\n",
    "    y_feature_test.append(utility_func(x_train[subset_index], y_train[subset_index], x_val, y_val))\n",
    "    X_feature_test.append( subset_index )\n",
    "\n",
    "  return X_feature_test, y_feature_test\n",
    "\n",
    "\n",
    "def sample_utility_veryub(n, size_min, size_max, utility_func, utility_func_args, random_state, ub_prob=0.2, verbose=False):\n",
    "\n",
    "  x_train, y_train, x_val, y_val = utility_func_args\n",
    "\n",
    "  X_feature_test = []\n",
    "  y_feature_test = []\n",
    "\n",
    "  x_train = np.array(x_train)\n",
    "  y_train = np.array(y_train)\n",
    "\n",
    "  N = len(y_train)\n",
    "\n",
    "  np.random.seed(random_state)\n",
    "  \n",
    "  for i in range(n):\n",
    "    if verbose:\n",
    "      print('{} / {}'.format(i, n))\n",
    "\n",
    "    n_select = np.random.choice(range(size_min, size_max))\n",
    "\n",
    "    if n_select > 0:\n",
    "      subset_index = []\n",
    "\n",
    "      toss = np.random.uniform()\n",
    "\n",
    "      # With probability ub_prob, sample a class-imbalanced subset\n",
    "      if toss > 1-ub_prob:\n",
    "        alpha = np.random.choice(range(1, 100), size=10, replace=True)\n",
    "      else:\n",
    "        alpha = np.random.choice(range(90, 100), size=10, replace=True)\n",
    "\n",
    "      p = np.random.dirichlet(alpha=alpha)\n",
    "      occur = np.random.choice(range(10), size=n_select, replace=True, p=p)\n",
    "      counts = np.array([np.sum(occur==i) for i in range(10)])\n",
    "      \n",
    "      for i in range(10):\n",
    "        ind_i = np.where(np.argmax(y_train, 1)==i)[0]\n",
    "        if len(ind_i) > counts[i]:\n",
    "          selected_ind_i = np.random.choice(ind_i, size=counts[i], replace=False)\n",
    "        else:\n",
    "          selected_ind_i = np.random.choice(ind_i, size=counts[i], replace=True)\n",
    "        subset_index = subset_index + list(selected_ind_i)\n",
    "\n",
    "      subset_index = np.array(subset_index)\n",
    "\n",
    "      y_feature_test.append(utility_func(x_train[subset_index], y_train[subset_index], x_val, y_val))\n",
    "      X_feature_test.append( subset_index )\n",
    "    else:\n",
    "      y_feature_test.append(0.1)\n",
    "      X_feature_test.append( np.array([]) )\n",
    "\n",
    "  return X_feature_test, y_feature_test"
   ]
  },
  {
   "cell_type": "markdown",
   "metadata": {
    "id": "8GAMKeuA9kaA"
   },
   "source": [
    "### Deep Sets"
   ]
  },
  {
   "cell_type": "code",
   "execution_count": 3,
   "metadata": {
    "id": "RTtXlOWs9kaB"
   },
   "outputs": [],
   "source": [
    "class DeepSet(nn.Module):\n",
    "\n",
    "    def __init__(self, in_features, set_features=128, hidden_ext=128, hidden_reg=128):\n",
    "        super(DeepSet, self).__init__()\n",
    "        self.in_features = in_features\n",
    "        self.out_features = set_features\n",
    "        self.feature_extractor = nn.Sequential(\n",
    "            nn.Linear(in_features, hidden_ext, bias=False),\n",
    "            nn.ELU(inplace=True),\n",
    "            nn.Linear(hidden_ext, hidden_ext, bias=False),\n",
    "            nn.ELU(inplace=True),\n",
    "            nn.Linear(hidden_ext, set_features, bias=False)\n",
    "        )\n",
    "\n",
    "        self.regressor = nn.Sequential(\n",
    "            nn.Linear(set_features, hidden_reg, bias=False),\n",
    "            nn.ELU(inplace=True),\n",
    "            nn.Linear(hidden_reg, hidden_reg, bias=False),\n",
    "            nn.ELU(inplace=True),\n",
    "            nn.Linear(hidden_reg, int(hidden_reg/2), bias=False),\n",
    "            nn.ELU(inplace=True)\n",
    "        )\n",
    "\n",
    "        self.linear = nn.Linear(int(hidden_reg/2), 1)\n",
    "        self.sigmoid = nn.Sigmoid()\n",
    "        \n",
    "        self.add_module('0', self.feature_extractor)\n",
    "        self.add_module('1', self.regressor)\n",
    "        \n",
    "    def reset_parameters(self):\n",
    "        for module in self.children():\n",
    "            reset_op = getattr(module, \"reset_parameters\", None)\n",
    "            if callable(reset_op):\n",
    "                reset_op()\n",
    "            \n",
    "    def forward(self, input):\n",
    "        x = input\n",
    "        x = self.feature_extractor(x)\n",
    "        x = x.sum(dim=1)\n",
    "        x = self.regressor(x)\n",
    "        x = self.linear(x)\n",
    "        x = self.sigmoid(x)\n",
    "        return x\n",
    "\n",
    "    def __repr__(self):\n",
    "        return self.__class__.__name__ + '(' \\\n",
    "            + 'Feature Exctractor=' + str(self.feature_extractor) \\\n",
    "            + '\\n Set Feature' + str(self.regressor) + ')'\n",
    "\n",
    "\n",
    "class DeepSet_cifar(nn.Module):\n",
    "\n",
    "    def __init__(self, in_features, set_features=512):\n",
    "        super(DeepSet_cifar, self).__init__()\n",
    "        self.in_features = in_features\n",
    "        self.out_features = set_features\n",
    "        self.feature_extractor = nn.Sequential(\n",
    "            nn.Linear(in_features, 512),\n",
    "            nn.ELU(inplace=True),\n",
    "            nn.Linear(512, 512),\n",
    "            nn.ELU(inplace=True),\n",
    "            nn.Linear(512, set_features)\n",
    "        )\n",
    "\n",
    "        self.regressor = nn.Sequential(\n",
    "            nn.Linear(set_features, 512),\n",
    "            nn.ELU(inplace=True),\n",
    "            nn.Linear(512, 512),\n",
    "            nn.ELU(inplace=True),\n",
    "            nn.Linear(512, 512),\n",
    "            nn.ELU(inplace=True),\n",
    "            nn.Linear(512, 1),\n",
    "            nn.Sigmoid()\n",
    "        )\n",
    "        \n",
    "        self.add_module('0', self.feature_extractor)\n",
    "        self.add_module('1', self.regressor)\n",
    "        \n",
    "        \n",
    "    def reset_parameters(self):\n",
    "        for module in self.children():\n",
    "            reset_op = getattr(module, \"reset_parameters\", None)\n",
    "            if callable(reset_op):\n",
    "                reset_op()\n",
    "            \n",
    "    def forward(self, input):\n",
    "        x = input\n",
    "        x = self.feature_extractor(x)\n",
    "        x = x.sum(dim=1)\n",
    "        x = self.regressor(x)\n",
    "        return x\n",
    "\n",
    "    def __repr__(self):\n",
    "        return self.__class__.__name__ + '(' \\\n",
    "            + 'Feature Exctractor=' + str(self.feature_extractor) \\\n",
    "            + '\\n Set Feature' + str(self.regressor) + ')'"
   ]
  },
  {
   "cell_type": "markdown",
   "metadata": {
    "id": "woCNVXrjaeIX"
   },
   "source": [
    "### Deepset Utility Learning Model"
   ]
  },
  {
   "cell_type": "code",
   "execution_count": 4,
   "metadata": {
    "id": "nsWXqmyHaaI1"
   },
   "outputs": [],
   "source": [
    "class Utility_deepset(object):\n",
    "\n",
    "    def __init__(self, model=None):\n",
    "\n",
    "        \"\"\"\n",
    "        if model is None:\n",
    "          self.model = DeepSet(in_dims).cuda()\n",
    "        else:\n",
    "          self.model = model.cuda()\n",
    "        \"\"\"\n",
    "\n",
    "        self.model = model\n",
    "\n",
    "        self.model.linear.bias = torch.nn.Parameter(torch.tensor([-2.1972]))\n",
    "        self.model.linear.bias.requires_grad = False\n",
    "        #print(self.model.linear.bias)\n",
    "        self.model.cuda()\n",
    "        #print(self.model.linear.bias)\n",
    "        \n",
    "        self.l1 = nn.L1Loss()\n",
    "        self.l2 = nn.MSELoss(reduction='sum')\n",
    "        \n",
    "    # train_data: x_train_few\n",
    "    # train_set: (X_feature, y_feature)\n",
    "    # valid_set: (X_feature_test, y_feature_test)\n",
    "    def fit(self, train_data, train_set, valid_set, n_epoch, batch_size=32, lr=1e-3):\n",
    "\n",
    "        self.optim = optim.Adam(self.model.parameters(), lr)\n",
    "\n",
    "        #scheduler = StepLR(self.optim, step_size=10, gamma=0.1)\n",
    "        scheduler = MultiStepLR(self.optim, milestones=[10,15], gamma=0.1)\n",
    "\n",
    "        train_data = copy.deepcopy(train_data)\n",
    "        N = train_data.shape[0]\n",
    "        k = train_data.shape[1]\n",
    "\n",
    "        X_feature, y_feature = train_set\n",
    "        X_feature_test, y_feature_test = valid_set\n",
    "        train_size = len(y_feature)\n",
    "\n",
    "        for epoch in range(n_epoch):\n",
    "\n",
    "          # Shuffle training utility samples\n",
    "          ind = np.arange(train_size, dtype=int)\n",
    "          np.random.shuffle(ind)\n",
    "          X_feature = [X_feature[i] for i in ind]\n",
    "          y_feature = y_feature[ind]\n",
    "\n",
    "          train_loss = 0\n",
    "          start_ind = 0\n",
    "\n",
    "          for j in range(train_size//batch_size):\n",
    "            start_ind = j*batch_size\n",
    "            batch_X, batch_y = [], []\n",
    "            for i in range(start_ind, min(start_ind+batch_size, train_size)):\n",
    "\n",
    "              b = np.zeros((N, k))\n",
    "              if len(X_feature[i]) > 0:\n",
    "                selected_train_data = train_data[X_feature[i]]\n",
    "                b[:len(X_feature[i])] = selected_train_data\n",
    "\n",
    "              batch_X.append( b )\n",
    "              batch_y.append( [y_feature[i]] )\n",
    "\n",
    "            batch_X = np.stack(batch_X)\n",
    "            batch_X, batch_y = torch.FloatTensor(batch_X).cuda(), torch.FloatTensor(batch_y).cuda()\n",
    "\n",
    "            self.optim.zero_grad()\n",
    "            y_pred = self.model(batch_X)\n",
    "            loss = self.l2(y_pred, batch_y)\n",
    "            loss_val = np.asscalar(loss.data.cpu().numpy())\n",
    "            loss.backward()\n",
    "            self.optim.step()\n",
    "            train_loss += loss_val\n",
    "          train_loss /= train_size\n",
    "          test_loss = self.evaluate(train_data, valid_set)\n",
    "          scheduler.step()\n",
    "          print('Epoch %s Train Loss %s Test Loss %s' % (epoch, train_loss, test_loss))\n",
    "          # print(self.model.linear.bias)\n",
    "    \n",
    "    def evaluate(self, train_data, valid_set):\n",
    "\n",
    "        N, k = train_data.shape\n",
    "        X_feature_test, y_feature_test = valid_set\n",
    "\n",
    "        test_size = len(y_feature_test)\n",
    "        test_loss = 0\n",
    "\n",
    "        for i in range(test_size):\n",
    "\n",
    "            b = np.zeros((N, k))\n",
    "            if len(X_feature_test[i]) > 0:\n",
    "              selected_train_data = train_data[X_feature_test[i]]\n",
    "              b[:len(X_feature_test[i])] = selected_train_data\n",
    "\n",
    "            batch_X, batch_y = torch.FloatTensor(b).cuda(), torch.FloatTensor(y_feature_test[i:i+1]).cuda()\n",
    "            batch_X, batch_y = batch_X.reshape((1, N, k)), batch_y.reshape((1, 1))\n",
    "            y_pred = self.model(batch_X)\n",
    "\n",
    "            loss = self.l2(y_pred, batch_y)\n",
    "            loss_val = np.asscalar(loss.data.cpu().numpy())\n",
    "            test_loss += loss_val\n",
    "        test_loss /= test_size\n",
    "        return test_loss\n",
    "\n",
    "\n",
    "def array_to_lst(X_feature):\n",
    "\n",
    "  if type(X_feature) == list:\n",
    "    return X_feature\n",
    "\n",
    "  X_feature = list(X_feature)\n",
    "  for i in range(len(X_feature)):\n",
    "    X_feature[i] = X_feature[i].nonzero()[0]\n",
    "  return X_feature\n",
    "\n",
    "\n",
    "def findMostValuableSample_deepset_greedy(model, unlabeled_set, target_size):\n",
    "\n",
    "  model = model.cuda()\n",
    "\n",
    "  N, input_dim = unlabeled_set.shape\n",
    "  k = target_size\n",
    "\n",
    "  selected_subset = np.zeros(N)\n",
    "  selected_rank = []\n",
    "  selected_data = np.zeros((N, input_dim))\n",
    "\n",
    "  for i in range(k):\n",
    "    print(i)\n",
    "    maxIndex, maxVal = -1, -1\n",
    "    prevUtility = model(torch.FloatTensor(selected_data.reshape((1, N, input_dim))).cuda())\n",
    "    searchRange = np.where(selected_subset == 0)[0]\n",
    "    for j in searchRange:\n",
    "      selected_subset[j] = 1\n",
    "      selected_data[j] = unlabeled_set[j]\n",
    "      utility = model(torch.FloatTensor(selected_data.reshape((1, N, input_dim))).cuda())\n",
    "      selected_subset[j] = 0\n",
    "      selected_data[j] = np.zeros(input_dim)\n",
    "      if utility - prevUtility > maxVal:\n",
    "        maxIndex = j\n",
    "        maxVal = utility - prevUtility\n",
    "    selected_subset[maxIndex] = 1\n",
    "    selected_rank.append(maxIndex)\n",
    "    selected_data[maxIndex] = unlabeled_set[maxIndex]\n",
    "\n",
    "  return selected_subset, selected_rank, selected_data\n",
    "\n",
    "\n",
    "def findMostValuableSample_deepset_stochasticgreedy(model, unlabeled_set, target_size, epsilon, seed, verbose=False, debug=False, label=None):\n",
    "\n",
    "  model = model.cuda()\n",
    "\n",
    "  N, input_dim = unlabeled_set.shape\n",
    "  k = target_size\n",
    "\n",
    "  selected_subset = np.zeros(N)\n",
    "  selected_rank = []\n",
    "\n",
    "  R = int((N/k)*np.log(1/epsilon))\n",
    "  \n",
    "  print('Sample Size R={}'.format(R))\n",
    "\n",
    "  if debug:\n",
    "    R = 10\n",
    "    print('Sample Size R={}'.format(R))\n",
    "\n",
    "  np.random.seed(seed)\n",
    "  selected_data = np.zeros((N, input_dim))\n",
    "\n",
    "  for i in range(k):\n",
    "    if verbose: print(i)\n",
    "    \n",
    "    maxIndex, maxVal = -1, -1\n",
    "\n",
    "    prevUtility = model(torch.FloatTensor(selected_data.reshape((1, N, input_dim))).cuda())\n",
    "    searchRange = np.where(selected_subset == 0)[0]\n",
    "\n",
    "    if debug:\n",
    "      print('Step {}, prevUtility={}'.format(i, prevUtility))\n",
    "\n",
    "    if R < len(searchRange):\n",
    "      searchRange = np.random.choice(searchRange, size=R, replace=False)\n",
    "\n",
    "    for j in searchRange:\n",
    "      selected_subset[j] = 1\n",
    "      selected_data[j] = unlabeled_set[j]\n",
    "      utility = model(torch.FloatTensor(selected_data.reshape((1, N, input_dim))).cuda())\n",
    "      selected_subset[j] = 0\n",
    "      selected_data[j] = np.zeros(input_dim)\n",
    "      gain = (utility - prevUtility).cpu().detach().numpy()[0][0]\n",
    "\n",
    "      if gain > maxVal:\n",
    "        maxIndex = j\n",
    "        maxVal = gain\n",
    "\n",
    "      if debug:\n",
    "        print('  Gain from {} is {}, label={}'.format(j, gain, label[j]))\n",
    "        print('  maxIndex={}, maxVal={}, labelMaxIndex={}'.format(maxIndex, maxVal, label[maxIndex]))\n",
    "      \n",
    "    selected_subset[maxIndex] = 1\n",
    "    selected_rank.append(maxIndex)\n",
    "    selected_data[maxIndex] = unlabeled_set[maxIndex]\n",
    "\n",
    "  return selected_subset, selected_rank, selected_data"
   ]
  },
  {
   "cell_type": "markdown",
   "metadata": {
    "id": "RUT5yfazGjhX"
   },
   "source": [
    "### FASS"
   ]
  },
  {
   "cell_type": "code",
   "execution_count": 5,
   "metadata": {
    "id": "HCXWztKTGjhX"
   },
   "outputs": [],
   "source": [
    "class PyTorchFlatten(nn.Module):\n",
    "    def forward(self, input):\n",
    "        return input.view(input.size(0), -1)\n",
    "\n",
    "class LogisticRegression(torch.nn.Module):\n",
    "    def __init__(self, input_dim, output_dim):\n",
    "        super(LogisticRegression, self).__init__()\n",
    "        self.flatten = PyTorchFlatten()\n",
    "        self.linear = torch.nn.Linear(input_dim, output_dim)\n",
    "        torch.nn.init.xavier_uniform(self.linear.weight)\n",
    "        torch.nn.init.zeros_(self.linear.bias)\n",
    "\n",
    "    def forward(self, x, last=False):\n",
    "        x = self.flatten(x)\n",
    "        outputs = self.linear(x)\n",
    "        if last:\n",
    "            return outputs, x\n",
    "        else:\n",
    "            return outputs\n",
    "\n",
    "    def get_embedding_dim(self):\n",
    "        return 28*28\n",
    "\n",
    "\n",
    "class MnistLeNet(torch.nn.Module):\n",
    "    def __init__(self):\n",
    "        super(MnistLeNet, self).__init__()\n",
    "\n",
    "        self.conv1 = nn.Conv2d(in_channels=1, out_channels=20, kernel_size=5, stride=1, padding_mode='replicate')\n",
    "        self.maxpool = nn.MaxPool2d(kernel_size=2, stride=2)\n",
    "\n",
    "        self.linear1 = nn.Linear(in_features=2880, out_features=500)\n",
    "        self.relu = nn.ReLU()\n",
    "        self.linear2 = nn.Linear(in_features=500, out_features=10)\n",
    "\n",
    "        torch.nn.init.xavier_uniform(self.conv1.weight)\n",
    "        torch.nn.init.zeros_(self.conv1.bias)\n",
    "\n",
    "        torch.nn.init.xavier_uniform(self.linear1.weight)\n",
    "        torch.nn.init.zeros_(self.linear1.bias)\n",
    "\n",
    "        torch.nn.init.xavier_uniform(self.linear2.weight)\n",
    "        torch.nn.init.zeros_(self.linear2.bias)\n",
    "\n",
    "    def forward(self, x, last=False):\n",
    "        x = self.conv1(x)\n",
    "        x = self.relu(x)\n",
    "        x = self.maxpool(x)\n",
    "\n",
    "        x = torch.flatten(x, 1)\n",
    "        x = self.relu(self.linear1(x))\n",
    "        logits = self.linear2(x)\n",
    "        outputs = F.softmax(logits, dim=1)\n",
    "\n",
    "        if last:\n",
    "            return outputs, x\n",
    "        else:\n",
    "            return outputs\n",
    "\n",
    "    def get_embedding_dim(self):\n",
    "        return 500\n",
    "\n",
    "from torch.utils.data import Dataset, DataLoader, TensorDataset\n",
    "\n",
    "def torch_mnist_logistic_data_to_acc(x_train, y_train, verbose=0):\n",
    "\n",
    "  criterion = torch.nn.CrossEntropyLoss()\n",
    "  net = LogisticRegression(28*28, 10)\n",
    "  optimizer = torch.optim.Adam(net.parameters(), lr=0.001, eps=1e-7)\n",
    "\n",
    "  tensor_x, tensor_y = torch.Tensor(x_train), torch.Tensor(y_train)\n",
    "  fewshot_dataset = TensorDataset(tensor_x,tensor_y)\n",
    "  train_loader = DataLoader(dataset=fewshot_dataset, batch_size=32, shuffle=True)\n",
    "  tensor_x_test, tensor_y_test = torch.Tensor(x_test), torch.Tensor(y_test)\n",
    "  test_dataset = TensorDataset(tensor_x_test,tensor_y_test)\n",
    "  test_loader = DataLoader(dataset=test_dataset, batch_size=32, shuffle=False)\n",
    "\n",
    "  for epoch in range(5):\n",
    "      for i, (images, labels) in enumerate(train_loader):\n",
    "          images = Variable(images.view(-1, 28 * 28))\n",
    "          labels = Variable(labels)\n",
    "          labels = torch.argmax(labels, dim=1)\n",
    "          optimizer.zero_grad()\n",
    "          outputs = net(images)\n",
    "          loss = criterion(outputs, labels)\n",
    "          loss.backward()\n",
    "          optimizer.step()\n",
    "      correct = 0\n",
    "      total = 0\n",
    "      for images, labels in test_loader:\n",
    "          images = Variable(images.view(-1, 28*28))\n",
    "          outputs = net(images)\n",
    "          _, predicted = torch.max(outputs.data, 1)\n",
    "          total += labels.size(0)\n",
    "          labels = torch.argmax(labels, dim=1)\n",
    "          correct += (predicted == labels).sum()\n",
    "      accuracy = 100 * correct/total\n",
    "      if verbose:\n",
    "        print(\"Epoch: {}. Loss: {}. Accuracy: {}.\".format(epoch, loss.item(), accuracy))\n",
    "  print('Model Accuracy: {}'.format(accuracy))\n",
    "  return net"
   ]
  },
  {
   "cell_type": "markdown",
   "metadata": {
    "id": "oesTuGfx3G-9"
   },
   "source": [
    "## Add Gaussian Noise"
   ]
  },
  {
   "cell_type": "code",
   "execution_count": 6,
   "metadata": {
    "id": "PvGYLdeD3GVq"
   },
   "outputs": [
    {
     "ename": "ModuleNotFoundError",
     "evalue": "No module named 'google.colab'",
     "output_type": "error",
     "traceback": [
      "\u001b[0;31m---------------------------------------------------------------------------\u001b[0m",
      "\u001b[0;31mModuleNotFoundError\u001b[0m                       Traceback (most recent call last)",
      "\u001b[0;32m<ipython-input-6-cf53eabc2fff>\u001b[0m in \u001b[0;36m<module>\u001b[0;34m\u001b[0m\n\u001b[0;32m----> 1\u001b[0;31m \u001b[0;32mfrom\u001b[0m \u001b[0mgoogle\u001b[0m\u001b[0;34m.\u001b[0m\u001b[0mcolab\u001b[0m\u001b[0;34m.\u001b[0m\u001b[0mpatches\u001b[0m \u001b[0;32mimport\u001b[0m \u001b[0mcv2_imshow\u001b[0m\u001b[0;34m\u001b[0m\u001b[0;34m\u001b[0m\u001b[0m\n\u001b[0m\u001b[1;32m      2\u001b[0m \u001b[0;34m\u001b[0m\u001b[0m\n\u001b[1;32m      3\u001b[0m \u001b[0;32mdef\u001b[0m \u001b[0maddGaussianNoise\u001b[0m\u001b[0;34m(\u001b[0m\u001b[0mx_train\u001b[0m\u001b[0;34m,\u001b[0m \u001b[0mscale\u001b[0m\u001b[0;34m=\u001b[0m\u001b[0;36m1\u001b[0m\u001b[0;34m)\u001b[0m\u001b[0;34m:\u001b[0m\u001b[0;34m\u001b[0m\u001b[0;34m\u001b[0m\u001b[0m\n\u001b[1;32m      4\u001b[0m   \u001b[0;32mreturn\u001b[0m \u001b[0mnp\u001b[0m\u001b[0;34m.\u001b[0m\u001b[0mclip\u001b[0m\u001b[0;34m(\u001b[0m\u001b[0mx_train\u001b[0m\u001b[0;34m+\u001b[0m\u001b[0mnp\u001b[0m\u001b[0;34m.\u001b[0m\u001b[0mrandom\u001b[0m\u001b[0;34m.\u001b[0m\u001b[0mnormal\u001b[0m\u001b[0;34m(\u001b[0m\u001b[0mscale\u001b[0m\u001b[0;34m=\u001b[0m\u001b[0mscale\u001b[0m\u001b[0;34m,\u001b[0m \u001b[0msize\u001b[0m\u001b[0;34m=\u001b[0m\u001b[0mx_train\u001b[0m\u001b[0;34m.\u001b[0m\u001b[0mshape\u001b[0m\u001b[0;34m)\u001b[0m\u001b[0;34m,\u001b[0m \u001b[0;36m0\u001b[0m\u001b[0;34m,\u001b[0m \u001b[0;36m1\u001b[0m\u001b[0;34m)\u001b[0m\u001b[0;34m\u001b[0m\u001b[0;34m\u001b[0m\u001b[0m\n",
      "\u001b[0;31mModuleNotFoundError\u001b[0m: No module named 'google.colab'"
     ]
    }
   ],
   "source": [
    "from google.colab.patches import cv2_imshow\n",
    "\n",
    "def addGaussianNoise(x_train, scale=1):\n",
    "  return np.clip(x_train+np.random.normal(scale=scale, size=x_train.shape), 0, 1)"
   ]
  },
  {
   "cell_type": "markdown",
   "metadata": {
    "id": "EbHd-GDp8czQ"
   },
   "source": [
    "## cyCADA"
   ]
  },
  {
   "cell_type": "code",
   "execution_count": 7,
   "metadata": {
    "id": "BYjVPou48czR"
   },
   "outputs": [],
   "source": [
    "import torch\n",
    "import torch.nn as nn\n",
    "from torch.nn import init\n",
    "import numpy as np\n",
    "import torchvision\n",
    "\n",
    "models = {}\n",
    "def register_model(name):\n",
    "    def decorator(cls):\n",
    "        models[name] = cls\n",
    "        return cls\n",
    "    return decorator\n",
    "\n",
    "def get_model(name, num_cls=10, **args):\n",
    "    net = models[name](num_cls=num_cls, **args)\n",
    "    if torch.cuda.is_available():\n",
    "        net = net.cuda()\n",
    "    return net\n",
    "\n",
    "\"\"\"\n",
    "def init_weights(obj):\n",
    "    for m in obj.modules():\n",
    "        if isinstance(m, nn.Conv2d) or isinstance(m, nn.Linear):\n",
    "            init.xavier_normal_(m.weight)\n",
    "            print(m)\n",
    "            m.bias.data.zero_()\n",
    "        elif isinstance(m, nn.BatchNorm2d) or isinstance(m, nn.BatchNorm1d):\n",
    "            m.reset_parameters()\n",
    "\"\"\"\n",
    "\n",
    "def init_weights(obj):\n",
    "    for m in obj.modules():\n",
    "        if isinstance(m, nn.Conv2d) or isinstance(m, nn.Linear):\n",
    "            init.xavier_normal_(m.weight)\n",
    "            if m.bias is not None:\n",
    "                m.bias.data.zero_()\n",
    "        elif isinstance(m, nn.BatchNorm2d) or isinstance(m, nn.BatchNorm1d):\n",
    "            m.reset_parameters()\n",
    "\n",
    "class TaskNet(nn.Module):\n",
    "\n",
    "    num_channels = 3\n",
    "    image_size = 32\n",
    "    name = 'TaskNet'\n",
    "\n",
    "    \"Basic class which does classification.\"\n",
    "    def __init__(self, num_cls=10, weights_init=None):\n",
    "        super(TaskNet, self).__init__()\n",
    "        self.num_cls = num_cls\n",
    "        self.setup_net()\n",
    "        self.criterion = nn.CrossEntropyLoss()\n",
    "        if weights_init is not None:\n",
    "            self.load(weights_init)\n",
    "        else:\n",
    "            # import pdb;pdb.set_trace()\n",
    "            init_weights(self)\n",
    "\n",
    "    def forward(self, x, with_ft=False):\n",
    "        x = self.conv_params(x) #NOTE input x shape: bs* 1* image_size*image_size\n",
    "        x = x.view(x.size(0), -1)\n",
    "        # import pdb; pdb.set_trace()\n",
    "        x = self.fc_params(x)\n",
    "        score = self.classifier(x) # bs * num_cls\n",
    "        if with_ft:\n",
    "            return score, x\n",
    "        else:\n",
    "            return score\n",
    "\n",
    "    def setup_net(self):\n",
    "        \"\"\"Method to be implemented in each class.\"\"\"\n",
    "        pass\n",
    "\n",
    "    def load(self, init_path):\n",
    "        net_init_dict = torch.load(init_path)\n",
    "        self.load_state_dict(net_init_dict)\n",
    "\n",
    "    def save(self, out_path):\n",
    "        torch.save(self.state_dict(), out_path)\n",
    "    \n",
    "    def get_embedding_dim(self):\n",
    "        return 512\n",
    "    \n",
    "\n",
    "\n",
    "\n",
    "@register_model('resnet18')\n",
    "class ResNetClassifier(TaskNet):\n",
    "    \"Classifier used for VisDA2017 Experiment\"\n",
    "\n",
    "    num_channels = 3\n",
    "    image_size = 32\n",
    "    name = 'resnet18'\n",
    "    out_dim = 512  # dim of last feature layer\n",
    "    \n",
    "    def get_embedding_dim(self):\n",
    "        return out_dim\n",
    "    \n",
    "    def setup_net(self):\n",
    "        model_resnet18 = torchvision.models.resnet18(pretrained=True)\n",
    "        # pdb.set_trace()\n",
    "        layers = [\n",
    "                model_resnet18.conv1, \n",
    "                model_resnet18.bn1, \n",
    "                model_resnet18.relu,\n",
    "                model_resnet18.maxpool,\n",
    "                model_resnet18.layer1,\n",
    "                model_resnet18.layer2,\n",
    "                model_resnet18.layer3, # 1024\n",
    "                model_resnet18.layer4, # \n",
    "                model_resnet18.avgpool\n",
    "                ]\n",
    "\n",
    "        self.conv_params = nn.Sequential(*layers)\n",
    "\n",
    "        self.fc_params = nn.Sequential (\n",
    "                nn.Linear(512, 512),\n",
    "                nn.BatchNorm1d(512),\n",
    "                )\n",
    "\n",
    "        self.classifier = nn.Sequential(\n",
    "                nn.ReLU(),\n",
    "                nn.Dropout(),\n",
    "                nn.Linear(512, self.num_cls)\n",
    "                )\n",
    "        self.get_embedding_dim = 512\n",
    "\n",
    "\n",
    "\n",
    "@register_model('AddaNet')\n",
    "class AddaNet(nn.Module):\n",
    "    \"Defines and Adda Network.\"\n",
    "    def __init__(self, num_cls=10, model='LeNet', src_weights_init=None,\n",
    "            weights_init=None):\n",
    "        super(AddaNet, self).__init__()\n",
    "        self.name = 'AddaNet'\n",
    "        self.base_model = model\n",
    "        self.num_cls = num_cls\n",
    "        self.cls_criterion = nn.CrossEntropyLoss()\n",
    "        self.gan_criterion = nn.CrossEntropyLoss()\n",
    "      \n",
    "        self.setup_net()\n",
    "        if weights_init is not None:\n",
    "            self.load(weights_init)\n",
    "        elif src_weights_init is not None:\n",
    "            self.load_src_net(src_weights_init)\n",
    "        else:\n",
    "            raise Exception('AddaNet must be initialized with weights.')\n",
    "        \n",
    "\n",
    "    def forward(self, x_s, x_t):\n",
    "        \"\"\"Pass source and target images through their\n",
    "        respective networks.\"\"\"\n",
    "        score_s, x_s = self.src_net(x_s, with_ft=True)\n",
    "        score_t, x_t = self.tgt_net(x_t, with_ft=True)\n",
    "\n",
    "        if self.discrim_feat:\n",
    "            d_s = self.discriminator(x_s)\n",
    "            d_t = self.discriminator(x_t)\n",
    "        else:\n",
    "            d_s = self.discriminator(score_s)\n",
    "            d_t = self.discriminator(score_t)\n",
    "        return score_s, score_t, d_s, d_t\n",
    "\n",
    "    def setup_net(self):\n",
    "        \"\"\"Setup source, target and discriminator networks.\"\"\"\n",
    "        self.src_net = get_model(self.base_model, num_cls=self.num_cls)\n",
    "        self.tgt_net = get_model(self.base_model, num_cls=self.num_cls)\n",
    "\n",
    "        input_dim = self.num_cls \n",
    "        self.discriminator = nn.Sequential(\n",
    "                nn.Linear(input_dim, 500),\n",
    "                nn.ReLU(),\n",
    "                nn.Linear(500, 500),\n",
    "                nn.ReLU(),\n",
    "                nn.Linear(500, 2),\n",
    "                )\n",
    "\n",
    "        self.image_size = self.src_net.image_size\n",
    "        self.num_channels = self.src_net.num_channels\n",
    "\n",
    "    def load(self, init_path):\n",
    "        \"Loads full src and tgt models.\"\n",
    "        net_init_dict = torch.load(init_path)\n",
    "        self.load_state_dict(net_init_dict)\n",
    "\n",
    "    def load_src_net(self, init_path):\n",
    "        \"\"\"Initialize source and target with source\n",
    "        weights.\"\"\"\n",
    "        self.src_net.load(init_path)\n",
    "        self.tgt_net.load(init_path)\n",
    "\n",
    "    def save(self, out_path):\n",
    "        torch.save(self.state_dict(), out_path)\n",
    "\n",
    "    def save_tgt_net(self, out_path):\n",
    "        torch.save(self.tgt_net.state_dict(), out_path)"
   ]
  },
  {
   "cell_type": "markdown",
   "metadata": {
    "id": "b6scPepRSnzE"
   },
   "source": [
    "## AFN"
   ]
  },
  {
   "cell_type": "code",
   "execution_count": 8,
   "metadata": {
    "colab": {
     "base_uri": "https://localhost:8080/",
     "height": 103
    },
    "id": "kuw5XU5vSqRv",
    "outputId": "d14ac664-5d77-45fa-a3ab-6624da38ee7b"
   },
   "outputs": [
    {
     "data": {
      "text/plain": [
       "'\\nclass ResClassifier(nn.Module):\\n    def __init__(self, class_num=12, extract=False):\\n        super(ResClassifier, self).__init__()\\n        self.fc1 = nn.Sequential(\\n            nn.Linear(1024, 512),\\n            nn.BatchNorm1d(512, affine=True),\\n            nn.ReLU(inplace=True),\\n            nn.Dropout()\\n            )\\n        self.fc3 = nn.Linear(512, class_num)\\n        self.extract = extract\\n\\n    def forward(self, x):\\n        fc1_emb = self.fc1(x)\\n        if self.training:\\n            fc1_emb.mul_(math.sqrt(0.5))\\n        # fc2_emb = self.fc2(fc1_emb)\\n        # if self.training:\\n        #     fc2_emb.mul_(math.sqrt(0.5))            \\n        logit = self.fc3(fc1_emb)\\n\\n        if self.extract:\\n            return fc1_emb, logit\\n        return logit\\n'"
      ]
     },
     "execution_count": 8,
     "metadata": {},
     "output_type": "execute_result"
    }
   ],
   "source": [
    "import numpy as np\n",
    "import torch\n",
    "import torch.nn as nn\n",
    "import torchvision\n",
    "from torchvision import models\n",
    "from torch.autograd import Variable\n",
    "import torch.nn.functional as F\n",
    "import math\n",
    "\n",
    "\n",
    "class ResBase101(nn.Module):\n",
    "    def __init__(self):\n",
    "        super(ResBase101, self).__init__()\n",
    "        model_resnet101 = torchvision.models.resnet101(pretrained=True)\n",
    "        self.conv1 = model_resnet101.conv1\n",
    "        self.bn1 = model_resnet101.bn1\n",
    "        self.relu = model_resnet101.relu\n",
    "        self.maxpool = model_resnet101.maxpool\n",
    "        self.layer1 = model_resnet101.layer1\n",
    "        self.layer2 = model_resnet101.layer2\n",
    "        self.layer3 = model_resnet101.layer3\n",
    "        self.layer4 = model_resnet101.layer4\n",
    "        self.avgpool = model_resnet101.avgpool\n",
    "\n",
    "    def forward(self, x):\n",
    "        x = self.conv1(x)\n",
    "        x = self.bn1(x)\n",
    "        x = self.relu(x)\n",
    "        x = self.maxpool(x)\n",
    "        x = self.layer1(x)\n",
    "        x = self.layer2(x)\n",
    "        x = self.layer3(x)\n",
    "        x = self.layer4(x)\n",
    "        x = self.avgpool(x)\n",
    "        x = x.view(x.size(0), -1)\n",
    "        return x\n",
    "\n",
    "class ResBase50(nn.Module):\n",
    "    def __init__(self):\n",
    "        super(ResBase50, self).__init__()\n",
    "        model_resnet50 = models.resnet50(pretrained=True)\n",
    "        self.conv1 = model_resnet50.conv1\n",
    "        self.bn1 = model_resnet50.bn1\n",
    "        self.relu = model_resnet50.relu\n",
    "        self.maxpool = model_resnet50.maxpool\n",
    "        self.layer1 = model_resnet50.layer1\n",
    "        self.layer2 = model_resnet50.layer2\n",
    "        self.layer3 = model_resnet50.layer3\n",
    "        self.layer4 = model_resnet50.layer4\n",
    "        self.avgpool = model_resnet50.avgpool\n",
    "\n",
    "    def forward(self, x):\n",
    "        x = self.conv1(x)\n",
    "        x = self.bn1(x)\n",
    "        x = self.relu(x)\n",
    "        x = self.maxpool(x)\n",
    "        x = self.layer1(x)\n",
    "        x = self.layer2(x)\n",
    "        x = self.layer3(x)\n",
    "        x = self.layer4(x)\n",
    "        x = self.avgpool(x)\n",
    "        x = x.view(x.size(0), -1)\n",
    "        return x\n",
    "\n",
    "class ResClassifier(nn.Module):\n",
    "    def __init__(self, class_num=12, extract=False):\n",
    "        super(ResClassifier, self).__init__()\n",
    "        self.fc1 = nn.Sequential(\n",
    "            nn.Linear(2048, 1000),\n",
    "            nn.BatchNorm1d(1000, affine=True),\n",
    "            nn.ReLU(inplace=True),\n",
    "            nn.Dropout()\n",
    "            )\n",
    "        self.fc2 = nn.Sequential(\n",
    "            nn.Linear(1000, 1000),\n",
    "            nn.BatchNorm1d(1000, affine=True),\n",
    "            nn.ReLU(inplace=True),\n",
    "            nn.Dropout()\n",
    "            )\n",
    "        self.fc3 = nn.Linear(1000, class_num)\n",
    "        self.extract = extract\n",
    "\n",
    "    def forward(self, x):\n",
    "        fc1_emb = self.fc1(x)\n",
    "        if self.training:\n",
    "            fc1_emb.mul_(math.sqrt(0.5))\n",
    "        fc2_emb = self.fc2(fc1_emb)\n",
    "        if self.training:\n",
    "            fc2_emb.mul_(math.sqrt(0.5))            \n",
    "        logit = self.fc3(fc2_emb)\n",
    "\n",
    "        if self.extract:\n",
    "            return fc2_emb, logit\n",
    "        return logit\n",
    "\n",
    "class ResBase18(nn.Module):\n",
    "    def __init__(self):\n",
    "        super(ResBase18, self).__init__()\n",
    "        model_resnet18 = models.resnet18(pretrained=True)\n",
    "        self.conv1 = model_resnet18.conv1\n",
    "        self.bn1 = model_resnet18.bn1\n",
    "        self.relu = model_resnet18.relu\n",
    "        self.maxpool = model_resnet18.maxpool\n",
    "        self.layer1 = model_resnet18.layer1\n",
    "        self.layer2 = model_resnet18.layer2\n",
    "        self.layer3 = model_resnet18.layer3 # 1024\n",
    "        # self.layer4 = model_resnet18.layer4\n",
    "        # self.avgpool = model_resnet18.avgpool\n",
    "\n",
    "    def forward(self, x):\n",
    "        x = self.conv1(x)\n",
    "        x = self.bn1(x)\n",
    "        x = self.relu(x)\n",
    "        x = self.maxpool(x)\n",
    "        x = self.layer1(x)\n",
    "        x = self.layer2(x)\n",
    "        x = self.layer3(x)\n",
    "        # x = self.layer4(x)\n",
    "        # x = self.avgpool(x)\n",
    "        x = x.view(x.size(0), -1)\n",
    "        return x\n",
    "\n",
    "'''\n",
    "class ResClassifier(nn.Module):\n",
    "    def __init__(self, class_num=12, extract=False):\n",
    "        super(ResClassifier, self).__init__()\n",
    "        self.fc1 = nn.Sequential(\n",
    "            nn.Linear(1024, 512),\n",
    "            nn.BatchNorm1d(512, affine=True),\n",
    "            nn.ReLU(inplace=True),\n",
    "            nn.Dropout()\n",
    "            )\n",
    "        self.fc3 = nn.Linear(512, class_num)\n",
    "        self.extract = extract\n",
    "\n",
    "    def forward(self, x):\n",
    "        fc1_emb = self.fc1(x)\n",
    "        if self.training:\n",
    "            fc1_emb.mul_(math.sqrt(0.5))\n",
    "        # fc2_emb = self.fc2(fc1_emb)\n",
    "        # if self.training:\n",
    "        #     fc2_emb.mul_(math.sqrt(0.5))            \n",
    "        logit = self.fc3(fc1_emb)\n",
    "\n",
    "        if self.extract:\n",
    "            return fc1_emb, logit\n",
    "        return logit\n",
    "'''"
   ]
  },
  {
   "cell_type": "markdown",
   "metadata": {
    "id": "pW1R9yXTyIOz"
   },
   "source": [
    "## Image Preprocess"
   ]
  },
  {
   "cell_type": "code",
   "execution_count": 9,
   "metadata": {
    "id": "hWjgMycJNEI4"
   },
   "outputs": [],
   "source": [
    "def cifar_encoderProcess(x_train, y_train, x_test, y_test):\n",
    "\n",
    "  N_train = len(y_train)\n",
    "  N_test = len(y_test)\n",
    "\n",
    "\n",
    "  # x_train = x_train.astype(np.float32)\n",
    "  # x_test = x_test.astype(np.float32)\n",
    "  # x_train = np.moveaxis(x_train, 1, 3)\n",
    "  # x_test = np.moveaxis(x_test, 1, 3)\n",
    "\n",
    "  x_train = torch.from_numpy(x_train)\n",
    "  x_test = torch.from_numpy(x_test) # tensor of shape 3, 32, 32\n",
    "  \n",
    "  x_transfer = transforms.Compose([\n",
    "                      transforms.ToPILImage(), #Tensor of shape C x H x W or a numpy ndarray of shape H x W x C\n",
    "                      transforms.ToTensor(),\n",
    "                      # transforms.Normalize((0.5, 0.5, 0.5), (0.5, 0.5, 0.5))\n",
    "                      transforms.Normalize((0.4914, 0.4822, 0.4465), (0.2470, 0.2430, 0.2610))\n",
    "                      ])\n",
    "\n",
    "  x_train_r = []\n",
    "  for i in range(x_train.shape[0]):\n",
    "    # import pdb; pdb.set_trace()\n",
    "    x_r = x_transfer(x_train[i])\n",
    "    x_train_r.append(x_r)\n",
    "\n",
    "  b = torch.Tensor(N_train, 3, 32, 32)\n",
    "  x_train_r = torch.cat(x_train_r, out=b)\n",
    "  x_train_r = x_train_r.reshape(N_train, 3, 32, 32)\n",
    "\n",
    "  x_test_r = []\n",
    "  for i in range(x_test.shape[0]):\n",
    "    x_r = x_transfer(x_test[i])\n",
    "    x_test_r.append(x_r)\n",
    "\n",
    "  b = torch.Tensor(N_test, 3, 32, 32)\n",
    "  x_test_r = torch.cat(x_test_r, out=b)\n",
    "  x_test_r = x_test_r.reshape(N_test, 3, 32, 32)\n",
    "\n",
    "  y_train = torch.Tensor(y_train).long()\n",
    "  y_test = torch.Tensor(y_test).long()\n",
    "\n",
    "  return x_train_r, y_train, x_test_r, y_test"
   ]
  },
  {
   "cell_type": "markdown",
   "metadata": {
    "id": "WgOURpFP7u-3"
   },
   "source": [
    "### VISDA"
   ]
  },
  {
   "cell_type": "code",
   "execution_count": 10,
   "metadata": {
    "id": "AqOsO0xkVYA4"
   },
   "outputs": [],
   "source": [
    "from torchvision import transforms\n",
    "\n",
    "def visda_encoder_process(x_train, y_train, x_test, y_test):\n",
    "  \n",
    "  N_train = len(y_train)\n",
    "  N_test = len(y_test)\n",
    "\n",
    "  x_transfer = transforms.Compose([\n",
    "                      transforms.ToPILImage(), #Tensor of shape C x H x W or a numpy ndarray of shape H x W x C\n",
    "                      transforms.Resize((32, 32)),\n",
    "                      transforms.ToTensor(),\n",
    "                      ])\n",
    "\n",
    "  x_train_r = []\n",
    "  for i in range(x_train.shape[0]):\n",
    "    # import pdb; pdb.set_trace()\n",
    "    x_r = x_transfer(x_train[i])\n",
    "    x_train_r.append(x_r)\n",
    "\n",
    "  b = torch.Tensor(N_train, 3, 32, 32)\n",
    "  x_train_r = torch.cat(x_train_r, out=b)\n",
    "  x_train_r = x_train_r.reshape(N_train, 3, 32, 32)\n",
    "\n",
    "  x_test_r = []\n",
    "  for i in range(x_test.shape[0]):\n",
    "    x_r = x_transfer(x_test[i])\n",
    "    x_test_r.append(x_r)\n",
    "\n",
    "  b = torch.Tensor(N_test, 3, 32, 32)\n",
    "  x_test_r = torch.cat(x_test_r, out=b)\n",
    "  x_test_r = x_test_r.reshape(N_test, 3, 32, 32)\n",
    "\n",
    "  # y_train = torch.Tensor(y_train).long()\n",
    "  # y_test = torch.Tensor(y_test).long()\n",
    "\n",
    "  return x_train_r, y_train, x_test_r, y_test\n",
    "  "
   ]
  },
  {
   "cell_type": "code",
   "execution_count": 13,
   "metadata": {
    "id": "BT0tKqa3Wr2p"
   },
   "outputs": [],
   "source": [
    "sample_dir = prefix + '/active-learning-transfer/samples/visda'\n",
    "# x_train_few_re, y_train_few_re, x_val_few_re, y_val_few_re = pickle.load(open(sample_dir + '/visda_src_500.data', 'rb'))"
   ]
  },
  {
   "cell_type": "code",
   "execution_count": null,
   "metadata": {
    "colab": {
     "base_uri": "https://localhost:8080/",
     "height": 164
    },
    "id": "HKfNuH1B6kgm",
    "outputId": "829bf709-134a-4797-cd8a-c0654c56ceb3"
   },
   "outputs": [
    {
     "ename": "NameError",
     "evalue": "ignored",
     "output_type": "error",
     "traceback": [
      "\u001b[0;31m---------------------------------------------------------------------------\u001b[0m",
      "\u001b[0;31mNameError\u001b[0m                                 Traceback (most recent call last)",
      "\u001b[0;32m<ipython-input-14-53933d1d08cc>\u001b[0m in \u001b[0;36m<module>\u001b[0;34m()\u001b[0m\n\u001b[0;32m----> 1\u001b[0;31m \u001b[0mprint\u001b[0m\u001b[0;34m(\u001b[0m\u001b[0mx_train_few_re\u001b[0m\u001b[0;34m.\u001b[0m\u001b[0mshape\u001b[0m\u001b[0;34m)\u001b[0m\u001b[0;34m\u001b[0m\u001b[0;34m\u001b[0m\u001b[0m\n\u001b[0m",
      "\u001b[0;31mNameError\u001b[0m: name 'x_train_few_re' is not defined"
     ]
    }
   ],
   "source": [
    "print(x_train_few_re.shape)"
   ]
  },
  {
   "cell_type": "markdown",
   "metadata": {
    "id": "vZ-e9olA9d_2"
   },
   "source": [
    "### VISDA data to acc"
   ]
  },
  {
   "cell_type": "code",
   "execution_count": 14,
   "metadata": {
    "id": "bPiMT9_a70BS"
   },
   "outputs": [],
   "source": [
    "def torch_visda_resnet_data_to_acc(x_train, y_train, x_test, y_test, verbose=0):\n",
    "\n",
    "  criterion = torch.nn.CrossEntropyLoss()\n",
    "  net = ResNetClassifier(num_cls=12).cuda()\n",
    "  optimizer = torch.optim.Adam(net.parameters(), lr=0.001, eps=1e-7)\n",
    "\n",
    "  tensor_x, tensor_y = torch.Tensor(x_train).cuda(), torch.Tensor(y_train).cuda()\n",
    "  fewshot_dataset = TensorDataset(tensor_x,tensor_y)\n",
    "  train_loader = DataLoader(dataset=fewshot_dataset, batch_size=64, shuffle=True, drop_last=True)\n",
    "  tensor_x_test, tensor_y_test = torch.Tensor(x_test).cuda(), torch.Tensor(y_test).cuda()\n",
    "  test_dataset = TensorDataset(tensor_x_test,tensor_y_test)\n",
    "  test_loader = DataLoader(dataset=test_dataset, batch_size=64, shuffle=False, drop_last=True)\n",
    "\n",
    "  for epoch in range(20):\n",
    "      for i, (images, labels) in enumerate(train_loader):\n",
    "          images = Variable(images)\n",
    "          labels = Variable(labels).long()\n",
    "          optimizer.zero_grad()\n",
    "          outputs = net(images)\n",
    "          loss = criterion(outputs, labels)\n",
    "          loss.backward()\n",
    "          optimizer.step()\n",
    "      correct = 0\n",
    "      total = 0\n",
    "      for images, labels in test_loader:\n",
    "          images = Variable(images)\n",
    "          outputs = net(images)\n",
    "          _, predicted = torch.max(outputs.data, 1)\n",
    "          total += labels.size(0)\n",
    "          correct += (predicted == labels).sum()\n",
    "      accuracy = 100 * correct/total\n",
    "      if verbose:\n",
    "        print(\"Epoch: {}. Loss: {}. Accuracy: {}.\".format(epoch, loss.item(), accuracy))\n",
    "  return accuracy.item()\n",
    "\n",
    "\n",
    "\n",
    "def torch_visda_resnet_data_to_acc_multiple(X_train, y_train, x_val, y_val, repeat=3, verbose=0):\n",
    "  acc_lst = []\n",
    "  for _ in range(repeat):\n",
    "    acc = torch_visda_resnet_data_to_acc(X_train, y_train, x_val, y_val, verbose)\n",
    "    acc_lst.append(acc)\n",
    "  return np.mean(acc_lst)\n",
    "\n",
    "\n",
    "def torch_visda_resnet_data_to_net(x_train, y_train, x_test, y_test, n_epoch=10, verbose=0):\n",
    "\n",
    "  criterion = torch.nn.CrossEntropyLoss()\n",
    "  net = ResNetClassifier(num_cls=12).cuda()\n",
    "  optimizer = torch.optim.Adam(net.parameters(), lr=0.001, eps=1e-7)\n",
    "\n",
    "  tensor_x, tensor_y = torch.Tensor(x_train).cuda(), torch.Tensor(y_train).cuda()\n",
    "  fewshot_dataset = TensorDataset(tensor_x,tensor_y)\n",
    "  train_loader = DataLoader(dataset=fewshot_dataset, batch_size=64, shuffle=True)\n",
    "  tensor_x_test, tensor_y_test = torch.Tensor(x_test).cuda(), torch.Tensor(y_test).cuda()\n",
    "  test_dataset = TensorDataset(tensor_x_test,tensor_y_test)\n",
    "  test_loader = DataLoader(dataset=test_dataset, batch_size=64, shuffle=False)\n",
    "\n",
    "  for epoch in range(n_epoch):\n",
    "      for i, (images, labels) in enumerate(train_loader):\n",
    "          images = Variable(images)\n",
    "          labels = Variable(labels).long()\n",
    "          optimizer.zero_grad()\n",
    "          outputs = net(images)\n",
    "          loss = criterion(outputs, labels)\n",
    "          loss.backward()\n",
    "          optimizer.step()\n",
    "      correct = 0\n",
    "      total = 0\n",
    "      for images, labels in test_loader:\n",
    "          images = Variable(images)\n",
    "          outputs = net(images)\n",
    "          _, predicted = torch.max(outputs.data, 1)\n",
    "          total += labels.size(0)\n",
    "          correct += (predicted == labels).sum()\n",
    "      accuracy = 100 * correct/total\n",
    "      if verbose:\n",
    "        print(\"Epoch: {}. Loss: {}. Accuracy: {}.\".format(epoch, loss.item(), accuracy))\n",
    "  return net"
   ]
  },
  {
   "cell_type": "code",
   "execution_count": 15,
   "metadata": {
    "id": "j8V5e7pJuuzz"
   },
   "outputs": [],
   "source": [
    "def torch_visda_resnet101_data_to_acc(x_train, y_train, x_test, y_test, verbose=0):\n",
    "\n",
    "  criterion = torch.nn.CrossEntropyLoss()\n",
    "\n",
    "  netG = ResBase101().cuda()\n",
    "  netF = ResClassifier(class_num=12, extract=True).cuda()\n",
    "  optimizer = torch.optim.Adam(net.parameters(), lr=0.001, eps=1e-7)\n",
    "\n",
    "  tensor_x, tensor_y = torch.Tensor(x_train).cuda(), torch.Tensor(y_train).cuda()\n",
    "  fewshot_dataset = TensorDataset(tensor_x,tensor_y)\n",
    "  train_loader = DataLoader(dataset=fewshot_dataset, batch_size=64, shuffle=True, drop_last=True)\n",
    "  tensor_x_test, tensor_y_test = torch.Tensor(x_test).cuda(), torch.Tensor(y_test).cuda()\n",
    "  test_dataset = TensorDataset(tensor_x_test,tensor_y_test)\n",
    "  test_loader = DataLoader(dataset=test_dataset, batch_size=64, shuffle=False, drop_last=True)\n",
    "\n",
    "  for epoch in range(20):\n",
    "      for i, (images, labels) in enumerate(train_loader):\n",
    "          images = Variable(images)\n",
    "          labels = Variable(labels).long()\n",
    "          optimizer.zero_grad()\n",
    "          outputs = net(images)\n",
    "          loss = criterion(outputs, labels)\n",
    "          loss.backward()\n",
    "          optimizer.step()\n",
    "      correct = 0\n",
    "      total = 0\n",
    "      for images, labels in test_loader:\n",
    "          images = Variable(images)\n",
    "          outputs = net(images)\n",
    "          _, predicted = torch.max(outputs.data, 1)\n",
    "          total += labels.size(0)\n",
    "          correct += (predicted == labels).sum()\n",
    "      accuracy = 100 * correct/total\n",
    "      if verbose:\n",
    "        print(\"Epoch: {}. Loss: {}. Accuracy: {}.\".format(epoch, loss.item(), accuracy))\n",
    "  return accuracy.item()\n",
    "\n",
    "\n",
    "\n",
    "def torch_visda_resnet101_data_to_acc_multiple(X_train, y_train, x_val, y_val, repeat=3, verbose=0):\n",
    "  acc_lst = []\n",
    "  for _ in range(repeat):\n",
    "    acc = torch_visda_resnet_data_to_acc(X_train, y_train, x_val, y_val, verbose)\n",
    "    acc_lst.append(acc)\n",
    "  return np.mean(acc_lst)\n",
    "\n",
    "\n",
    "def torch_visda_resnet101_data_to_net(x_train, y_train, n_epoch=10, verbose=0):\n",
    "\n",
    "  criterion = torch.nn.CrossEntropyLoss()\n",
    "  net = ResNetClassifier(num_cls=12)().cuda()\n",
    "  optimizer = torch.optim.Adam(net.parameters(), lr=0.001, eps=1e-7)\n",
    "\n",
    "  tensor_x, tensor_y = torch.Tensor(x_train).cuda(), torch.Tensor(y_train).cuda()\n",
    "  fewshot_dataset = TensorDataset(tensor_x,tensor_y)\n",
    "  train_loader = DataLoader(dataset=fewshot_dataset, batch_size=64, shuffle=True)\n",
    "  tensor_x_test, tensor_y_test = torch.Tensor(x_test).cuda(), torch.Tensor(y_test).cuda()\n",
    "  test_dataset = TensorDataset(tensor_x_test,tensor_y_test)\n",
    "  test_loader = DataLoader(dataset=test_dataset, batch_size=64, shuffle=False)\n",
    "\n",
    "  for epoch in range(n_epoch):\n",
    "      for i, (images, labels) in enumerate(train_loader):\n",
    "          images = Variable(images)\n",
    "          labels = Variable(labels).long()\n",
    "          optimizer.zero_grad()\n",
    "          outputs = net(images)\n",
    "          loss = criterion(outputs, labels)\n",
    "          loss.backward()\n",
    "          optimizer.step()\n",
    "      correct = 0\n",
    "      total = 0\n",
    "      for images, labels in test_loader:\n",
    "          images = Variable(images)\n",
    "          outputs = net(images)\n",
    "          _, predicted = torch.max(outputs.data, 1)\n",
    "          total += labels.size(0)\n",
    "          correct += (predicted == labels).sum()\n",
    "      accuracy = 100 * correct/total\n",
    "      if verbose:\n",
    "        print(\"Epoch: {}. Loss: {}. Accuracy: {}.\".format(epoch, loss.item(), accuracy))\n",
    "  return net"
   ]
  },
  {
   "cell_type": "code",
   "execution_count": 16,
   "metadata": {
    "id": "jZGgbFh0t21i"
   },
   "outputs": [],
   "source": [
    "import torchvision.datasets as datasets\n",
    "import torchvision\n",
    "import torchvision.transforms as transforms\n",
    "\n",
    "class SmallCNN_CIFAR(nn.Module):\n",
    "    def __init__(self):\n",
    "        super(SmallCNN_CIFAR, self).__init__()\n",
    "        self.conv1 = nn.Conv2d(3, 6, 5)\n",
    "        self.pool = nn.MaxPool2d(2, 2)\n",
    "        self.conv2 = nn.Conv2d(6, 16, 5)\n",
    "        self.fc1 = nn.Linear(16 * 5 * 5, 120)\n",
    "        self.fc2 = nn.Linear(120, 84)\n",
    "        self.fc3 = nn.Linear(84, 10)\n",
    "\n",
    "    def forward(self, x, last=False):\n",
    "        x = self.pool(F.relu(self.conv1(x)))\n",
    "        x = self.pool(F.relu(self.conv2(x)))\n",
    "        feat = x.view(-1, 16 * 5 * 5)\n",
    "        x = F.relu(self.fc1(feat))\n",
    "        x = F.relu(self.fc2(x))\n",
    "        x = self.fc3(x)\n",
    "        if last:\n",
    "          return x, feat\n",
    "        else:\n",
    "          return x\n",
    "\n",
    "    def getFeature(self, x):\n",
    "        x = self.pool(F.relu(self.conv1(x)))\n",
    "        x = self.pool(F.relu(self.conv2(x)))\n",
    "        x = x.view(-1, 16 * 5 * 5)\n",
    "        return x\n",
    "\n",
    "    def get_embedding_dim(self):\n",
    "        return 16 * 5 * 5\n",
    "\n",
    "\n",
    "\n",
    "class LargeCNN(nn.Module):\n",
    "\n",
    "    def __init__(self):\n",
    "        super(LargeCNN, self).__init__()\n",
    "\n",
    "        self.conv_layer = nn.Sequential(\n",
    "\n",
    "            # Conv Layer block 1\n",
    "            nn.Conv2d(in_channels=3, out_channels=32, kernel_size=3, padding=1),\n",
    "            nn.BatchNorm2d(32),\n",
    "            nn.ReLU(inplace=True),\n",
    "            nn.Conv2d(in_channels=32, out_channels=64, kernel_size=3, padding=1),\n",
    "            nn.ReLU(inplace=True),\n",
    "            nn.MaxPool2d(kernel_size=2, stride=2),\n",
    "\n",
    "            # Conv Layer block 2\n",
    "            nn.Conv2d(in_channels=64, out_channels=128, kernel_size=3, padding=1),\n",
    "            nn.BatchNorm2d(128),\n",
    "            nn.ReLU(inplace=True),\n",
    "            nn.Conv2d(in_channels=128, out_channels=128, kernel_size=3, padding=1),\n",
    "            nn.ReLU(inplace=True),\n",
    "            nn.MaxPool2d(kernel_size=2, stride=2),\n",
    "            nn.Dropout2d(p=0.05),\n",
    "\n",
    "            # Conv Layer block 3\n",
    "            nn.Conv2d(in_channels=128, out_channels=256, kernel_size=3, padding=1),\n",
    "            nn.BatchNorm2d(256),\n",
    "            nn.ReLU(inplace=True),\n",
    "            nn.Conv2d(in_channels=256, out_channels=256, kernel_size=3, padding=1),\n",
    "            nn.ReLU(inplace=True),\n",
    "            nn.MaxPool2d(kernel_size=2, stride=2),\n",
    "        )\n",
    "\n",
    "\n",
    "        self.fc_layer = nn.Sequential(\n",
    "            nn.Dropout(p=0.1),\n",
    "            nn.Linear(4096, 1024),\n",
    "            nn.ReLU(inplace=True),\n",
    "            nn.Linear(1024, 512),\n",
    "            nn.ReLU(inplace=True),\n",
    "            nn.Dropout(p=0.1),\n",
    "            nn.Linear(512, 10)\n",
    "        )\n",
    "\n",
    "\n",
    "    def forward(self, x):\n",
    "        \"\"\"Perform forward.\"\"\"\n",
    "        \n",
    "        # conv layers\n",
    "        x = self.conv_layer(x)\n",
    "        \n",
    "        # flatten\n",
    "        x = x.view(x.size(0), -1)\n",
    "        \n",
    "        # fc layer\n",
    "        x = self.fc_layer(x)\n",
    "\n",
    "        return x\n"
   ]
  },
  {
   "cell_type": "code",
   "execution_count": 17,
   "metadata": {
    "id": "ls53KdxZtZXZ"
   },
   "outputs": [],
   "source": [
    "def torch_cifar_logistic_data_to_acc(x_train, y_train, x_test, y_test, verbose=0):\n",
    "\n",
    "  criterion = torch.nn.CrossEntropyLoss()\n",
    "  net = SmallCNN_CIFAR().cuda()\n",
    "  optimizer = torch.optim.Adam(net.parameters(), lr=0.001, eps=1e-7)\n",
    "\n",
    "  tensor_x, tensor_y = torch.Tensor(x_train).cuda(), torch.Tensor(y_train).cuda()\n",
    "  fewshot_dataset = TensorDataset(tensor_x,tensor_y)\n",
    "  train_loader = DataLoader(dataset=fewshot_dataset, batch_size=32, shuffle=True)\n",
    "  tensor_x_test, tensor_y_test = torch.Tensor(x_test).cuda(), torch.Tensor(y_test).cuda()\n",
    "  test_dataset = TensorDataset(tensor_x_test,tensor_y_test)\n",
    "  test_loader = DataLoader(dataset=test_dataset, batch_size=32, shuffle=False)\n",
    "\n",
    "  for epoch in range(10):\n",
    "      for i, (images, labels) in enumerate(train_loader):\n",
    "          images = Variable(images)\n",
    "          labels = Variable(labels).long()\n",
    "          optimizer.zero_grad()\n",
    "          outputs = net(images)\n",
    "          loss = criterion(outputs, labels)\n",
    "          loss.backward()\n",
    "          optimizer.step()\n",
    "      correct = 0\n",
    "      total = 0\n",
    "      for images, labels in test_loader:\n",
    "          images = Variable(images)\n",
    "          outputs = net(images)\n",
    "          _, predicted = torch.max(outputs.data, 1)\n",
    "          total += labels.size(0)\n",
    "          correct += (predicted == labels).sum()\n",
    "      accuracy = 100 * correct/total\n",
    "      if verbose:\n",
    "        print(\"Epoch: {}. Loss: {}. Accuracy: {}.\".format(epoch, loss.item(), accuracy))\n",
    "  return accuracy.item()\n",
    "\n",
    "\n",
    "def torch_cifar_logistic_data_to_net(x_train, y_train, x_test, y_test, n_epoch=10, verbose=0):\n",
    "\n",
    "  criterion = torch.nn.CrossEntropyLoss()\n",
    "  net = SmallCNN_CIFAR().cuda()\n",
    "  optimizer = torch.optim.Adam(net.parameters(), lr=0.001, eps=1e-7)\n",
    "\n",
    "  tensor_x, tensor_y = torch.Tensor(x_train).cuda(), torch.Tensor(y_train).cuda()\n",
    "  fewshot_dataset = TensorDataset(tensor_x,tensor_y)\n",
    "  train_loader = DataLoader(dataset=fewshot_dataset, batch_size=32, shuffle=True)\n",
    "  tensor_x_test, tensor_y_test = torch.Tensor(x_test).cuda(), torch.Tensor(y_test).cuda()\n",
    "  test_dataset = TensorDataset(tensor_x_test,tensor_y_test)\n",
    "  test_loader = DataLoader(dataset=test_dataset, batch_size=32, shuffle=False)\n",
    "\n",
    "  for epoch in range(n_epoch):\n",
    "      for i, (images, labels) in enumerate(train_loader):\n",
    "          images = Variable(images)\n",
    "          labels = Variable(labels).long()\n",
    "          optimizer.zero_grad()\n",
    "          outputs = net(images)\n",
    "          loss = criterion(outputs, labels)\n",
    "          loss.backward()\n",
    "          optimizer.step()\n",
    "      correct = 0\n",
    "      total = 0\n",
    "      for images, labels in test_loader:\n",
    "          images = Variable(images)\n",
    "          outputs = net(images)\n",
    "          _, predicted = torch.max(outputs.data, 1)\n",
    "          total += labels.size(0)\n",
    "          correct += (predicted == labels).sum()\n",
    "      accuracy = 100 * correct/total\n",
    "      if verbose:\n",
    "        print(\"Epoch: {}. Loss: {}. Accuracy: {}.\".format(epoch, loss.item(), accuracy))\n",
    "  return net\n",
    "\n",
    "\n",
    "def torch_cifar_logistic_data_to_acc_multiple(X_train, y_train, repeat=3, verbose=0):\n",
    "  acc_lst = []\n",
    "  for _ in range(repeat):\n",
    "    acc = torch_cifar_logistic_data_to_acc(X_train, y_train, verbose)\n",
    "    acc_lst.append(acc)\n",
    "  return np.mean(acc_lst)\n",
    "\n",
    "\n",
    "\n",
    "\n",
    "def torch_cifar_cnn_data_to_acc(x_train, y_train, verbose=0):\n",
    "\n",
    "  criterion = torch.nn.CrossEntropyLoss().cuda()\n",
    "  net = LargeCNN().cuda()\n",
    "  optimizer = torch.optim.Adam(net.parameters(), lr=0.001, eps=1e-7)\n",
    "\n",
    "  tensor_x, tensor_y = torch.Tensor(x_train).cuda(), torch.Tensor(y_train).cuda()\n",
    "  fewshot_dataset = TensorDataset(tensor_x,tensor_y)\n",
    "  train_loader = DataLoader(dataset=fewshot_dataset, batch_size=32, shuffle=True)\n",
    "  tensor_x_test, tensor_y_test = torch.Tensor(x_test).cuda(), torch.Tensor(y_test).cuda()\n",
    "  test_dataset = TensorDataset(tensor_x_test,tensor_y_test)\n",
    "  test_loader = DataLoader(dataset=test_dataset, batch_size=32, shuffle=False)\n",
    "\n",
    "  for epoch in range(20):\n",
    "      for i, (images, labels) in enumerate(train_loader):\n",
    "          images = Variable(images)\n",
    "          labels = Variable(labels).long()\n",
    "          optimizer.zero_grad()\n",
    "          outputs = net(images)\n",
    "          loss = criterion(outputs, labels)\n",
    "          loss.backward()\n",
    "          optimizer.step()\n",
    "      correct = 0\n",
    "      total = 0\n",
    "      for images, labels in test_loader:\n",
    "          images = Variable(images)\n",
    "          outputs = net(images)\n",
    "          _, predicted = torch.max(outputs.data, 1)\n",
    "          total += labels.size(0)\n",
    "          correct += (predicted == labels).sum()\n",
    "      accuracy = 100 * correct/total\n",
    "      if verbose:\n",
    "        print(\"Epoch: {}. Loss: {}. Accuracy: {}.\".format(epoch, loss.item(), accuracy))\n",
    "  return accuracy.item()\n",
    "\n",
    "\n",
    "def torch_cifar_cnn_data_to_acc_multiple(X_train, y_train, repeat=3, verbose=0):\n",
    "  acc_lst = []\n",
    "  for _ in range(repeat):\n",
    "    acc = torch_cifar_cnn_data_to_acc(X_train, y_train, verbose)\n",
    "    acc_lst.append(acc)\n",
    "  return np.mean(acc_lst)"
   ]
  },
  {
   "cell_type": "markdown",
   "metadata": {
    "id": "N36diIW5ytMf"
   },
   "source": [
    "# Transfer Experiment"
   ]
  },
  {
   "cell_type": "markdown",
   "metadata": {
    "id": "6zrDlpXY0M9K"
   },
   "source": [
    "## Source domain (SYN)"
   ]
  },
  {
   "cell_type": "markdown",
   "metadata": {
    "id": "1ZFSxj51oFP4"
   },
   "source": [
    "#### skip this part"
   ]
  },
  {
   "cell_type": "code",
   "execution_count": null,
   "metadata": {
    "id": "iuyov0L3W8GI"
   },
   "outputs": [],
   "source": [
    "x_train_few, y_train_few = pickle.load(open(sample_dir + '/visda_src_train500.data', 'rb'))"
   ]
  },
  {
   "cell_type": "code",
   "execution_count": null,
   "metadata": {
    "id": "ox55l0p7Xkj0"
   },
   "outputs": [],
   "source": [
    "x_val_few, y_val_few = pickle.load(open(sample_dir + '/VISDA_synthetic_resnet_N500_lo5_hi500_Nsample5000.sample', 'rb'))"
   ]
  },
  {
   "cell_type": "code",
   "execution_count": null,
   "metadata": {
    "colab": {
     "base_uri": "https://localhost:8080/"
    },
    "id": "uSJyHXaDXfKI",
    "outputId": "1dde8dd1-8f5b-4ac8-8e03-13d095133609"
   },
   "outputs": [
    {
     "name": "stdout",
     "output_type": "stream",
     "text": [
      "torch.Size([500, 3, 224, 224])\n",
      "torch.Size([500, 3, 224, 224])\n"
     ]
    }
   ],
   "source": [
    "print(x_train_few.shape)\n",
    "print(x_val_few.shape)"
   ]
  },
  {
   "cell_type": "code",
   "execution_count": null,
   "metadata": {
    "id": "xvCkExM_XfWY"
   },
   "outputs": [],
   "source": [
    "x_train_few_re, y_train_few_re, x_val_few_re, y_val_few_re = visda_encoder_process(x_train_few, y_train_few, x_val_few, y_val_few)"
   ]
  },
  {
   "cell_type": "code",
   "execution_count": null,
   "metadata": {
    "colab": {
     "base_uri": "https://localhost:8080/"
    },
    "id": "tQ4ocfPnXff1",
    "outputId": "65fb92b8-09ed-45ce-e296-a8baa7b0b2ff"
   },
   "outputs": [
    {
     "name": "stdout",
     "output_type": "stream",
     "text": [
      "torch.Size([500, 3, 32, 32])\n"
     ]
    }
   ],
   "source": [
    "print(x_train_few_re.shape)\n"
   ]
  },
  {
   "cell_type": "code",
   "execution_count": null,
   "metadata": {
    "id": "1AltGpwhZeWY"
   },
   "outputs": [],
   "source": [
    "pickle.dump([x_train_few_re, y_train_few_re, x_val_few_re, y_val_few_re], open(sample_dir+\"/visda_tgt_500.data\",\"wb\"))"
   ]
  },
  {
   "cell_type": "markdown",
   "metadata": {
    "id": "g9GhusaV0vX1"
   },
   "source": [
    "### Load sampled few data and utility training set (idx, utility)"
   ]
  },
  {
   "cell_type": "code",
   "execution_count": null,
   "metadata": {
    "colab": {
     "base_uri": "https://localhost:8080/"
    },
    "id": "f5_oZKBDyyM0",
    "outputId": "848c5687-fca9-41f0-e7d4-f3218c34e913"
   },
   "outputs": [
    {
     "name": "stdout",
     "output_type": "stream",
     "text": [
      "4000 (4000,)\n",
      "1000 (1000,)\n"
     ]
    }
   ],
   "source": [
    "sample_dir = prefix + '/active-learning-transfer/samples/visda'\n",
    "\n",
    "with open(sample_dir+'/VISDA_synthetic_resnet_N500_lo5_hi500_Nsample5000.sample', 'rb') as f:\n",
    "  X_feature, y_feature = pickle.load(f)\n",
    "\n",
    "\n",
    "ind = np.arange(len(X_feature), dtype=int)\n",
    "np.random.shuffle(ind)\n",
    "\n",
    "X_feature = [X_feature[i] for i in ind]\n",
    "y_feature = y_feature[ind]\n",
    "\n",
    "if y_feature[0] > 1:\n",
    "  y_feature = y_feature / 100\n",
    "\n",
    "X_feature_test, y_feature_test = X_feature[4000:], y_feature[4000:]\n",
    "X_feature_train, y_feature_train = X_feature[:4000], y_feature[:4000]\n",
    "\n",
    "\n",
    "print(len(X_feature_train), y_feature_train.shape)\n",
    "print(len(X_feature_test), y_feature_test.shape)"
   ]
  },
  {
   "cell_type": "code",
   "execution_count": 18,
   "metadata": {
    "id": "feDaSqMx-rHb"
   },
   "outputs": [],
   "source": [
    "x_train_few_re, y_train_few_re =  pickle.load(open(sample_dir + '/visda_src_train500.data', 'rb'))\n",
    "x_val_few_re, y_val_few_re = pickle.load(open(sample_dir + '/visda_src_test500.data', 'rb'))"
   ]
  },
  {
   "cell_type": "code",
   "execution_count": null,
   "metadata": {
    "colab": {
     "base_uri": "https://localhost:8080/"
    },
    "id": "nTHR0rBRpdfm",
    "outputId": "67c5bd71-b875-494e-d6f4-d6118a0686ce"
   },
   "outputs": [
    {
     "name": "stdout",
     "output_type": "stream",
     "text": [
      "torch.Size([500, 3, 224, 224])\n"
     ]
    }
   ],
   "source": [
    "print(x_train_few_re.shape)"
   ]
  },
  {
   "cell_type": "markdown",
   "metadata": {
    "id": "hxZFaw65DVsn"
   },
   "source": [
    "### Extract feature (cycada)"
   ]
  },
  {
   "cell_type": "code",
   "execution_count": null,
   "metadata": {
    "id": "BsZ49DrjyyK_"
   },
   "outputs": [],
   "source": [
    "def featureExtract(x, ext):\n",
    "  assert list(x.shape[1:]) == [3, ext.image_size, ext.image_size]\n",
    "  score, out = ext(x.float().cuda(), with_ft=True)\n",
    "  return out.view(out.size(0), -1)"
   ]
  },
  {
   "cell_type": "code",
   "execution_count": null,
   "metadata": {
    "colab": {
     "base_uri": "https://localhost:8080/"
    },
    "id": "S0qb3eLADRSc",
    "outputId": "65e69d39-188c-4128-ba56-18cdd90bc6f2"
   },
   "outputs": [
    {
     "data": {
      "text/plain": [
       "AddaNet(\n",
       "  (cls_criterion): CrossEntropyLoss()\n",
       "  (gan_criterion): CrossEntropyLoss()\n",
       "  (src_net): ResNetClassifier(\n",
       "    (conv_params): Sequential(\n",
       "      (0): Conv2d(3, 64, kernel_size=(7, 7), stride=(2, 2), padding=(3, 3), bias=False)\n",
       "      (1): BatchNorm2d(64, eps=1e-05, momentum=0.1, affine=True, track_running_stats=True)\n",
       "      (2): ReLU(inplace=True)\n",
       "      (3): MaxPool2d(kernel_size=3, stride=2, padding=1, dilation=1, ceil_mode=False)\n",
       "      (4): Sequential(\n",
       "        (0): BasicBlock(\n",
       "          (conv1): Conv2d(64, 64, kernel_size=(3, 3), stride=(1, 1), padding=(1, 1), bias=False)\n",
       "          (bn1): BatchNorm2d(64, eps=1e-05, momentum=0.1, affine=True, track_running_stats=True)\n",
       "          (relu): ReLU(inplace=True)\n",
       "          (conv2): Conv2d(64, 64, kernel_size=(3, 3), stride=(1, 1), padding=(1, 1), bias=False)\n",
       "          (bn2): BatchNorm2d(64, eps=1e-05, momentum=0.1, affine=True, track_running_stats=True)\n",
       "        )\n",
       "        (1): BasicBlock(\n",
       "          (conv1): Conv2d(64, 64, kernel_size=(3, 3), stride=(1, 1), padding=(1, 1), bias=False)\n",
       "          (bn1): BatchNorm2d(64, eps=1e-05, momentum=0.1, affine=True, track_running_stats=True)\n",
       "          (relu): ReLU(inplace=True)\n",
       "          (conv2): Conv2d(64, 64, kernel_size=(3, 3), stride=(1, 1), padding=(1, 1), bias=False)\n",
       "          (bn2): BatchNorm2d(64, eps=1e-05, momentum=0.1, affine=True, track_running_stats=True)\n",
       "        )\n",
       "      )\n",
       "      (5): Sequential(\n",
       "        (0): BasicBlock(\n",
       "          (conv1): Conv2d(64, 128, kernel_size=(3, 3), stride=(2, 2), padding=(1, 1), bias=False)\n",
       "          (bn1): BatchNorm2d(128, eps=1e-05, momentum=0.1, affine=True, track_running_stats=True)\n",
       "          (relu): ReLU(inplace=True)\n",
       "          (conv2): Conv2d(128, 128, kernel_size=(3, 3), stride=(1, 1), padding=(1, 1), bias=False)\n",
       "          (bn2): BatchNorm2d(128, eps=1e-05, momentum=0.1, affine=True, track_running_stats=True)\n",
       "          (downsample): Sequential(\n",
       "            (0): Conv2d(64, 128, kernel_size=(1, 1), stride=(2, 2), bias=False)\n",
       "            (1): BatchNorm2d(128, eps=1e-05, momentum=0.1, affine=True, track_running_stats=True)\n",
       "          )\n",
       "        )\n",
       "        (1): BasicBlock(\n",
       "          (conv1): Conv2d(128, 128, kernel_size=(3, 3), stride=(1, 1), padding=(1, 1), bias=False)\n",
       "          (bn1): BatchNorm2d(128, eps=1e-05, momentum=0.1, affine=True, track_running_stats=True)\n",
       "          (relu): ReLU(inplace=True)\n",
       "          (conv2): Conv2d(128, 128, kernel_size=(3, 3), stride=(1, 1), padding=(1, 1), bias=False)\n",
       "          (bn2): BatchNorm2d(128, eps=1e-05, momentum=0.1, affine=True, track_running_stats=True)\n",
       "        )\n",
       "      )\n",
       "      (6): Sequential(\n",
       "        (0): BasicBlock(\n",
       "          (conv1): Conv2d(128, 256, kernel_size=(3, 3), stride=(2, 2), padding=(1, 1), bias=False)\n",
       "          (bn1): BatchNorm2d(256, eps=1e-05, momentum=0.1, affine=True, track_running_stats=True)\n",
       "          (relu): ReLU(inplace=True)\n",
       "          (conv2): Conv2d(256, 256, kernel_size=(3, 3), stride=(1, 1), padding=(1, 1), bias=False)\n",
       "          (bn2): BatchNorm2d(256, eps=1e-05, momentum=0.1, affine=True, track_running_stats=True)\n",
       "          (downsample): Sequential(\n",
       "            (0): Conv2d(128, 256, kernel_size=(1, 1), stride=(2, 2), bias=False)\n",
       "            (1): BatchNorm2d(256, eps=1e-05, momentum=0.1, affine=True, track_running_stats=True)\n",
       "          )\n",
       "        )\n",
       "        (1): BasicBlock(\n",
       "          (conv1): Conv2d(256, 256, kernel_size=(3, 3), stride=(1, 1), padding=(1, 1), bias=False)\n",
       "          (bn1): BatchNorm2d(256, eps=1e-05, momentum=0.1, affine=True, track_running_stats=True)\n",
       "          (relu): ReLU(inplace=True)\n",
       "          (conv2): Conv2d(256, 256, kernel_size=(3, 3), stride=(1, 1), padding=(1, 1), bias=False)\n",
       "          (bn2): BatchNorm2d(256, eps=1e-05, momentum=0.1, affine=True, track_running_stats=True)\n",
       "        )\n",
       "      )\n",
       "    )\n",
       "    (fc_params): Sequential(\n",
       "      (0): Linear(in_features=1024, out_features=512, bias=True)\n",
       "      (1): BatchNorm1d(512, eps=1e-05, momentum=0.1, affine=True, track_running_stats=True)\n",
       "    )\n",
       "    (classifier): Sequential(\n",
       "      (0): ReLU()\n",
       "      (1): Dropout(p=0.5, inplace=False)\n",
       "      (2): Linear(in_features=512, out_features=12, bias=True)\n",
       "    )\n",
       "    (criterion): CrossEntropyLoss()\n",
       "  )\n",
       "  (tgt_net): ResNetClassifier(\n",
       "    (conv_params): Sequential(\n",
       "      (0): Conv2d(3, 64, kernel_size=(7, 7), stride=(2, 2), padding=(3, 3), bias=False)\n",
       "      (1): BatchNorm2d(64, eps=1e-05, momentum=0.1, affine=True, track_running_stats=True)\n",
       "      (2): ReLU(inplace=True)\n",
       "      (3): MaxPool2d(kernel_size=3, stride=2, padding=1, dilation=1, ceil_mode=False)\n",
       "      (4): Sequential(\n",
       "        (0): BasicBlock(\n",
       "          (conv1): Conv2d(64, 64, kernel_size=(3, 3), stride=(1, 1), padding=(1, 1), bias=False)\n",
       "          (bn1): BatchNorm2d(64, eps=1e-05, momentum=0.1, affine=True, track_running_stats=True)\n",
       "          (relu): ReLU(inplace=True)\n",
       "          (conv2): Conv2d(64, 64, kernel_size=(3, 3), stride=(1, 1), padding=(1, 1), bias=False)\n",
       "          (bn2): BatchNorm2d(64, eps=1e-05, momentum=0.1, affine=True, track_running_stats=True)\n",
       "        )\n",
       "        (1): BasicBlock(\n",
       "          (conv1): Conv2d(64, 64, kernel_size=(3, 3), stride=(1, 1), padding=(1, 1), bias=False)\n",
       "          (bn1): BatchNorm2d(64, eps=1e-05, momentum=0.1, affine=True, track_running_stats=True)\n",
       "          (relu): ReLU(inplace=True)\n",
       "          (conv2): Conv2d(64, 64, kernel_size=(3, 3), stride=(1, 1), padding=(1, 1), bias=False)\n",
       "          (bn2): BatchNorm2d(64, eps=1e-05, momentum=0.1, affine=True, track_running_stats=True)\n",
       "        )\n",
       "      )\n",
       "      (5): Sequential(\n",
       "        (0): BasicBlock(\n",
       "          (conv1): Conv2d(64, 128, kernel_size=(3, 3), stride=(2, 2), padding=(1, 1), bias=False)\n",
       "          (bn1): BatchNorm2d(128, eps=1e-05, momentum=0.1, affine=True, track_running_stats=True)\n",
       "          (relu): ReLU(inplace=True)\n",
       "          (conv2): Conv2d(128, 128, kernel_size=(3, 3), stride=(1, 1), padding=(1, 1), bias=False)\n",
       "          (bn2): BatchNorm2d(128, eps=1e-05, momentum=0.1, affine=True, track_running_stats=True)\n",
       "          (downsample): Sequential(\n",
       "            (0): Conv2d(64, 128, kernel_size=(1, 1), stride=(2, 2), bias=False)\n",
       "            (1): BatchNorm2d(128, eps=1e-05, momentum=0.1, affine=True, track_running_stats=True)\n",
       "          )\n",
       "        )\n",
       "        (1): BasicBlock(\n",
       "          (conv1): Conv2d(128, 128, kernel_size=(3, 3), stride=(1, 1), padding=(1, 1), bias=False)\n",
       "          (bn1): BatchNorm2d(128, eps=1e-05, momentum=0.1, affine=True, track_running_stats=True)\n",
       "          (relu): ReLU(inplace=True)\n",
       "          (conv2): Conv2d(128, 128, kernel_size=(3, 3), stride=(1, 1), padding=(1, 1), bias=False)\n",
       "          (bn2): BatchNorm2d(128, eps=1e-05, momentum=0.1, affine=True, track_running_stats=True)\n",
       "        )\n",
       "      )\n",
       "      (6): Sequential(\n",
       "        (0): BasicBlock(\n",
       "          (conv1): Conv2d(128, 256, kernel_size=(3, 3), stride=(2, 2), padding=(1, 1), bias=False)\n",
       "          (bn1): BatchNorm2d(256, eps=1e-05, momentum=0.1, affine=True, track_running_stats=True)\n",
       "          (relu): ReLU(inplace=True)\n",
       "          (conv2): Conv2d(256, 256, kernel_size=(3, 3), stride=(1, 1), padding=(1, 1), bias=False)\n",
       "          (bn2): BatchNorm2d(256, eps=1e-05, momentum=0.1, affine=True, track_running_stats=True)\n",
       "          (downsample): Sequential(\n",
       "            (0): Conv2d(128, 256, kernel_size=(1, 1), stride=(2, 2), bias=False)\n",
       "            (1): BatchNorm2d(256, eps=1e-05, momentum=0.1, affine=True, track_running_stats=True)\n",
       "          )\n",
       "        )\n",
       "        (1): BasicBlock(\n",
       "          (conv1): Conv2d(256, 256, kernel_size=(3, 3), stride=(1, 1), padding=(1, 1), bias=False)\n",
       "          (bn1): BatchNorm2d(256, eps=1e-05, momentum=0.1, affine=True, track_running_stats=True)\n",
       "          (relu): ReLU(inplace=True)\n",
       "          (conv2): Conv2d(256, 256, kernel_size=(3, 3), stride=(1, 1), padding=(1, 1), bias=False)\n",
       "          (bn2): BatchNorm2d(256, eps=1e-05, momentum=0.1, affine=True, track_running_stats=True)\n",
       "        )\n",
       "      )\n",
       "    )\n",
       "    (fc_params): Sequential(\n",
       "      (0): Linear(in_features=1024, out_features=512, bias=True)\n",
       "      (1): BatchNorm1d(512, eps=1e-05, momentum=0.1, affine=True, track_running_stats=True)\n",
       "    )\n",
       "    (classifier): Sequential(\n",
       "      (0): ReLU()\n",
       "      (1): Dropout(p=0.5, inplace=False)\n",
       "      (2): Linear(in_features=512, out_features=12, bias=True)\n",
       "    )\n",
       "    (criterion): CrossEntropyLoss()\n",
       "  )\n",
       "  (discriminator): Sequential(\n",
       "    (0): Linear(in_features=12, out_features=500, bias=True)\n",
       "    (1): ReLU()\n",
       "    (2): Linear(in_features=500, out_features=500, bias=True)\n",
       "    (3): ReLU()\n",
       "    (4): Linear(in_features=500, out_features=2, bias=True)\n",
       "  )\n",
       ")"
      ]
     },
     "execution_count": 21,
     "metadata": {
      "tags": []
     },
     "output_type": "execute_result"
    }
   ],
   "source": [
    "model_dir = prefix + '/active-learning-transfer/models/cycada/visda/iter_1_32'\n",
    "adda_net_file = model_dir + '/adda_resnet18_net_visda-syn_visda-real.pth'\n",
    "net = get_model('AddaNet', num_cls=12, weights_init=adda_net_file, \n",
    "                model='resnet18')\n",
    "net.eval()"
   ]
  },
  {
   "cell_type": "code",
   "execution_count": null,
   "metadata": {
    "colab": {
     "base_uri": "https://localhost:8080/",
     "height": 317
    },
    "id": "G6S6sz1P1zpV",
    "outputId": "f93f803f-4b83-445c-aa7b-33ee8ffd7a79"
   },
   "outputs": [
    {
     "ename": "NameError",
     "evalue": "ignored",
     "output_type": "error",
     "traceback": [
      "\u001b[0;31m---------------------------------------------------------------------------\u001b[0m",
      "\u001b[0;31mNameError\u001b[0m                                 Traceback (most recent call last)",
      "\u001b[0;32m<ipython-input-22-993329389cb6>\u001b[0m in \u001b[0;36m<module>\u001b[0;34m()\u001b[0m\n\u001b[0;32m----> 1\u001b[0;31m \u001b[0mx_train_few_resNetFeature\u001b[0m \u001b[0;34m=\u001b[0m \u001b[0mfeatureExtract_cycda\u001b[0m\u001b[0;34m(\u001b[0m\u001b[0mtorch\u001b[0m\u001b[0;34m.\u001b[0m\u001b[0mfrom_numpy\u001b[0m\u001b[0;34m(\u001b[0m\u001b[0mx_train_few_re\u001b[0m\u001b[0;34m)\u001b[0m\u001b[0;34m,\u001b[0m \u001b[0mnet\u001b[0m\u001b[0;34m.\u001b[0m\u001b[0msrc_net\u001b[0m\u001b[0;34m)\u001b[0m\u001b[0;34m\u001b[0m\u001b[0;34m\u001b[0m\u001b[0m\n\u001b[0m\u001b[1;32m      2\u001b[0m \u001b[0mx_train_few_resNetFeature\u001b[0m \u001b[0;34m=\u001b[0m \u001b[0mx_train_few_resNetFeature\u001b[0m\u001b[0;34m.\u001b[0m\u001b[0mcpu\u001b[0m\u001b[0;34m(\u001b[0m\u001b[0;34m)\u001b[0m\u001b[0;34m.\u001b[0m\u001b[0mdetach\u001b[0m\u001b[0;34m(\u001b[0m\u001b[0;34m)\u001b[0m\u001b[0;34m.\u001b[0m\u001b[0mnumpy\u001b[0m\u001b[0;34m(\u001b[0m\u001b[0;34m)\u001b[0m\u001b[0;34m\u001b[0m\u001b[0;34m\u001b[0m\u001b[0m\n\u001b[1;32m      3\u001b[0m \u001b[0;34m\u001b[0m\u001b[0m\n\u001b[1;32m      4\u001b[0m \u001b[0;31m# val feature will be used when perform AL selection\u001b[0m\u001b[0;34m\u001b[0m\u001b[0;34m\u001b[0m\u001b[0;34m\u001b[0m\u001b[0m\n\u001b[1;32m      5\u001b[0m \u001b[0mx_val_few_resNetFeature\u001b[0m \u001b[0;34m=\u001b[0m \u001b[0mfeatureExtract_cycda\u001b[0m\u001b[0;34m(\u001b[0m\u001b[0mtorch\u001b[0m\u001b[0;34m.\u001b[0m\u001b[0mfrom_numpy\u001b[0m\u001b[0;34m(\u001b[0m\u001b[0mx_val_few_re\u001b[0m\u001b[0;34m)\u001b[0m\u001b[0;34m,\u001b[0m \u001b[0mnet\u001b[0m\u001b[0;34m.\u001b[0m\u001b[0msrc_net\u001b[0m\u001b[0;34m)\u001b[0m\u001b[0;34m\u001b[0m\u001b[0;34m\u001b[0m\u001b[0m\n",
      "\u001b[0;31mNameError\u001b[0m: name 'featureExtract_cycda' is not defined"
     ]
    }
   ],
   "source": [
    "x_train_few_resNetFeature = featureExtract_cycda(torch.from_numpy(x_train_few_re), net.src_net)\n",
    "x_train_few_resNetFeature = x_train_few_resNetFeature.cpu().detach().numpy()\n",
    "\n",
    "# val feature will be used when perform AL selection\n",
    "x_val_few_resNetFeature = featureExtract_cycda(torch.from_numpy(x_val_few_re), net.src_net)\n",
    "x_val_few_resNetFeature = x_val_few_resNetFeature.cpu().detach().numpy()"
   ]
  },
  {
   "cell_type": "code",
   "execution_count": null,
   "metadata": {
    "colab": {
     "base_uri": "https://localhost:8080/"
    },
    "id": "47rkSQW8yIiz",
    "outputId": "ec90689c-a061-450b-909b-fceef2048a96"
   },
   "outputs": [
    {
     "name": "stdout",
     "output_type": "stream",
     "text": [
      "(500, 512)\n"
     ]
    }
   ],
   "source": [
    "print(x_train_few_resNetFeature.shape)"
   ]
  },
  {
   "cell_type": "markdown",
   "metadata": {
    "id": "7022RIHcCmsb"
   },
   "source": [
    "### Extract feature (ResNet)"
   ]
  },
  {
   "cell_type": "code",
   "execution_count": null,
   "metadata": {
    "id": "UdwnSIrFCmsc"
   },
   "outputs": [],
   "source": [
    "def extractor_from_layer3(net):\n",
    "\tlayers = [net.conv1, net.layer1, net.layer2, net.layer3, net.bn, net.relu, net.avgpool]\n",
    "\treturn nn.Sequential(*layers)\n",
    " \n",
    "def featureExtract(x, ext):\n",
    "  assert list(x.shape[1:]) == [3, 32, 32]\n",
    "  out = ext(x.float().cuda())\n",
    "\n",
    "  return out.view(out.size(0), -1)"
   ]
  },
  {
   "cell_type": "code",
   "execution_count": null,
   "metadata": {
    "colab": {
     "base_uri": "https://localhost:8080/"
    },
    "id": "vD6o4U6HCmsc",
    "outputId": "e6357657-7542-471d-d233-9ba9f7c3bf8f"
   },
   "outputs": [
    {
     "data": {
      "text/plain": [
       "ResNetCifar(\n",
       "  (conv1): Conv2d(3, 16, kernel_size=(3, 3), stride=(1, 1), padding=(1, 1), bias=False)\n",
       "  (layer1): Sequential(\n",
       "    (0): BasicBlock(\n",
       "      (downsample): Downsample(\n",
       "        (avg): AvgPool2d(kernel_size=1, stride=1, padding=0)\n",
       "      )\n",
       "      (bn1): BatchNorm2d(16, eps=1e-05, momentum=0.1, affine=True, track_running_stats=True)\n",
       "      (relu1): ReLU(inplace=True)\n",
       "      (conv1): Conv2d(16, 32, kernel_size=(3, 3), stride=(1, 1), padding=(1, 1), bias=False)\n",
       "      (bn2): BatchNorm2d(32, eps=1e-05, momentum=0.1, affine=True, track_running_stats=True)\n",
       "      (relu2): ReLU(inplace=True)\n",
       "      (conv2): Conv2d(32, 32, kernel_size=(3, 3), stride=(1, 1), padding=(1, 1), bias=False)\n",
       "    )\n",
       "    (1): BasicBlock(\n",
       "      (bn1): BatchNorm2d(32, eps=1e-05, momentum=0.1, affine=True, track_running_stats=True)\n",
       "      (relu1): ReLU(inplace=True)\n",
       "      (conv1): Conv2d(32, 32, kernel_size=(3, 3), stride=(1, 1), padding=(1, 1), bias=False)\n",
       "      (bn2): BatchNorm2d(32, eps=1e-05, momentum=0.1, affine=True, track_running_stats=True)\n",
       "      (relu2): ReLU(inplace=True)\n",
       "      (conv2): Conv2d(32, 32, kernel_size=(3, 3), stride=(1, 1), padding=(1, 1), bias=False)\n",
       "    )\n",
       "    (2): BasicBlock(\n",
       "      (bn1): BatchNorm2d(32, eps=1e-05, momentum=0.1, affine=True, track_running_stats=True)\n",
       "      (relu1): ReLU(inplace=True)\n",
       "      (conv1): Conv2d(32, 32, kernel_size=(3, 3), stride=(1, 1), padding=(1, 1), bias=False)\n",
       "      (bn2): BatchNorm2d(32, eps=1e-05, momentum=0.1, affine=True, track_running_stats=True)\n",
       "      (relu2): ReLU(inplace=True)\n",
       "      (conv2): Conv2d(32, 32, kernel_size=(3, 3), stride=(1, 1), padding=(1, 1), bias=False)\n",
       "    )\n",
       "    (3): BasicBlock(\n",
       "      (bn1): BatchNorm2d(32, eps=1e-05, momentum=0.1, affine=True, track_running_stats=True)\n",
       "      (relu1): ReLU(inplace=True)\n",
       "      (conv1): Conv2d(32, 32, kernel_size=(3, 3), stride=(1, 1), padding=(1, 1), bias=False)\n",
       "      (bn2): BatchNorm2d(32, eps=1e-05, momentum=0.1, affine=True, track_running_stats=True)\n",
       "      (relu2): ReLU(inplace=True)\n",
       "      (conv2): Conv2d(32, 32, kernel_size=(3, 3), stride=(1, 1), padding=(1, 1), bias=False)\n",
       "    )\n",
       "  )\n",
       "  (layer2): Sequential(\n",
       "    (0): BasicBlock(\n",
       "      (downsample): Downsample(\n",
       "        (avg): AvgPool2d(kernel_size=2, stride=2, padding=0)\n",
       "      )\n",
       "      (bn1): BatchNorm2d(32, eps=1e-05, momentum=0.1, affine=True, track_running_stats=True)\n",
       "      (relu1): ReLU(inplace=True)\n",
       "      (conv1): Conv2d(32, 64, kernel_size=(3, 3), stride=(2, 2), padding=(1, 1), bias=False)\n",
       "      (bn2): BatchNorm2d(64, eps=1e-05, momentum=0.1, affine=True, track_running_stats=True)\n",
       "      (relu2): ReLU(inplace=True)\n",
       "      (conv2): Conv2d(64, 64, kernel_size=(3, 3), stride=(1, 1), padding=(1, 1), bias=False)\n",
       "    )\n",
       "    (1): BasicBlock(\n",
       "      (bn1): BatchNorm2d(64, eps=1e-05, momentum=0.1, affine=True, track_running_stats=True)\n",
       "      (relu1): ReLU(inplace=True)\n",
       "      (conv1): Conv2d(64, 64, kernel_size=(3, 3), stride=(1, 1), padding=(1, 1), bias=False)\n",
       "      (bn2): BatchNorm2d(64, eps=1e-05, momentum=0.1, affine=True, track_running_stats=True)\n",
       "      (relu2): ReLU(inplace=True)\n",
       "      (conv2): Conv2d(64, 64, kernel_size=(3, 3), stride=(1, 1), padding=(1, 1), bias=False)\n",
       "    )\n",
       "    (2): BasicBlock(\n",
       "      (bn1): BatchNorm2d(64, eps=1e-05, momentum=0.1, affine=True, track_running_stats=True)\n",
       "      (relu1): ReLU(inplace=True)\n",
       "      (conv1): Conv2d(64, 64, kernel_size=(3, 3), stride=(1, 1), padding=(1, 1), bias=False)\n",
       "      (bn2): BatchNorm2d(64, eps=1e-05, momentum=0.1, affine=True, track_running_stats=True)\n",
       "      (relu2): ReLU(inplace=True)\n",
       "      (conv2): Conv2d(64, 64, kernel_size=(3, 3), stride=(1, 1), padding=(1, 1), bias=False)\n",
       "    )\n",
       "    (3): BasicBlock(\n",
       "      (bn1): BatchNorm2d(64, eps=1e-05, momentum=0.1, affine=True, track_running_stats=True)\n",
       "      (relu1): ReLU(inplace=True)\n",
       "      (conv1): Conv2d(64, 64, kernel_size=(3, 3), stride=(1, 1), padding=(1, 1), bias=False)\n",
       "      (bn2): BatchNorm2d(64, eps=1e-05, momentum=0.1, affine=True, track_running_stats=True)\n",
       "      (relu2): ReLU(inplace=True)\n",
       "      (conv2): Conv2d(64, 64, kernel_size=(3, 3), stride=(1, 1), padding=(1, 1), bias=False)\n",
       "    )\n",
       "  )\n",
       "  (layer3): Sequential(\n",
       "    (0): BasicBlock(\n",
       "      (downsample): Downsample(\n",
       "        (avg): AvgPool2d(kernel_size=2, stride=2, padding=0)\n",
       "      )\n",
       "      (bn1): BatchNorm2d(64, eps=1e-05, momentum=0.1, affine=True, track_running_stats=True)\n",
       "      (relu1): ReLU(inplace=True)\n",
       "      (conv1): Conv2d(64, 128, kernel_size=(3, 3), stride=(2, 2), padding=(1, 1), bias=False)\n",
       "      (bn2): BatchNorm2d(128, eps=1e-05, momentum=0.1, affine=True, track_running_stats=True)\n",
       "      (relu2): ReLU(inplace=True)\n",
       "      (conv2): Conv2d(128, 128, kernel_size=(3, 3), stride=(1, 1), padding=(1, 1), bias=False)\n",
       "    )\n",
       "    (1): BasicBlock(\n",
       "      (bn1): BatchNorm2d(128, eps=1e-05, momentum=0.1, affine=True, track_running_stats=True)\n",
       "      (relu1): ReLU(inplace=True)\n",
       "      (conv1): Conv2d(128, 128, kernel_size=(3, 3), stride=(1, 1), padding=(1, 1), bias=False)\n",
       "      (bn2): BatchNorm2d(128, eps=1e-05, momentum=0.1, affine=True, track_running_stats=True)\n",
       "      (relu2): ReLU(inplace=True)\n",
       "      (conv2): Conv2d(128, 128, kernel_size=(3, 3), stride=(1, 1), padding=(1, 1), bias=False)\n",
       "    )\n",
       "    (2): BasicBlock(\n",
       "      (bn1): BatchNorm2d(128, eps=1e-05, momentum=0.1, affine=True, track_running_stats=True)\n",
       "      (relu1): ReLU(inplace=True)\n",
       "      (conv1): Conv2d(128, 128, kernel_size=(3, 3), stride=(1, 1), padding=(1, 1), bias=False)\n",
       "      (bn2): BatchNorm2d(128, eps=1e-05, momentum=0.1, affine=True, track_running_stats=True)\n",
       "      (relu2): ReLU(inplace=True)\n",
       "      (conv2): Conv2d(128, 128, kernel_size=(3, 3), stride=(1, 1), padding=(1, 1), bias=False)\n",
       "    )\n",
       "    (3): BasicBlock(\n",
       "      (bn1): BatchNorm2d(128, eps=1e-05, momentum=0.1, affine=True, track_running_stats=True)\n",
       "      (relu1): ReLU(inplace=True)\n",
       "      (conv1): Conv2d(128, 128, kernel_size=(3, 3), stride=(1, 1), padding=(1, 1), bias=False)\n",
       "      (bn2): BatchNorm2d(128, eps=1e-05, momentum=0.1, affine=True, track_running_stats=True)\n",
       "      (relu2): ReLU(inplace=True)\n",
       "      (conv2): Conv2d(128, 128, kernel_size=(3, 3), stride=(1, 1), padding=(1, 1), bias=False)\n",
       "    )\n",
       "  )\n",
       "  (bn): BatchNorm2d(128, eps=1e-05, momentum=0.1, affine=True, track_running_stats=True)\n",
       "  (relu): ReLU(inplace=True)\n",
       "  (avgpool): AvgPool2d(kernel_size=8, stride=8, padding=0)\n",
       "  (fc): Linear(in_features=128, out_features=10, bias=True)\n",
       ")"
      ]
     },
     "execution_count": 19,
     "metadata": {
      "tags": []
     },
     "output_type": "execute_result"
    }
   ],
   "source": [
    "model_dir = prefix + '/active-learning-transfer/models/cycada/cifar_to_stl_uda'\n",
    "load_name = model_dir + \"/ResNet_noise0.2_width2.pth\"\n",
    "\n",
    "depth = 26\n",
    "width = 2 #16\n",
    "\n",
    "net = ResNetCifar(depth, width, classes=10, channels=3).cuda()\n",
    "net.load_state_dict(torch.load(load_name))\n",
    "net.eval()"
   ]
  },
  {
   "cell_type": "code",
   "execution_count": null,
   "metadata": {
    "id": "KAO1eaZURtMj"
   },
   "outputs": [],
   "source": [
    "x_train_few_resNetFeature = featureExtract(torch.from_numpy(x_train_few), extractor_from_layer3(net))\n",
    "x_train_few_resNetFeature = x_train_few_resNetFeature.cpu().detach().numpy()\n",
    "\n",
    "# val feature will be used when perform AL selection\n",
    "x_val_few_resNetFeature = featureExtract(torch.from_numpy(x_val_few), extractor_from_layer3(net))\n",
    "x_val_few_resNetFeature = x_val_few_resNetFeature.cpu().detach().numpy()"
   ]
  },
  {
   "cell_type": "code",
   "execution_count": null,
   "metadata": {
    "colab": {
     "base_uri": "https://localhost:8080/"
    },
    "id": "pEQRjs3qPCMU",
    "outputId": "7a57a3dd-02c1-460c-c238-920b65e32ae0"
   },
   "outputs": [
    {
     "name": "stdout",
     "output_type": "stream",
     "text": [
      "torch.Size([500, 3, 32, 32])\n",
      "(500, 3, 32, 32)\n"
     ]
    }
   ],
   "source": [
    "print(x_train_few_re.shape)\n",
    "print(x_train_few.shape)"
   ]
  },
  {
   "cell_type": "markdown",
   "metadata": {
    "id": "1sLvK2EARjuI"
   },
   "source": [
    "### Extract feature (AFN)"
   ]
  },
  {
   "cell_type": "code",
   "execution_count": 19,
   "metadata": {
    "id": "V5B-YuinRjuW"
   },
   "outputs": [],
   "source": [
    "def featureExtract(x, netG, netF):\n",
    "    with torch.no_grad():\n",
    "        s_bottleneck = netG(x.cuda())\n",
    "        emb, s_logit = netF(s_bottleneck)\n",
    "    return emb.view(emb.size(0), -1).cpu().detach()"
   ]
  },
  {
   "cell_type": "code",
   "execution_count": 20,
   "metadata": {
    "colab": {
     "base_uri": "https://localhost:8080/",
     "height": 338,
     "referenced_widgets": [
      "d5374c1e9cce4addb0c750cfda7b7a8c",
      "e11e91af4be14db29d6b501d4786c2a0",
      "39069bb8c649464a8280d7985b6b64e7",
      "8c1832f309964426a77c7dd084c209dc",
      "626bb14849ca4946975944d907b12eb2",
      "e7d2c71a66f74ccfbcb22a3ecd5c1909",
      "7c10e2215b444925b28eef746209fc49",
      "7b2a8ac55d5a4ae9b2a68eb3beb5d082"
     ]
    },
    "id": "ZUY7qMARRjuX",
    "outputId": "ce9ced5b-da34-44ee-98f4-6c91011ddf72"
   },
   "outputs": [
    {
     "name": "stderr",
     "output_type": "stream",
     "text": [
      "Downloading: \"https://download.pytorch.org/models/resnet101-5d3b4d8f.pth\" to /root/.cache/torch/hub/checkpoints/resnet101-5d3b4d8f.pth\n"
     ]
    },
    {
     "data": {
      "application/vnd.jupyter.widget-view+json": {
       "model_id": "d5374c1e9cce4addb0c750cfda7b7a8c",
       "version_major": 2,
       "version_minor": 0
      },
      "text/plain": [
       "HBox(children=(FloatProgress(value=0.0, max=178728960.0), HTML(value='')))"
      ]
     },
     "metadata": {
      "tags": []
     },
     "output_type": "display_data"
    },
    {
     "name": "stdout",
     "output_type": "stream",
     "text": [
      "\n"
     ]
    },
    {
     "data": {
      "text/plain": [
       "ResClassifier(\n",
       "  (fc1): Sequential(\n",
       "    (0): Linear(in_features=2048, out_features=1000, bias=True)\n",
       "    (1): BatchNorm1d(1000, eps=1e-05, momentum=0.1, affine=True, track_running_stats=True)\n",
       "    (2): ReLU(inplace=True)\n",
       "    (3): Dropout(p=0.5, inplace=False)\n",
       "  )\n",
       "  (fc2): Sequential(\n",
       "    (0): Linear(in_features=1000, out_features=1000, bias=True)\n",
       "    (1): BatchNorm1d(1000, eps=1e-05, momentum=0.1, affine=True, track_running_stats=True)\n",
       "    (2): ReLU(inplace=True)\n",
       "    (3): Dropout(p=0.5, inplace=False)\n",
       "  )\n",
       "  (fc3): Linear(in_features=1000, out_features=12, bias=True)\n",
       ")"
      ]
     },
     "execution_count": 20,
     "metadata": {
      "tags": []
     },
     "output_type": "execute_result"
    }
   ],
   "source": [
    "model_dir = prefix + '/active-learning-transfer/models/cycada/visda/iter_1_32/'\n",
    "load_name_G = model_dir + \"/VisDA_HAFN_resnet101_netG_1.1_10.pth\"\n",
    "load_name_F = model_dir + \"/VisDA_HAFN_resnet101_netF_1.1_10.pth\"\n",
    "\n",
    "netG = ResBase101().cuda()\n",
    "netF = ResClassifier(class_num=12, extract=True).cuda()\n",
    "netG.load_state_dict(torch.load(load_name_G))\n",
    "netG.eval()\n",
    "netF.load_state_dict(torch.load(load_name_F))\n",
    "netF.eval()"
   ]
  },
  {
   "cell_type": "code",
   "execution_count": 21,
   "metadata": {
    "id": "CTIPsGeLRjuY"
   },
   "outputs": [],
   "source": [
    "x_train_few_resNetFeature = featureExtract(x_train_few_re, netG, netF)\n",
    "x_train_few_resNetFeature = x_train_few_resNetFeature.numpy()\n",
    "\n",
    "# val feature will be used when perform AL selection\n",
    "x_val_few_resNetFeature = featureExtract(x_val_few_re, netG, netF)\n",
    "x_val_few_resNetFeature = x_val_few_resNetFeature.numpy()"
   ]
  },
  {
   "cell_type": "code",
   "execution_count": null,
   "metadata": {
    "id": "YHLeTT6Gp2HE"
   },
   "outputs": [],
   "source": [
    "pickle.dump([x_train_few_resNetFeature, x_val_few_resNetFeature], open(sample_dir+'/visda_synthetic_feature.data', 'wb'))"
   ]
  },
  {
   "cell_type": "markdown",
   "metadata": {
    "id": "LJ58qb_w1Kd7"
   },
   "source": [
    "### Train deepset"
   ]
  },
  {
   "cell_type": "code",
   "execution_count": null,
   "metadata": {
    "colab": {
     "base_uri": "https://localhost:8080/"
    },
    "id": "axBifmleyyPL",
    "outputId": "f4e298b8-b270-4ce6-8745-40f67ff02059"
   },
   "outputs": [
    {
     "name": "stdout",
     "output_type": "stream",
     "text": [
      "input dim: 1000\n"
     ]
    }
   ],
   "source": [
    "input_dim = x_train_few_resNetFeature.shape[1] # 最多2000\n",
    "print(\"input dim:\", input_dim)\n",
    "set_features=128\n",
    "hidden_ext=128\n",
    "hidden_reg=128\n",
    "n_epoch=20\n",
    "batch_size=32\n",
    "lr = 1e-5\n",
    "\n",
    "# dset = DeepSet(input_dim, set_features, hidden_ext, hidden_reg)\n",
    "# model = Utility_deepset(model=dset)\n",
    "# model.fit(x_train_few_resNetFeature, (X_feature_train, y_feature_train), (X_feature_test, y_feature_test), n_epoch, batch_size, lr)"
   ]
  },
  {
   "cell_type": "code",
   "execution_count": null,
   "metadata": {
    "id": "Uo7MrdxHK3Rl"
   },
   "outputs": [],
   "source": [
    "torch.save(model.model.state_dict(), model_dir+'/deepset_test.state_dict')"
   ]
  },
  {
   "cell_type": "code",
   "execution_count": null,
   "metadata": {
    "colab": {
     "base_uri": "https://localhost:8080/"
    },
    "id": "rpv_U-bWntnF",
    "outputId": "d7adde92-df96-432d-d211-ff249e96ec27"
   },
   "outputs": [
    {
     "name": "stdout",
     "output_type": "stream",
     "text": [
      "n_epoch: 0\n"
     ]
    },
    {
     "name": "stderr",
     "output_type": "stream",
     "text": [
      "/usr/local/lib/python3.7/dist-packages/ipykernel_launcher.py:71: DeprecationWarning: np.asscalar(a) is deprecated since NumPy v1.16, use a.item() instead\n",
      "/usr/local/lib/python3.7/dist-packages/ipykernel_launcher.py:101: DeprecationWarning: np.asscalar(a) is deprecated since NumPy v1.16, use a.item() instead\n"
     ]
    },
    {
     "name": "stdout",
     "output_type": "stream",
     "text": [
      "Epoch 0 Train Loss 0.020965253051370383 Test Loss 0.007114186427562117\n",
      "Sample Size R=4\n",
      "185\n",
      "n_epoch: 1\n",
      "Epoch 0 Train Loss 0.004148027336224914 Test Loss 0.002873051938299573\n",
      "Sample Size R=4\n",
      "122\n",
      "n_epoch: 2\n",
      "Epoch 0 Train Loss 0.002728389258030802 Test Loss 0.002341822710327051\n",
      "Sample Size R=4\n",
      "151\n",
      "n_epoch: 3\n",
      "Epoch 0 Train Loss 0.0023228563447482884 Test Loss 0.0020525278753614033\n",
      "Sample Size R=4\n",
      "84\n",
      "n_epoch: 4\n",
      "Epoch 0 Train Loss 0.002108189910184592 Test Loss 0.0018970462020585011\n",
      "Sample Size R=4\n",
      "106\n",
      "n_epoch: 5\n",
      "Epoch 0 Train Loss 0.0019846451554913075 Test Loss 0.0017948494990265838\n",
      "Sample Size R=4\n",
      "96\n",
      "n_epoch: 6\n",
      "Epoch 0 Train Loss 0.0018939407011494042 Test Loss 0.0017124753638525832\n",
      "Sample Size R=4\n",
      "78\n",
      "n_epoch: 7\n",
      "Epoch 0 Train Loss 0.0018197563625872136 Test Loss 0.0016464042399309627\n",
      "Sample Size R=4\n",
      "83\n",
      "n_epoch: 8\n",
      "Epoch 0 Train Loss 0.0017586728355381638 Test Loss 0.0015926520482760546\n",
      "Sample Size R=4\n",
      "62\n",
      "n_epoch: 9\n",
      "Epoch 0 Train Loss 0.0017076925933361053 Test Loss 0.00154767526872362\n",
      "Sample Size R=4\n",
      "65\n",
      "n_epoch: 10\n",
      "Epoch 0 Train Loss 0.0016646869245450944 Test Loss 0.0015098836720456293\n",
      "Sample Size R=4\n",
      "47\n",
      "n_epoch: 11\n",
      "Epoch 0 Train Loss 0.0016280927925836294 Test Loss 0.0014758024688016852\n",
      "Sample Size R=4\n",
      "77\n",
      "n_epoch: 12\n",
      "Epoch 0 Train Loss 0.001595380431273952 Test Loss 0.0014449715661619073\n",
      "Sample Size R=4\n",
      "69\n",
      "n_epoch: 13\n",
      "Epoch 0 Train Loss 0.0015703526404686273 Test Loss 0.0014227323432502814\n",
      "Sample Size R=4\n",
      "73\n",
      "n_epoch: 14\n",
      "Epoch 0 Train Loss 0.0015586724271997809 Test Loss 0.001425193024871958\n",
      "Sample Size R=4\n",
      "88\n",
      "n_epoch: 15\n",
      "Epoch 0 Train Loss 0.0015014267065562308 Test Loss 0.0013778156036483127\n",
      "Sample Size R=4\n",
      "111\n",
      "n_epoch: 16\n",
      "Epoch 0 Train Loss 0.0015042571993544697 Test Loss 0.0013828416783197275\n",
      "Sample Size R=4\n",
      "118\n",
      "n_epoch: 17\n",
      "Epoch 0 Train Loss 0.0014555839996319264 Test Loss 0.0013434477006301622\n",
      "Sample Size R=4\n",
      "137\n",
      "n_epoch: 18\n",
      "Epoch 0 Train Loss 0.0014723575327079744 Test Loss 0.0013582347044037934\n",
      "Sample Size R=4\n",
      "125\n",
      "n_epoch: 19\n",
      "Epoch 0 Train Loss 0.0014314357789698988 Test Loss 0.0013159767560467764\n",
      "Sample Size R=4\n",
      "126\n"
     ]
    }
   ],
   "source": [
    "FLAG = False\n",
    "\n",
    "while FLAG == False:\n",
    "  dset = DeepSet(input_dim, set_features, hidden_ext, hidden_reg)\n",
    "  model = Utility_deepset(model=dset)\n",
    "\n",
    "  for e in range(n_epoch):\n",
    "    print('n_epoch:', e)\n",
    "    model.fit(x_train_few_resNetFeature, (X_feature_train, y_feature_train), (X_feature_test, y_feature_test), 1, batch_size, lr)\n",
    "    _, deepset_selected_rank, _ = findMostValuableSample_deepset_stochasticgreedy(model.model, visda_x_unlabel_resNetFeature, target_size, epsilon=1e-1, seed=101)\n",
    "    print(sum(np.array(deepset_selected_rank) < 400))\n",
    "    if sum(np.array(deepset_selected_rank) < 400) < 130:\n",
    "      FLAG = True\n",
    "      torch.save(model.model.state_dict(), model_dir+'/deepset_{}_{}_{}_{}_{}.state_dict'.format(set_features,hidden_ext,hidden_reg, e, sum(np.array(deepset_selected_rank) < 400)))\n",
    "\n"
   ]
  },
  {
   "cell_type": "code",
   "execution_count": 22,
   "metadata": {
    "colab": {
     "base_uri": "https://localhost:8080/"
    },
    "id": "2Mt2bNHo-CXP",
    "outputId": "5db53758-c70e-4fab-8635-10c30f7c9303"
   },
   "outputs": [
    {
     "name": "stdout",
     "output_type": "stream",
     "text": [
      "input dim: 1000\n"
     ]
    },
    {
     "data": {
      "text/plain": [
       "<All keys matched successfully>"
      ]
     },
     "execution_count": 22,
     "metadata": {
      "tags": []
     },
     "output_type": "execute_result"
    }
   ],
   "source": [
    "input_dim = x_train_few_resNetFeature.shape[1] # 最多2000\n",
    "print(\"input dim:\", input_dim)\n",
    "set_features=128\n",
    "hidden_ext=128\n",
    "hidden_reg=128\n",
    "\n",
    "dset = DeepSet(input_dim, set_features, hidden_ext, hidden_reg)\n",
    "model = Utility_deepset(model=dset)\n",
    "\n",
    "# load_name = model_dir + '/deepset_256_256_256_5_704.state_dict'\n",
    "load_name = model_dir + '/deepset_128_128_128_10_47.state_dict'\n",
    "model.model.load_state_dict(torch.load(load_name))"
   ]
  },
  {
   "cell_type": "code",
   "execution_count": null,
   "metadata": {
    "colab": {
     "base_uri": "https://localhost:8080/"
    },
    "id": "1V7qxAXOsqDy",
    "outputId": "3823402f-d6f0-40dc-a601-d9b610cb707a"
   },
   "outputs": [
    {
     "name": "stdout",
     "output_type": "stream",
     "text": [
      "Sample Size R=4\n",
      "47\n"
     ]
    }
   ],
   "source": [
    "_, deepset_selected_rank, _ = findMostValuableSample_deepset_stochasticgreedy(model.model, visda_x_unlabel_resNetFeature, target_size, epsilon=1e-1, seed=101)\n",
    "print(sum(np.array(deepset_selected_rank) < 400))"
   ]
  },
  {
   "cell_type": "markdown",
   "metadata": {
    "id": "1rU-sv3J8Blp"
   },
   "source": [
    "## Target Domain (REAL)"
   ]
  },
  {
   "cell_type": "markdown",
   "metadata": {
    "id": "lsgALP2X8IOz"
   },
   "source": [
    "### Sample target unlabeled"
   ]
  },
  {
   "cell_type": "code",
   "execution_count": 23,
   "metadata": {
    "id": "DECREg8c9g-4"
   },
   "outputs": [],
   "source": [
    "visda_x_unlabel_re, visda_y_unlabel_re = pickle.load(open(sample_dir + '/visda_tgt_unlabel2000.data', 'rb'))"
   ]
  },
  {
   "cell_type": "code",
   "execution_count": 27,
   "metadata": {
    "colab": {
     "base_uri": "https://localhost:8080/"
    },
    "id": "MnqVyWN6yYxZ",
    "outputId": "6e164ec4-451d-4a23-96a1-0c24ada0b25d"
   },
   "outputs": [
    {
     "name": "stdout",
     "output_type": "stream",
     "text": [
      "tensor([0., 0., 0., 1., 0., 1., 1., 1., 0., 1.])\n",
      "torch.Size([2000, 3, 224, 224])\n"
     ]
    }
   ],
   "source": [
    "target_size = 1000\n",
    "unlabel_size = 2000\n",
    "\n",
    "# np.random.seed(unlabel_size)\n",
    "# idx = np.random.choice(range(visda_x_train.shape[0]), size=unlabel_size, replace=False)\n",
    "\n",
    "# visda_x_unlabel_re, visda_y_unlabel_re = visda_x_unlabel_re[idx], visda_y_unlabel_re[idx]\n",
    "# visda_x_unlabel_re_1d = visda_x_unlabel_re.reshape((visda_x_unlabel_re.shape[0], -1))\n",
    "# print(visda_x_unlabel_few.shape)\n",
    "# print(visda_y_unlabel_few.shape)\n",
    "# print(visda_x_unlabel_few_1d.shape)\n",
    "\n",
    "noise_frac = 0.2\n",
    "n_noise_data = int(unlabel_size*noise_frac)\n",
    "noise_scale = 10\n",
    "\n",
    "visda_x_unlabel_re[:n_noise_data] = addGaussianNoise(visda_x_unlabel_re[:n_noise_data], scale=noise_scale)\n",
    "\n",
    "visda_x_unlabel_re_1d = visda_x_unlabel_re.reshape((visda_x_unlabel_re.shape[0], -1))\n",
    "# visda_x_unlabel_few_channelLast = np.moveaxis(visda_x_unlabel_few, 1, 3) #NOTE check if need this\n",
    "print(visda_x_unlabel_re_1d[0, :10])\n",
    "\n",
    "visda_x_test_re, visda_y_test_re = pickle.load(open(sample_dir + '/visda_tgt_test2000.data', 'rb'))\n",
    "print(visda_x_test_re.shape)"
   ]
  },
  {
   "cell_type": "code",
   "execution_count": null,
   "metadata": {
    "colab": {
     "base_uri": "https://localhost:8080/"
    },
    "id": "qyP4H0lNhQvU",
    "outputId": "e72b2834-1ec7-43b0-d4da-c20d6b15fea6"
   },
   "outputs": [
    {
     "name": "stdout",
     "output_type": "stream",
     "text": [
      "torch.Size([2000, 3, 224, 224])\n"
     ]
    }
   ],
   "source": [
    "print(visda_x_unlabel_re.shape)"
   ]
  },
  {
   "cell_type": "code",
   "execution_count": 28,
   "metadata": {
    "id": "x9mbuAu6VZku"
   },
   "outputs": [],
   "source": [
    "visda_x_unlabel_resNetFeature = []\n",
    "for i in range(200):\n",
    "  # import pdb; pdb.set_trace()\n",
    "  x_r = featureExtract(visda_x_unlabel_re[10*i:10*(i+1)], netG, netF)\n",
    "  visda_x_unlabel_resNetFeature.append(x_r)\n",
    "\n",
    "b = torch.Tensor(2000, 1000)\n",
    "visda_x_unlabel_resNetFeature = torch.cat(visda_x_unlabel_resNetFeature, out=b)\n",
    "visda_x_unlabel_resNetFeature = visda_x_unlabel_resNetFeature.reshape(2000, 1000).numpy()\n",
    "\n"
   ]
  },
  {
   "cell_type": "code",
   "execution_count": null,
   "metadata": {
    "id": "W1Po57X-d0iU"
   },
   "outputs": [],
   "source": [
    "pickle.dump(visda_x_unlabel_resNetFeature, open(sample_dir+'/visda_unlabel200_FeatResnet101.data', 'wb'))"
   ]
  },
  {
   "cell_type": "markdown",
   "metadata": {
    "id": "_UrPG_GO_aOy"
   },
   "source": [
    "### DULO"
   ]
  },
  {
   "cell_type": "code",
   "execution_count": null,
   "metadata": {
    "colab": {
     "base_uri": "https://localhost:8080/"
    },
    "id": "HrvLoYh1_bBJ",
    "outputId": "cc16fd65-b8dd-40ac-c668-3e6bcb57bd23"
   },
   "outputs": [
    {
     "name": "stdout",
     "output_type": "stream",
     "text": [
      "Sample Size R=18\n"
     ]
    },
    {
     "data": {
      "text/plain": [
       "54.027061462402344"
      ]
     },
     "execution_count": 45,
     "metadata": {
      "tags": []
     },
     "output_type": "execute_result"
    }
   ],
   "source": [
    "import time\n",
    "start = time.time()\n",
    "_, deepset_selected_rank, _ = findMostValuableSample_deepset_stochasticgreedy(model.model, visda_x_unlabel_resNetFeature, target_size, epsilon=1e-4, seed=100)\n",
    "time.time() - start"
   ]
  },
  {
   "cell_type": "code",
   "execution_count": null,
   "metadata": {
    "colab": {
     "base_uri": "https://localhost:8080/"
    },
    "id": "yODuTrSkhVar",
    "outputId": "7fad510c-94bf-4f0a-e053-141ab4383334"
   },
   "outputs": [
    {
     "name": "stdout",
     "output_type": "stream",
     "text": [
      "400\n"
     ]
    }
   ],
   "source": [
    "print(n_noise_data)\n",
    "# print(deepset_selected_rank)"
   ]
  },
  {
   "cell_type": "code",
   "execution_count": null,
   "metadata": {
    "colab": {
     "base_uri": "https://localhost:8080/"
    },
    "id": "jxPDwJSyhL3M",
    "outputId": "e12b6b9c-c53e-425c-a0b2-901c56d31c82"
   },
   "outputs": [
    {
     "name": "stdout",
     "output_type": "stream",
     "text": [
      "[ 100  200  300  400  500  600  700  800  900 1000]\n",
      "[4, 9, 14, 18, 24, 27, 30, 34, 41, 47]\n"
     ]
    }
   ],
   "source": [
    "# check noisy\n",
    "inspect_points = np.linspace(100, target_size, num=10).astype(int)\n",
    "noise_cnt = []\n",
    "for i in inspect_points:\n",
    "  cnt = sum(x < 400 for x in deepset_selected_rank[:i])\n",
    "  noise_cnt.append(cnt)\n",
    "\n",
    "print(inspect_points)\n",
    "print(noise_cnt)"
   ]
  },
  {
   "cell_type": "code",
   "execution_count": null,
   "metadata": {
    "colab": {
     "base_uri": "https://localhost:8080/"
    },
    "id": "J7PtuVSew1md",
    "outputId": "0cfe5f73-8dae-4283-ada8-b0979aadfdd0"
   },
   "outputs": [
    {
     "name": "stdout",
     "output_type": "stream",
     "text": [
      "[ 100  200  300  400  500  600  700  800  900 1000]\n",
      "[24, 46, 73, 89, 115, 139, 157, 179, 197, 218]\n"
     ]
    }
   ],
   "source": [
    "random_perm = np.random.permutation(range(unlabel_size))\n",
    "noise_cnt = []\n",
    "for i in inspect_points:\n",
    "  cnt = sum(x < 400 for x in random_perm[:i])\n",
    "  noise_cnt.append(cnt)\n",
    "\n",
    "print(inspect_points)\n",
    "print(noise_cnt)"
   ]
  },
  {
   "cell_type": "markdown",
   "metadata": {
    "id": "mnT4ELdl_ljl"
   },
   "source": [
    "### Baselines"
   ]
  },
  {
   "cell_type": "code",
   "execution_count": null,
   "metadata": {
    "colab": {
     "base_uri": "https://localhost:8080/"
    },
    "id": "F_fGroyh_lzm",
    "outputId": "bf9b04e8-873e-45da-f0a2-1ad2221ab3f9"
   },
   "outputs": [
    {
     "name": "stderr",
     "output_type": "stream",
     "text": [
      "/usr/local/lib/python3.7/dist-packages/numba/np/ufunc/parallel.py:363: NumbaWarning: The TBB threading layer requires TBB version 2019.5 or later i.e., TBB_INTERFACE_VERSION >= 11005. Found TBB_INTERFACE_VERSION = 9107. The TBB threading layer is disabled.\n",
      "  warnings.warn(problem)\n"
     ]
    },
    {
     "name": "stdout",
     "output_type": "stream",
     "text": [
      "Model Accuracy: 100.0\n"
     ]
    },
    {
     "name": "stderr",
     "output_type": "stream",
     "text": [
      "/usr/local/lib/python3.7/dist-packages/ipykernel_launcher.py:9: UserWarning: nn.init.xavier_uniform is now deprecated in favor of nn.init.xavier_uniform_.\n",
      "  if __name__ == '__main__':\n"
     ]
    }
   ],
   "source": [
    "from torch.utils.data import Dataset, DataLoader, TensorDataset\n",
    "\n",
    "\n",
    "class torchLogisticRegression(torch.nn.Module):\n",
    "    def __init__(self, input_dim, output_dim):\n",
    "        super(torchLogisticRegression, self).__init__()\n",
    "        self.flatten = Flatten()\n",
    "        self.linear = torch.nn.Linear(input_dim, output_dim)\n",
    "        torch.nn.init.xavier_uniform(self.linear.weight)\n",
    "        torch.nn.init.zeros_(self.linear.bias)\n",
    "        self.input_dim = input_dim\n",
    "\n",
    "    def forward(self, x, last=False):\n",
    "        outputs = self.linear(x)\n",
    "        if last:\n",
    "            return outputs, x\n",
    "        else:\n",
    "            return outputs\n",
    "\n",
    "    def get_embedding_dim(self):\n",
    "        return self.input_dim\n",
    "\n",
    "\n",
    "\n",
    "def torch_encoder_logistic_data_to_net(x_train, y_train, x_test, y_test, verbose=0):\n",
    "\n",
    "  criterion = torch.nn.CrossEntropyLoss()\n",
    "  net = torchLogisticRegression(x_train.shape[1], 12)\n",
    "  optimizer = torch.optim.Adam(net.parameters(), lr=0.001, eps=1e-7)\n",
    "\n",
    "  tensor_x, tensor_y = torch.Tensor(x_train), torch.Tensor(y_train)\n",
    "  fewshot_dataset = TensorDataset(tensor_x,tensor_y)\n",
    "  train_loader = DataLoader(dataset=fewshot_dataset, batch_size=32, shuffle=True)\n",
    "  tensor_x_test, tensor_y_test = torch.Tensor(x_test), torch.Tensor(y_test)\n",
    "  test_dataset = TensorDataset(tensor_x_test,tensor_y_test)\n",
    "  test_loader = DataLoader(dataset=test_dataset, batch_size=32, shuffle=False)\n",
    "\n",
    "  for epoch in range(5):\n",
    "      for i, (images, labels) in enumerate(train_loader):\n",
    "          images = Variable(images)\n",
    "          labels = Variable(labels.long())\n",
    "          # labels = torch.argmax(labels, dim=1)\n",
    "          optimizer.zero_grad()\n",
    "          outputs = net(images)\n",
    "          loss = criterion(outputs, labels)\n",
    "          loss.backward()\n",
    "          optimizer.step()\n",
    "      correct = 0\n",
    "      total = 0\n",
    "      for images, labels in test_loader:\n",
    "          labels = labels.long()\n",
    "          images = Variable(images)\n",
    "          outputs = net(images)\n",
    "          _, predicted = torch.max(outputs.data, 1)\n",
    "          total += labels.size(0)\n",
    "          # labels = torch.argmax(labels, dim=1)\n",
    "          correct += (predicted == labels).sum()\n",
    "      accuracy = 100 * correct/total\n",
    "      if verbose:\n",
    "        print(\"Epoch: {}. Loss: {}. Accuracy: {}.\".format(epoch, loss.item(), accuracy))\n",
    "  print('Model Accuracy: {}'.format(accuracy))\n",
    "  return net\n",
    "\n",
    "\n",
    "\n",
    "from distil.utils.data_handler import DataHandler_Points\n",
    "from distil.active_learning_strategies import glister, FASS, BADGE\n",
    " \n",
    "\n",
    "net = torch_encoder_logistic_data_to_net(x_train_few_resNetFeature, y_train_few_re.float(), x_val_few_resNetFeature, y_val_few_re.float()) # Source domain data"
   ]
  },
  {
   "cell_type": "code",
   "execution_count": null,
   "metadata": {
    "colab": {
     "base_uri": "https://localhost:8080/"
    },
    "id": "DZmN3BapWza6",
    "outputId": "44260f78-6afa-4f09-c200-55c00843ca5a"
   },
   "outputs": [
    {
     "name": "stdout",
     "output_type": "stream",
     "text": [
      "(500, 10)\n",
      "(500, 128)\n"
     ]
    }
   ],
   "source": [
    "print(np_utils.to_categorical(y_train_few, 12).shape)\n",
    "print(x_train_few_resNetFeature.shape)"
   ]
  },
  {
   "cell_type": "code",
   "execution_count": null,
   "metadata": {
    "colab": {
     "base_uri": "https://localhost:8080/"
    },
    "id": "FF0PWJy-yCt8",
    "outputId": "c3223854-6d22-460e-f78e-303637f503c4"
   },
   "outputs": [
    {
     "name": "stdout",
     "output_type": "stream",
     "text": [
      "1000\n"
     ]
    }
   ],
   "source": [
    "# print(net)\n",
    "print(target_size)"
   ]
  },
  {
   "cell_type": "code",
   "execution_count": null,
   "metadata": {
    "id": "hAOTO5K77vYL"
   },
   "outputs": [],
   "source": [
    "print()"
   ]
  },
  {
   "cell_type": "code",
   "execution_count": null,
   "metadata": {
    "colab": {
     "base_uri": "https://localhost:8080/"
    },
    "id": "JCppaj8VxrP0",
    "outputId": "e1eea2a4-ea47-47cd-e6ad-635a3508c49b"
   },
   "outputs": [
    {
     "name": "stderr",
     "output_type": "stream",
     "text": [
      "/usr/local/lib/python3.7/dist-packages/distil/utils/similarity_mat.py:112: VisibleDeprecationWarning: Creating an ndarray from ragged nested sequences (which is a list-or-tuple of lists-or-tuples-or ndarrays with different lengths or shapes) is deprecated. If you meant to do this, you must specify 'dtype=object' when creating the ndarray\n",
      "  [list(BatchSampler(SequentialSampler(np.arange(len(y_temp))), self.batch_size, drop_last=False))][0])\n",
      "/usr/local/lib/python3.7/dist-packages/distil/utils/similarity_mat.py:112: VisibleDeprecationWarning: Creating an ndarray from ragged nested sequences (which is a list-or-tuple of lists-or-tuples-or ndarrays with different lengths or shapes) is deprecated. If you meant to do this, you must specify 'dtype=object' when creating the ndarray\n",
      "  [list(BatchSampler(SequentialSampler(np.arange(len(y_temp))), self.batch_size, drop_last=False))][0])\n",
      "/usr/local/lib/python3.7/dist-packages/distil/utils/similarity_mat.py:112: VisibleDeprecationWarning: Creating an ndarray from ragged nested sequences (which is a list-or-tuple of lists-or-tuples-or ndarrays with different lengths or shapes) is deprecated. If you meant to do this, you must specify 'dtype=object' when creating the ndarray\n",
      "  [list(BatchSampler(SequentialSampler(np.arange(len(y_temp))), self.batch_size, drop_last=False))][0])\n",
      "/usr/local/lib/python3.7/dist-packages/distil/utils/similarity_mat.py:112: VisibleDeprecationWarning: Creating an ndarray from ragged nested sequences (which is a list-or-tuple of lists-or-tuples-or ndarrays with different lengths or shapes) is deprecated. If you meant to do this, you must specify 'dtype=object' when creating the ndarray\n",
      "  [list(BatchSampler(SequentialSampler(np.arange(len(y_temp))), self.batch_size, drop_last=False))][0])\n",
      "/usr/local/lib/python3.7/dist-packages/distil/utils/similarity_mat.py:112: VisibleDeprecationWarning: Creating an ndarray from ragged nested sequences (which is a list-or-tuple of lists-or-tuples-or ndarrays with different lengths or shapes) is deprecated. If you meant to do this, you must specify 'dtype=object' when creating the ndarray\n",
      "  [list(BatchSampler(SequentialSampler(np.arange(len(y_temp))), self.batch_size, drop_last=False))][0])\n",
      "/usr/local/lib/python3.7/dist-packages/distil/utils/similarity_mat.py:112: VisibleDeprecationWarning: Creating an ndarray from ragged nested sequences (which is a list-or-tuple of lists-or-tuples-or ndarrays with different lengths or shapes) is deprecated. If you meant to do this, you must specify 'dtype=object' when creating the ndarray\n",
      "  [list(BatchSampler(SequentialSampler(np.arange(len(y_temp))), self.batch_size, drop_last=False))][0])\n",
      "/usr/local/lib/python3.7/dist-packages/distil/utils/similarity_mat.py:112: VisibleDeprecationWarning: Creating an ndarray from ragged nested sequences (which is a list-or-tuple of lists-or-tuples-or ndarrays with different lengths or shapes) is deprecated. If you meant to do this, you must specify 'dtype=object' when creating the ndarray\n",
      "  [list(BatchSampler(SequentialSampler(np.arange(len(y_temp))), self.batch_size, drop_last=False))][0])\n",
      "/usr/local/lib/python3.7/dist-packages/distil/utils/similarity_mat.py:112: VisibleDeprecationWarning: Creating an ndarray from ragged nested sequences (which is a list-or-tuple of lists-or-tuples-or ndarrays with different lengths or shapes) is deprecated. If you meant to do this, you must specify 'dtype=object' when creating the ndarray\n",
      "  [list(BatchSampler(SequentialSampler(np.arange(len(y_temp))), self.batch_size, drop_last=False))][0])\n",
      "/usr/local/lib/python3.7/dist-packages/distil/utils/similarity_mat.py:112: VisibleDeprecationWarning: Creating an ndarray from ragged nested sequences (which is a list-or-tuple of lists-or-tuples-or ndarrays with different lengths or shapes) is deprecated. If you meant to do this, you must specify 'dtype=object' when creating the ndarray\n",
      "  [list(BatchSampler(SequentialSampler(np.arange(len(y_temp))), self.batch_size, drop_last=False))][0])\n",
      "/usr/local/lib/python3.7/dist-packages/distil/utils/similarity_mat.py:112: VisibleDeprecationWarning: Creating an ndarray from ragged nested sequences (which is a list-or-tuple of lists-or-tuples-or ndarrays with different lengths or shapes) is deprecated. If you meant to do this, you must specify 'dtype=object' when creating the ndarray\n",
      "  [list(BatchSampler(SequentialSampler(np.arange(len(y_temp))), self.batch_size, drop_last=False))][0])\n",
      "/usr/local/lib/python3.7/dist-packages/distil/utils/similarity_mat.py:112: VisibleDeprecationWarning: Creating an ndarray from ragged nested sequences (which is a list-or-tuple of lists-or-tuples-or ndarrays with different lengths or shapes) is deprecated. If you meant to do this, you must specify 'dtype=object' when creating the ndarray\n",
      "  [list(BatchSampler(SequentialSampler(np.arange(len(y_temp))), self.batch_size, drop_last=False))][0])\n",
      "/usr/local/lib/python3.7/dist-packages/distil/utils/similarity_mat.py:112: VisibleDeprecationWarning: Creating an ndarray from ragged nested sequences (which is a list-or-tuple of lists-or-tuples-or ndarrays with different lengths or shapes) is deprecated. If you meant to do this, you must specify 'dtype=object' when creating the ndarray\n",
      "  [list(BatchSampler(SequentialSampler(np.arange(len(y_temp))), self.batch_size, drop_last=False))][0])\n",
      "/usr/local/lib/python3.7/dist-packages/distil/active_learning_strategies/strategy.py:151: UserWarning: To copy construct from a tensor, it is recommended to use sourceTensor.clone().detach() or sourceTensor.clone().detach().requires_grad_(True), rather than torch.tensor(sourceTensor).\n",
      "  y_trn = torch.tensor(Y[idxs])\n",
      "/usr/local/lib/python3.7/dist-packages/distil/active_learning_strategies/glister.py:206: UserWarning: To copy construct from a tensor, it is recommended to use sourceTensor.clone().detach() or sourceTensor.clone().detach().requires_grad_(True), rather than torch.tensor(sourceTensor).\n",
      "  Y_Val = torch.tensor(self.Y_Val,device=self.device)\n"
     ]
    }
   ],
   "source": [
    "target_size = 1000\n",
    "\n",
    "strategy_args = {'batch_size':target_size, 'submod':'facility_location', 'selection_type':'PerClass'}\n",
    "strategy = FASS(x_train_few_resNetFeature, np_utils.to_categorical(y_train_few_re.numpy(), 12), visda_x_unlabel_resNetFeature, net.cuda(), DataHandler_Points, 12, strategy_args)\n",
    "fass_selected_rank = strategy.select(target_size)\n",
    "\n",
    "strategy_args = {'batch_size' : target_size}\n",
    "strategy = BADGE(x_train_few_resNetFeature, y_train_few_re, visda_x_unlabel_resNetFeature, net.cuda(), DataHandler_Points, 12, strategy_args)\n",
    "badge_selected_rank = strategy.select(target_size)\n",
    "\n",
    "strategy_args = {'batch_size' : target_size, 'lr':float(0.001)}\n",
    "strategy = glister.GLISTER(x_train_few_resNetFeature, y_train_few_re, visda_x_unlabel_resNetFeature, net.cuda(), DataHandler_Points, 12, strategy_args, \n",
    "                           valid=True, X_val=x_val_few_resNetFeature, Y_val=y_val_few_re)\n",
    "glister_selected_rank = strategy.select(target_size)\n"
   ]
  },
  {
   "cell_type": "markdown",
   "metadata": {
    "id": "ZUfm83cW_tQN"
   },
   "source": [
    "### Optimal"
   ]
  },
  {
   "cell_type": "code",
   "execution_count": 29,
   "metadata": {
    "colab": {
     "base_uri": "https://localhost:8080/"
    },
    "id": "3hikEOrFe2TF",
    "outputId": "9e59d2f0-0f5d-49eb-ab3a-291c58f18186"
   },
   "outputs": [
    {
     "name": "stdout",
     "output_type": "stream",
     "text": [
      "input dim: 1000\n"
     ]
    },
    {
     "data": {
      "text/plain": [
       "<All keys matched successfully>"
      ]
     },
     "execution_count": 29,
     "metadata": {
      "tags": []
     },
     "output_type": "execute_result"
    }
   ],
   "source": [
    "# f_optimal = prefix + '/active-learning-transfer/models/cycada/ds/iter_1_28_noise' + '/adda_LeNet_net_mnist_usps.pth'\n",
    "# net = get_model('AddaNet', num_cls=10, weights_init=f_optimal, \n",
    "#                 model='LeNet')\n",
    "# net.eval()\n",
    "\n",
    "\n",
    "# unlabel_size = 2000\n",
    "# target_size = 1000\n",
    "\n",
    "input_dim = visda_x_unlabel_resNetFeature.shape[1] # 最多2000\n",
    "print(\"input dim:\", input_dim)\n",
    "set_features=128\n",
    "hidden_ext=128\n",
    "hidden_reg=128\n",
    "n_epoch=20\n",
    "batch_size=32\n",
    "lr = 1e-5\n",
    "\n",
    "model_optimal = Utility_deepset(model=DeepSet(input_dim, set_features, hidden_ext, hidden_reg))\n",
    "\n",
    "model_optimal.model.load_state_dict(torch.load(model_dir + '/visda_optimal_128_128_128_3_23.state_dict'))"
   ]
  },
  {
   "cell_type": "markdown",
   "metadata": {
    "id": "3BPJDJpghXYu"
   },
   "source": [
    "#### optimal select rank"
   ]
  },
  {
   "cell_type": "code",
   "execution_count": null,
   "metadata": {
    "colab": {
     "base_uri": "https://localhost:8080/"
    },
    "id": "-y7bEZP9dpOR",
    "outputId": "3425c422-064c-4ff3-f3aa-0d923b8963cf"
   },
   "outputs": [
    {
     "name": "stdout",
     "output_type": "stream",
     "text": [
      "(2000, 1000)\n"
     ]
    }
   ],
   "source": [
    "print(visda_x_unlabel_resNetFeature.shape)"
   ]
  },
  {
   "cell_type": "code",
   "execution_count": null,
   "metadata": {
    "colab": {
     "base_uri": "https://localhost:8080/"
    },
    "id": "YzTp3MkHfNso",
    "outputId": "a68f776d-2031-4ee8-d704-3f596ed8ba58"
   },
   "outputs": [
    {
     "name": "stdout",
     "output_type": "stream",
     "text": [
      "Sample Size R=18\n",
      "1\n"
     ]
    }
   ],
   "source": [
    "_, optimal_dulo_selected_rank, _ = findMostValuableSample_deepset_stochasticgreedy(model_optimal.model, visda_x_unlabel_resNetFeature, target_size, epsilon=1e-4, seed=101)\n",
    "\n",
    "print(sum(np.array(optimal_dulo_selected_rank) < n_noise_data))"
   ]
  },
  {
   "cell_type": "code",
   "execution_count": null,
   "metadata": {
    "id": "_zLqwterJovz"
   },
   "outputs": [],
   "source": [
    "random_perm = np.random.permutation(range(unlabel_size))"
   ]
  },
  {
   "cell_type": "markdown",
   "metadata": {
    "id": "8Z1WxVEuAKg-"
   },
   "source": [
    "### Save Ranks"
   ]
  },
  {
   "cell_type": "code",
   "execution_count": null,
   "metadata": {
    "colab": {
     "base_uri": "https://localhost:8080/"
    },
    "id": "tknlHBISAMmZ",
    "outputId": "30566e33-a7ff-40ea-ba7c-2f2db313f445"
   },
   "outputs": [
    {
     "name": "stdout",
     "output_type": "stream",
     "text": [
      "/content/gdrive/My Drive//active-learning-transfer/models/cycada/visda/iter_1_32/\n"
     ]
    }
   ],
   "source": [
    "rank_dict = {}\n",
    "\n",
    "rank_dict['dulo'] = deepset_selected_rank\n",
    "rank_dict['random'] = random_perm\n",
    "rank_dict['optimal'] = optimal_dulo_selected_rank\n",
    "rank_dict['fass'] = fass_selected_rank\n",
    "rank_dict['badge'] = badge_selected_rank\n",
    "rank_dict['glister'] = glister_selected_rank\n",
    "\n",
    "print(model_dir)"
   ]
  },
  {
   "cell_type": "code",
   "execution_count": null,
   "metadata": {
    "id": "pFvHO56cAVmw"
   },
   "outputs": [],
   "source": [
    "pickle.dump(rank_dict, open(model_dir+\"/visda_rank_dict.pkl\",\"wb\"))"
   ]
  },
  {
   "cell_type": "markdown",
   "metadata": {
    "id": "GtN6s-w__47V"
   },
   "source": [
    "## Run"
   ]
  },
  {
   "cell_type": "code",
   "execution_count": null,
   "metadata": {
    "colab": {
     "base_uri": "https://localhost:8080/"
    },
    "id": "azSlf5x8jM-1",
    "outputId": "e4495716-ec7a-4a60-d414-ed74985ae299"
   },
   "outputs": [
    {
     "name": "stdout",
     "output_type": "stream",
     "text": [
      "(2000, 3, 96, 96)\n",
      "(2000,)\n",
      "(2000, 27648)\n"
     ]
    }
   ],
   "source": [
    "print(visda_x_unlabel_few.shape)\n",
    "print(visda_y_unlabel_few.shape)\n",
    "print(visda_x_unlabel_few_1d.shape)"
   ]
  },
  {
   "cell_type": "code",
   "execution_count": null,
   "metadata": {
    "colab": {
     "base_uri": "https://localhost:8080/"
    },
    "id": "Po5tHwZA_l_5",
    "outputId": "013e7cdf-3ef9-456e-9f80-86ddd50cbf65"
   },
   "outputs": [
    {
     "name": "stdout",
     "output_type": "stream",
     "text": [
      "1\n",
      "112\n",
      "223\n",
      "334\n",
      "445\n",
      "556\n",
      "667\n",
      "778\n",
      "889\n",
      "1000\n"
     ]
    }
   ],
   "source": [
    "acc_greedy = []\n",
    "acc_random = []\n",
    "acc_optimal = []\n",
    "\n",
    "inspect_points = np.linspace(1, target_size, num=10).astype(int)\n",
    "\n",
    "random_perm = rank_dict['random']\n",
    "# random_perm = np.random.permutation(range(unlabel_size))\n",
    "\n",
    "for i in inspect_points:\n",
    "  print(i)\n",
    "  acc_greedy.append(torch_visda_resnet_data_to_acc(visda_x_unlabel_re[deepset_selected_rank[:i]], visda_y_unlabel_re.float()[deepset_selected_rank[:i]],visda_x_test_re, visda_y_test_re.float()))\n",
    "  acc_random.append(torch_visda_resnet_data_to_acc(visda_x_unlabel_re[random_perm[:i]], visda_y_unlabel_re.float()[random_perm[:i]], visda_x_test_re, visda_y_test_re.float()))\n",
    "  acc_optimal.append(torch_visda_resnet_data_to_acc(visda_x_unlabel_re[optimal_dulo_selected_rank[:i]], visda_y_unlabel_re.float()[optimal_dulo_selected_rank[:i]], visda_x_test_re, visda_y_test_re.float()))"
   ]
  },
  {
   "cell_type": "code",
   "execution_count": null,
   "metadata": {
    "colab": {
     "base_uri": "https://localhost:8080/"
    },
    "id": "zd65BwLc_mCc",
    "outputId": "5b92b9ae-de0d-485f-e906-8ee0416cd70a"
   },
   "outputs": [
    {
     "name": "stdout",
     "output_type": "stream",
     "text": [
      "1\n",
      "112\n",
      "223\n",
      "334\n",
      "445\n",
      "556\n",
      "667\n",
      "778\n",
      "889\n",
      "1000\n"
     ]
    }
   ],
   "source": [
    "acc_fass = []\n",
    "acc_badge = []\n",
    "acc_glister = []\n",
    "\n",
    "random_perm = rank_dict['random']\n",
    "\n",
    "for i in inspect_points:\n",
    "  print(i)\n",
    "  acc_fass.append(torch_visda_resnet_data_to_acc(visda_x_unlabel_re[fass_selected_rank[:i]], visda_y_unlabel_re.float()[fass_selected_rank[:i]], visda_x_test_re, visda_y_test_re.float()))\n",
    "  acc_badge.append(torch_visda_resnet_data_to_acc(visda_x_unlabel_re[badge_selected_rank[:i]], visda_y_unlabel_re.float()[badge_selected_rank[:i]], visda_x_test_re, visda_y_test_re.float()))\n",
    "  acc_glister.append(torch_visda_resnet_data_to_acc(visda_x_unlabel_re[glister_selected_rank[:i]], visda_y_unlabel_re.float()[glister_selected_rank[:i]], visda_x_test_re, visda_y_test_re.float()))"
   ]
  },
  {
   "cell_type": "code",
   "execution_count": null,
   "metadata": {
    "colab": {
     "base_uri": "https://localhost:8080/",
     "height": 295
    },
    "id": "mShuNbUzAFza",
    "outputId": "6ccd88f6-eedc-45ee-a618-4c83b7314fa6"
   },
   "outputs": [
    {
     "data": {
      "image/png": "[encoded data removed]",
      "text/plain": [
       "<Figure size 432x288 with 1 Axes>"
      ]
     },
     "metadata": {
      "needs_background": "light",
      "tags": []
     },
     "output_type": "display_data"
    }
   ],
   "source": [
    "plt.figure()\n",
    "corruption = 'Noisy'\n",
    "\n",
    "plt.plot(inspect_points, acc_greedy, label='DULO')\n",
    "plt.plot(inspect_points, acc_random, label='Random')\n",
    "plt.plot(inspect_points, acc_optimal, label='Optimal DULO')\n",
    "plt.plot(inspect_points, acc_fass, label='FASS')\n",
    "plt.plot(inspect_points, acc_badge, label='BADGE')\n",
    "plt.plot(inspect_points, acc_glister, label='Glister')\n",
    "\n",
    "plt.title('Visda, SmallCNN, ' + corruption)\n",
    "plt.ylabel('Classifier Accuracy')\n",
    "plt.xlabel('# Selected Data Points')\n",
    "plt.legend()\n",
    "plt.show()"
   ]
  },
  {
   "cell_type": "markdown",
   "metadata": {
    "id": "IQd4VIwvAdTr"
   },
   "source": [
    "## Run (finetune)"
   ]
  },
  {
   "cell_type": "code",
   "execution_count": null,
   "metadata": {
    "colab": {
     "base_uri": "https://localhost:8080/"
    },
    "id": "H3s4PV_Pb0pT",
    "outputId": "14540a09-58b0-4e9d-f17d-a8774f6b5e06"
   },
   "outputs": [
    {
     "name": "stdout",
     "output_type": "stream",
     "text": [
      "/content/gdrive/My Drive//active-learning-transfer/models/cycada/visda/iter_1_32/\n"
     ]
    }
   ],
   "source": [
    "rank_dict = pickle.load(open(model_dir+\"/visda_rank_dict.pkl\",\"rb\"))\n",
    "\n",
    "deepset_selected_rank = rank_dict['dulo']\n",
    "random_perm = rank_dict['random']\n",
    "optimal_dulo_selected_rank = rank_dict['optimal']\n",
    "fass_selected_rank = rank_dict['fass'] \n",
    "badge_selected_rank = rank_dict['badge'] \n",
    "glister_selected_rank = rank_dict['glister']\n",
    "\n",
    "print(model_dir)"
   ]
  },
  {
   "cell_type": "code",
   "execution_count": 30,
   "metadata": {
    "colab": {
     "base_uri": "https://localhost:8080/"
    },
    "id": "xhlsggWpAdvY",
    "outputId": "bccc493e-9ced-456b-cff7-83bde96ec5c8"
   },
   "outputs": [
    {
     "name": "stdout",
     "output_type": "stream",
     "text": [
      "DA Model Accuracy: 0.6100000143051147\n"
     ]
    }
   ],
   "source": [
    "def get_da_acc(netG, netF, x_test, y_test):\n",
    "  \n",
    "  netG.eval()\n",
    "  netF.eval()\n",
    "  with torch.no_grad():\n",
    "    test_dataset = TensorDataset(x_test,y_test)\n",
    "    test_loader = DataLoader(dataset=test_dataset, batch_size=16, shuffle=False)\n",
    "\n",
    "    correct = 0\n",
    "    total = 0\n",
    "    for images, labels in test_loader:\n",
    "        images = Variable(images.cuda(), requires_grad=False)\n",
    "        labels = Variable(labels.cuda(), requires_grad=False)\n",
    "        s_bottleneck = netG(images)\n",
    "        _, score = netF(s_bottleneck)\n",
    "        pred = score.data.max(1)[1] # get the index of the max log-probability\n",
    "        correct += pred.eq(labels.data).cpu().sum()\n",
    "        total += labels.size(0)\n",
    "      \n",
    "  accuracy = 100.0 * correct/total\n",
    "\n",
    "  return accuracy / 100\n",
    "  \n",
    "\n",
    "model_dir = prefix + '/active-learning-transfer/models/cycada/visda/iter_1_32/'\n",
    "load_name_G = model_dir + \"/VisDA_HAFN_resnet101_netG_1.1_10.pth\"\n",
    "load_name_F = model_dir + \"/VisDA_HAFN_resnet101_netF_1.1_10.pth\"\n",
    "\n",
    "netG = ResBase101().cuda()\n",
    "netF = ResClassifier(class_num=12, extract=True).cuda()\n",
    "netG.load_state_dict(torch.load(load_name_G))\n",
    "netG.eval()\n",
    "netF.load_state_dict(torch.load(load_name_F))\n",
    "netF.eval()\n",
    "\n",
    "da_acc = get_da_acc(netG, netF, visda_x_test_re, visda_y_test_re)\n",
    "print('DA Model Accuracy: {}'.format(da_acc))"
   ]
  },
  {
   "cell_type": "code",
   "execution_count": 31,
   "metadata": {
    "id": "u4KxzKiwidhJ"
   },
   "outputs": [],
   "source": [
    "cluster_syn = pickle.load(open(sample_dir+'/cluster_syn_feat.data', 'rb'))\n",
    "\n",
    "def setTrainFalse(layer):\n",
    "  for i in range(4):\n",
    "    layer[i].conv1.weight.trainable = False\n",
    "    layer[i].conv2.weight.trainable = False\n",
    "\n",
    "\n",
    "\n",
    "from scipy.stats import wasserstein_distance\n",
    "def get_label(centroids, feat):\n",
    "  best_dist = 1e9\n",
    "  for k in range(len(centroids)):\n",
    "    # import pdb;pdb.set_trace()\n",
    "    dist = wasserstein_distance(centroids[k].detach().cpu(), feat.detach().cpu())\n",
    "    if dist < best_dist:\n",
    "      best_dist = dist \n",
    "      pred_label = k \n",
    "  \n",
    "  return pred_label\n",
    "\n",
    "\n",
    "def data_to_acc_finetune(adda_net_file, x_train, y_train, x_test, y_test, x_unlabel, verbose=0, lr=2e-6):\n",
    "  netG = ResBase101().cuda()\n",
    "  netF = ResClassifier(class_num=12, extract=True).cuda()\n",
    "  netF.train()\n",
    "  netG.load_state_dict(torch.load(adda_net_file[0]))\n",
    "  netF.load_state_dict(torch.load(adda_net_file[1]))\n",
    "\n",
    "\n",
    "  # net.conv1.weight.trainable = False\n",
    "  # setTrainFalse(net.layer1)\n",
    "  # setTrainFalse(net.layer2)\n",
    "  # setTrainFalse(net.layer3)\n",
    "  \n",
    "\n",
    "  optimizer = optim.Adam(netF.parameters(), lr=lr, betas=(0.9, 0.999), weight_decay=0)\n",
    "  criterion = nn.CrossEntropyLoss()\n",
    "\n",
    "  # get centriods for K classes\n",
    "  masks = []\n",
    "  centroids = []\n",
    "  for k in range(12):\n",
    "    mask = np.zeros_like(y_train, dtype=bool)\n",
    "    for i in range(len(y_train)):\n",
    "      mask[i] = True if y_train[i] == k else False \n",
    "    \n",
    "    cluster_x = x_train[mask]\n",
    "    if cluster_x.shape[0] > 1:\n",
    "      centroid = featureExtract(cluster_x, netG, netF)\n",
    "      centroid = torch.mean(centroid, dim=0)\n",
    "    else:\n",
    "      print('Unnormal Alert!')\n",
    "      centroid = cluster_syn[k]\n",
    "\n",
    "    masks.append(mask)\n",
    "    centroids.append(centroid)\n",
    "  \n",
    "  \n",
    "  # predict fake labels for unlabel data\n",
    "  x_unlabel_feat = []\n",
    "  for j in range(x_unlabel.shape[0]//50):\n",
    "    start_ind = j*50\n",
    "    batch_X, batch_y = [], []\n",
    "    stop_ind = min(start_ind+50, x_unlabel.shape[0])\n",
    "    feat = featureExtract(x_unlabel[start_ind:stop_ind], netG, netF)\n",
    "    x_unlabel_feat.append(feat)\n",
    "\n",
    "  x_unlabel_feat = torch.cat(x_unlabel_feat, dim=0)\n",
    "\n",
    "  y_unlabel = []\n",
    "  for i in range(x_unlabel.size(0)):\n",
    "    y_unlabel.append(get_label(centroids, x_unlabel_feat[i]))\n",
    "\n",
    "  y_unlabel = torch.tensor(y_unlabel)\n",
    "\n",
    "  x_train_new = torch.cat((x_train, x_unlabel), dim=0)\n",
    "  y_train_new = torch.cat((y_train, y_unlabel), dim=0)\n",
    "\n",
    "  finetune_dataset = TensorDataset(x_train_new,y_train_new)\n",
    "  train_loader = DataLoader(dataset=finetune_dataset, batch_size=32, shuffle=True)\n",
    "  test_dataset = TensorDataset(x_test,y_test)\n",
    "  test_loader = DataLoader(dataset=test_dataset, batch_size=32, shuffle=False)\n",
    "\n",
    "  best_acc = 0\n",
    "  for epoch in range(35):\n",
    "      netF.train()\n",
    "      for i, (images, labels) in enumerate(train_loader):\n",
    "          images = Variable(images.cuda(), requires_grad=False)\n",
    "          labels = Variable(labels.cuda(), requires_grad=False)\n",
    "          optimizer.zero_grad()\n",
    "          # import pdb;pdb.set_trace()\n",
    "          s_bottleneck = netG(images)\n",
    "          _, score = netF(s_bottleneck)\n",
    "          loss = criterion(score, labels)\n",
    "          loss.backward()\n",
    "          optimizer.step()\n",
    "      correct = 0\n",
    "      total = 0\n",
    "      test_acc = get_da_acc(netG, netF, x_test, y_test)\n",
    "\n",
    "      if verbose:\n",
    "        print(\"Epoch: {}. Loss: {}. Accuracy: {}.\".format(epoch, loss.item(), test_acc*100.0))\n",
    "\n",
    "      if test_acc > best_acc:\n",
    "        best_acc = test_acc\n",
    "      else:\n",
    "        break\n",
    "  print('Model Accuracy: {}'.format(best_acc*100.0))\n",
    "\n",
    "\n",
    "  return best_acc\n",
    "\n",
    "\n",
    "def get_unlabel(selected_rank):\n",
    "  idx_unlabel = np.ones_like(visda_y_unlabel_re, dtype=bool)\n",
    "  idx_unlabel[selected_rank] = False\n",
    "  return visda_x_unlabel_re[idx_unlabel]"
   ]
  },
  {
   "cell_type": "code",
   "execution_count": 33,
   "metadata": {
    "id": "XgxvDhDoviOc"
   },
   "outputs": [],
   "source": [
    "def data_to_acc_finetune_ori(adda_net_file, x_train, y_train, x_test, y_test, x_unlabel, verbose=0, lr=2e-6):\n",
    "  netG = ResBase101().cuda()\n",
    "  netF = ResClassifier(class_num=12, extract=True).cuda()\n",
    "  netF.train()\n",
    "  netG.load_state_dict(torch.load(adda_net_file[0]))\n",
    "  netF.load_state_dict(torch.load(adda_net_file[1]))\n",
    "\n",
    "\n",
    "  # net.conv1.weight.trainable = False\n",
    "  # setTrainFalse(net.layer1)\n",
    "  # setTrainFalse(net.layer2)\n",
    "  # setTrainFalse(net.layer3)\n",
    "  \n",
    "\n",
    "  optimizer = optim.Adam(netF.parameters(), lr=lr, betas=(0.9, 0.999), weight_decay=0)\n",
    "  criterion = nn.CrossEntropyLoss()\n",
    "\n",
    "  finetune_dataset = TensorDataset(x_train,y_train)\n",
    "  train_loader = DataLoader(dataset=finetune_dataset, batch_size=32, shuffle=True)\n",
    "  test_dataset = TensorDataset(x_test,y_test)\n",
    "  test_loader = DataLoader(dataset=test_dataset, batch_size=32, shuffle=False)\n",
    "\n",
    "  best_acc = 0\n",
    "  for epoch in range(35):\n",
    "      netF.train()\n",
    "      for i, (images, labels) in enumerate(train_loader):\n",
    "          images = Variable(images.cuda(), requires_grad=False)\n",
    "          labels = Variable(labels.cuda(), requires_grad=False)\n",
    "          optimizer.zero_grad()\n",
    "          # import pdb;pdb.set_trace()\n",
    "          s_bottleneck = netG(images)\n",
    "          _, score = netF(s_bottleneck)\n",
    "          loss = criterion(score, labels)\n",
    "          loss.backward()\n",
    "          optimizer.step()\n",
    "      correct = 0\n",
    "      total = 0\n",
    "      test_acc = get_da_acc(netG, netF, x_test, y_test)\n",
    "\n",
    "      if verbose:\n",
    "        print(\"Epoch: {}. Loss: {}. Accuracy: {}.\".format(epoch, loss.item(), test_acc*100.0))\n",
    "\n",
    "      if test_acc > best_acc:\n",
    "        best_acc = test_acc\n",
    "      else:\n",
    "        break\n",
    "  print('Model Accuracy: {}'.format(best_acc*100.0))\n",
    "\n",
    "\n",
    "  return best_acc\n"
   ]
  },
  {
   "cell_type": "markdown",
   "metadata": {
    "id": "tlrp3n_KWABm"
   },
   "source": [
    "##### Get centriods of SYN"
   ]
  },
  {
   "cell_type": "code",
   "execution_count": null,
   "metadata": {
    "id": "7-KGqRvpTROE"
   },
   "outputs": [],
   "source": [
    "# get centriods of SYN\n",
    "masks = []\n",
    "cluster_syn = []\n",
    "for k in range(12):\n",
    "  mask = np.zeros_like(y_train_few_re, dtype=bool)\n",
    "  for i in range(len(y_train_few_re)):\n",
    "    mask[i] = True if y_train_few_re[i] == k else False \n",
    "  \n",
    "  cluster_x = x_train_few_re[mask]\n",
    "  if cluster_x.shape[0] > 1:\n",
    "    centroid = featureExtract(cluster_x, netG, netF)\n",
    "    centroid = torch.mean(centroid, dim=0)\n",
    "  else:\n",
    "    print('Unnormal Alert!')\n",
    "\n",
    "  masks.append(mask)\n",
    "  cluster_syn.append(centroid)"
   ]
  },
  {
   "cell_type": "code",
   "execution_count": null,
   "metadata": {
    "colab": {
     "base_uri": "https://localhost:8080/"
    },
    "id": "7bkcLPV_VOlj",
    "outputId": "aad3148e-3c41-4ad1-e876-93eb3a8c11f4"
   },
   "outputs": [
    {
     "name": "stdout",
     "output_type": "stream",
     "text": [
      "12\n",
      "torch.Size([1000])\n"
     ]
    }
   ],
   "source": [
    "print(len(cluster_syn))\n",
    "print(cluster_syn[0].shape)\n",
    "pickle.dump(cluster_syn, open(sample_dir+'/cluster_syn_feat.data', 'wb'))"
   ]
  },
  {
   "cell_type": "code",
   "execution_count": null,
   "metadata": {
    "id": "M5Gbjd0OsHVs"
   },
   "outputs": [],
   "source": [
    "cluster_syn = pickle.load(open(sample_dir+'/cluster_syn_feat.data', 'rb'))"
   ]
  },
  {
   "cell_type": "code",
   "execution_count": null,
   "metadata": {
    "colab": {
     "base_uri": "https://localhost:8080/"
    },
    "id": "-Rz09kOVwRjf",
    "outputId": "b061f685-d0a5-4a78-8936-ae65a896d032"
   },
   "outputs": [
    {
     "name": "stdout",
     "output_type": "stream",
     "text": [
      "Unnormal Alert!\n",
      "Model Accuracy: 70.0\n",
      "Unnormal Alert!\n",
      "Model Accuracy: 77.0999984741211\n",
      "Unnormal Alert!\n",
      "Unnormal Alert!\n",
      "Model Accuracy: 70.30000305175781\n",
      "Model Accuracy: 67.3499984741211\n",
      "Model Accuracy: 78.05000305175781\n",
      "Model Accuracy: 69.0999984741211\n",
      "Model Accuracy: 64.4000015258789\n",
      "Model Accuracy: 77.5\n",
      "Model Accuracy: 68.4000015258789\n",
      "Model Accuracy: 65.0\n",
      "Model Accuracy: 76.69999694824219\n",
      "Model Accuracy: 72.1500015258789\n",
      "Model Accuracy: 68.0999984741211\n",
      "Model Accuracy: 76.94999694824219\n",
      "Model Accuracy: 73.80000305175781\n",
      "Model Accuracy: 73.5999984741211\n",
      "Model Accuracy: 76.55000305175781\n",
      "Model Accuracy: 76.0\n",
      "Model Accuracy: 75.9000015258789\n",
      "Model Accuracy: 77.0\n",
      "Model Accuracy: 76.1500015258789\n",
      "Model Accuracy: 75.5999984741211\n",
      "Model Accuracy: 77.25\n",
      "Model Accuracy: 76.6500015258789\n",
      "Model Accuracy: 77.5\n",
      "Model Accuracy: 76.5999984741211\n",
      "Model Accuracy: 77.19999694824219\n",
      "Model Accuracy: 76.55000305175781\n",
      "Model Accuracy: 77.44999694824219\n",
      "Model Accuracy: 76.1500015258789\n"
     ]
    }
   ],
   "source": [
    "adda_file = [model_dir + \"/VisDA_HAFN_resnet101_netG_1.1_10.pth\", model_dir+\"/VisDA_HAFN_resnet101_netF_1.1_10.pth\"]\n",
    "\n",
    "acc_greedy_ft = [da_acc]\n",
    "acc_random_ft = [da_acc]\n",
    "acc_optimal_ft = [da_acc]\n",
    "acc_ds = [da_acc]\n",
    "\n",
    "inspect_points = np.linspace(100, 1000, num=10).astype(int)\n",
    "\n",
    "random_perm = rank_dict['random']\n",
    "\n",
    "\n",
    "for i in inspect_points:\n",
    "  acc_ds.append(da_acc)\n",
    "  acc_greedy_ft.append(data_to_acc_finetune(adda_file, visda_x_unlabel_re[deepset_selected_rank[:i]], visda_y_unlabel_re[deepset_selected_rank[:i]], visda_x_test_re, visda_y_test_re, get_unlabel(deepset_selected_rank[:i])[:i]))\n",
    "  # import pdb;pdb.set_trace()\n",
    "\n",
    "  acc_random_ft.append(data_to_acc_finetune(adda_file, visda_x_unlabel_re[random_perm[:i]], visda_y_unlabel_re[random_perm[:i]], visda_x_test_re, visda_y_test_re, get_unlabel(random_perm[:i][:i])))\n",
    "\n",
    "  acc_optimal_ft.append(data_to_acc_finetune(adda_file, visda_x_unlabel_re[optimal_dulo_selected_rank[:i]], visda_y_unlabel_re[optimal_dulo_selected_rank[:i]], visda_x_test_re, visda_y_test_re, get_unlabel(optimal_dulo_selected_rank[:i])[:i]))"
   ]
  },
  {
   "cell_type": "code",
   "execution_count": null,
   "metadata": {
    "colab": {
     "base_uri": "https://localhost:8080/"
    },
    "id": "xcUb99KwAd45",
    "outputId": "d22f623f-1ec2-4329-ff0b-99ff464b7011"
   },
   "outputs": [
    {
     "name": "stdout",
     "output_type": "stream",
     "text": [
      "Unnormal Alert!\n",
      "Unnormal Alert!\n",
      "Unnormal Alert!\n",
      "Unnormal Alert!\n",
      "Unnormal Alert!\n",
      "Unnormal Alert!\n",
      "Model Accuracy: 66.5999984741211\n",
      "Model Accuracy: 71.25\n",
      "Unnormal Alert!\n",
      "Model Accuracy: 70.55000305175781\n",
      "Unnormal Alert!\n",
      "Model Accuracy: 66.69999694824219\n",
      "Model Accuracy: 68.3499984741211\n",
      "Model Accuracy: 68.05000305175781\n",
      "Model Accuracy: 65.05000305175781\n",
      "Model Accuracy: 67.25\n",
      "Model Accuracy: 66.3499984741211\n",
      "Model Accuracy: 65.5\n",
      "Model Accuracy: 65.8499984741211\n",
      "Model Accuracy: 69.19999694824219\n",
      "Model Accuracy: 69.6500015258789\n",
      "Model Accuracy: 70.75\n",
      "Model Accuracy: 71.1500015258789\n",
      "Model Accuracy: 74.5\n",
      "Model Accuracy: 75.69999694824219\n",
      "Model Accuracy: 74.44999694824219\n",
      "Model Accuracy: 75.5\n",
      "Model Accuracy: 75.05000305175781\n",
      "Model Accuracy: 75.80000305175781\n",
      "Model Accuracy: 76.44999694824219\n",
      "Model Accuracy: 76.44999694824219\n",
      "Model Accuracy: 75.9000015258789\n",
      "Model Accuracy: 77.55000305175781\n",
      "Model Accuracy: 77.69999694824219\n",
      "Model Accuracy: 76.3499984741211\n",
      "Model Accuracy: 77.25\n",
      "Model Accuracy: 78.0999984741211\n",
      "Model Accuracy: 76.8499984741211\n"
     ]
    }
   ],
   "source": [
    "acc_fass_ft = [da_acc]\n",
    "acc_badge_ft = [da_acc]\n",
    "acc_glister_ft = [da_acc]\n",
    "\n",
    "\n",
    "for i in inspect_points:\n",
    "  acc_fass_ft.append(data_to_acc_finetune(adda_file, visda_x_unlabel_re[fass_selected_rank[:i]], visda_y_unlabel_re[fass_selected_rank[:i]], visda_x_test_re, visda_y_test_re, get_unlabel(fass_selected_rank[:i])[:i]))\n",
    "  \n",
    "  acc_badge_ft.append(data_to_acc_finetune(adda_file, visda_x_unlabel_re[badge_selected_rank[:i]], visda_y_unlabel_re[badge_selected_rank[:i]], visda_x_test_re, visda_y_test_re, get_unlabel(badge_selected_rank[:i])[:i]))\n",
    "\n",
    "  acc_glister_ft.append(data_to_acc_finetune(adda_file, visda_x_unlabel_re[glister_selected_rank[:i]], visda_y_unlabel_re[glister_selected_rank[:i]], visda_x_test_re, visda_y_test_re, get_unlabel(glister_selected_rank[:i])[:i]))"
   ]
  },
  {
   "cell_type": "markdown",
   "metadata": {
    "id": "qQ5b2ylwENLn"
   },
   "source": [
    "### Plot"
   ]
  },
  {
   "cell_type": "code",
   "execution_count": null,
   "metadata": {
    "id": "dq6uBh6lAd77"
   },
   "outputs": [],
   "source": [
    "# check noisy\n",
    "inspect_points = np.linspace(100, target_size, num=10).astype(int)\n",
    "noise_cnt = []\n",
    "for i in inspect_points:\n",
    "  cnt = sum(x < 1700 for x in deepset_selected_rank[:i])\n",
    "  noise_cnt.append(cnt)\n",
    "\n",
    "print(inspect_points)\n",
    "print(noise_cnt)"
   ]
  },
  {
   "cell_type": "code",
   "execution_count": null,
   "metadata": {
    "colab": {
     "base_uri": "https://localhost:8080/"
    },
    "id": "DCRIdRxihxUV",
    "outputId": "d7552b40-4422-4457-fe77-36bf2dfb2396"
   },
   "outputs": [
    {
     "name": "stdout",
     "output_type": "stream",
     "text": [
      "/content/gdrive/My Drive//active-learning-transfer/models/cycada/visda/iter_1_32/\n"
     ]
    }
   ],
   "source": [
    "acc_dict = {}\n",
    "\n",
    "acc_dict['dulo'] = acc_greedy_ft\n",
    "acc_dict['random'] = acc_random_ft\n",
    "acc_dict['optimal'] = acc_optimal_ft\n",
    "acc_dict['fass'] = acc_fass_ft\n",
    "acc_dict['badge'] = acc_badge_ft\n",
    "acc_dict['glister'] = acc_glister_ft\n",
    "\n",
    "print(model_dir)\n",
    "pickle.dump(acc_dict, open(model_dir+'accFinetune_dict_lessunlabel.pkl',\"wb\"))"
   ]
  },
  {
   "cell_type": "code",
   "execution_count": null,
   "metadata": {
    "colab": {
     "base_uri": "https://localhost:8080/",
     "height": 295
    },
    "id": "KmUSCJTwErgg",
    "outputId": "7c6797f1-6f1b-42b9-9d2a-392c2be17a07"
   },
   "outputs": [
    {
     "data": {
      "image/png": "[encoded data removed]",
      "text/plain": [
       "<Figure size 432x288 with 1 Axes>"
      ]
     },
     "metadata": {
      "needs_background": "light",
      "tags": []
     },
     "output_type": "display_data"
    }
   ],
   "source": [
    "\n",
    "\n",
    "\n",
    "inspect_points = np.linspace(0, target_size, num=11).astype(int)\n",
    "corruption = 'Noisy'\n",
    "plt.figure()\n",
    "plt.plot(inspect_points, acc_greedy_ft, label='DULO')\n",
    "plt.plot(inspect_points, acc_random_ft, label='Random')\n",
    "plt.plot(inspect_points, acc_optimal_ft, label='Optimal DULO')\n",
    "plt.plot(inspect_points, acc_fass_ft, label='FASS')\n",
    "plt.plot(inspect_points, acc_badge_ft, label='BADGE')\n",
    "plt.plot(inspect_points, acc_glister_ft, label='Glister')\n",
    "plt.plot(inspect_points, acc_ds, label='Domain Adaptation')\n",
    "\n",
    "plt.title('Visda, Finetune, ' + corruption)\n",
    "plt.ylabel('Classifier Accuracy')\n",
    "plt.xlabel('# Selected Data Points')\n",
    "plt.legend()\n",
    "plt.show()"
   ]
  },
  {
   "cell_type": "markdown",
   "metadata": {
    "id": "JZ7KbYYfE__U"
   },
   "source": [
    "## Multi seed"
   ]
  },
  {
   "cell_type": "code",
   "execution_count": null,
   "metadata": {
    "colab": {
     "base_uri": "https://localhost:8080/"
    },
    "id": "LWMueYHnFBCw",
    "outputId": "61b4a227-9bd0-4cfb-c68b-bd38e988f4c7"
   },
   "outputs": [
    {
     "name": "stdout",
     "output_type": "stream",
     "text": [
      "Sample Size R=18\n",
      "Sample Size R=18\n"
     ]
    },
    {
     "name": "stderr",
     "output_type": "stream",
     "text": [
      "/usr/local/lib/python3.7/dist-packages/distil/utils/similarity_mat.py:112: VisibleDeprecationWarning: Creating an ndarray from ragged nested sequences (which is a list-or-tuple of lists-or-tuples-or ndarrays with different lengths or shapes) is deprecated. If you meant to do this, you must specify 'dtype=object' when creating the ndarray\n",
      "  [list(BatchSampler(SequentialSampler(np.arange(len(y_temp))), self.batch_size, drop_last=False))][0])\n",
      "/usr/local/lib/python3.7/dist-packages/distil/utils/similarity_mat.py:112: VisibleDeprecationWarning: Creating an ndarray from ragged nested sequences (which is a list-or-tuple of lists-or-tuples-or ndarrays with different lengths or shapes) is deprecated. If you meant to do this, you must specify 'dtype=object' when creating the ndarray\n",
      "  [list(BatchSampler(SequentialSampler(np.arange(len(y_temp))), self.batch_size, drop_last=False))][0])\n",
      "/usr/local/lib/python3.7/dist-packages/distil/utils/similarity_mat.py:112: VisibleDeprecationWarning: Creating an ndarray from ragged nested sequences (which is a list-or-tuple of lists-or-tuples-or ndarrays with different lengths or shapes) is deprecated. If you meant to do this, you must specify 'dtype=object' when creating the ndarray\n",
      "  [list(BatchSampler(SequentialSampler(np.arange(len(y_temp))), self.batch_size, drop_last=False))][0])\n",
      "/usr/local/lib/python3.7/dist-packages/distil/utils/similarity_mat.py:112: VisibleDeprecationWarning: Creating an ndarray from ragged nested sequences (which is a list-or-tuple of lists-or-tuples-or ndarrays with different lengths or shapes) is deprecated. If you meant to do this, you must specify 'dtype=object' when creating the ndarray\n",
      "  [list(BatchSampler(SequentialSampler(np.arange(len(y_temp))), self.batch_size, drop_last=False))][0])\n",
      "/usr/local/lib/python3.7/dist-packages/distil/utils/similarity_mat.py:112: VisibleDeprecationWarning: Creating an ndarray from ragged nested sequences (which is a list-or-tuple of lists-or-tuples-or ndarrays with different lengths or shapes) is deprecated. If you meant to do this, you must specify 'dtype=object' when creating the ndarray\n",
      "  [list(BatchSampler(SequentialSampler(np.arange(len(y_temp))), self.batch_size, drop_last=False))][0])\n"
     ]
    },
    {
     "name": "stdout",
     "output_type": "stream",
     "text": [
      "Sample Size R=18\n",
      "Sample Size R=18\n"
     ]
    },
    {
     "name": "stderr",
     "output_type": "stream",
     "text": [
      "/usr/local/lib/python3.7/dist-packages/distil/utils/similarity_mat.py:112: VisibleDeprecationWarning: Creating an ndarray from ragged nested sequences (which is a list-or-tuple of lists-or-tuples-or ndarrays with different lengths or shapes) is deprecated. If you meant to do this, you must specify 'dtype=object' when creating the ndarray\n",
      "  [list(BatchSampler(SequentialSampler(np.arange(len(y_temp))), self.batch_size, drop_last=False))][0])\n",
      "/usr/local/lib/python3.7/dist-packages/distil/utils/similarity_mat.py:112: VisibleDeprecationWarning: Creating an ndarray from ragged nested sequences (which is a list-or-tuple of lists-or-tuples-or ndarrays with different lengths or shapes) is deprecated. If you meant to do this, you must specify 'dtype=object' when creating the ndarray\n",
      "  [list(BatchSampler(SequentialSampler(np.arange(len(y_temp))), self.batch_size, drop_last=False))][0])\n",
      "/usr/local/lib/python3.7/dist-packages/distil/utils/similarity_mat.py:112: VisibleDeprecationWarning: Creating an ndarray from ragged nested sequences (which is a list-or-tuple of lists-or-tuples-or ndarrays with different lengths or shapes) is deprecated. If you meant to do this, you must specify 'dtype=object' when creating the ndarray\n",
      "  [list(BatchSampler(SequentialSampler(np.arange(len(y_temp))), self.batch_size, drop_last=False))][0])\n",
      "/usr/local/lib/python3.7/dist-packages/distil/utils/similarity_mat.py:112: VisibleDeprecationWarning: Creating an ndarray from ragged nested sequences (which is a list-or-tuple of lists-or-tuples-or ndarrays with different lengths or shapes) is deprecated. If you meant to do this, you must specify 'dtype=object' when creating the ndarray\n",
      "  [list(BatchSampler(SequentialSampler(np.arange(len(y_temp))), self.batch_size, drop_last=False))][0])\n",
      "/usr/local/lib/python3.7/dist-packages/distil/utils/similarity_mat.py:112: VisibleDeprecationWarning: Creating an ndarray from ragged nested sequences (which is a list-or-tuple of lists-or-tuples-or ndarrays with different lengths or shapes) is deprecated. If you meant to do this, you must specify 'dtype=object' when creating the ndarray\n",
      "  [list(BatchSampler(SequentialSampler(np.arange(len(y_temp))), self.batch_size, drop_last=False))][0])\n"
     ]
    },
    {
     "name": "stdout",
     "output_type": "stream",
     "text": [
      "Sample Size R=18\n",
      "Sample Size R=18\n"
     ]
    },
    {
     "name": "stderr",
     "output_type": "stream",
     "text": [
      "/usr/local/lib/python3.7/dist-packages/distil/utils/similarity_mat.py:112: VisibleDeprecationWarning: Creating an ndarray from ragged nested sequences (which is a list-or-tuple of lists-or-tuples-or ndarrays with different lengths or shapes) is deprecated. If you meant to do this, you must specify 'dtype=object' when creating the ndarray\n",
      "  [list(BatchSampler(SequentialSampler(np.arange(len(y_temp))), self.batch_size, drop_last=False))][0])\n",
      "/usr/local/lib/python3.7/dist-packages/distil/utils/similarity_mat.py:112: VisibleDeprecationWarning: Creating an ndarray from ragged nested sequences (which is a list-or-tuple of lists-or-tuples-or ndarrays with different lengths or shapes) is deprecated. If you meant to do this, you must specify 'dtype=object' when creating the ndarray\n",
      "  [list(BatchSampler(SequentialSampler(np.arange(len(y_temp))), self.batch_size, drop_last=False))][0])\n",
      "/usr/local/lib/python3.7/dist-packages/distil/utils/similarity_mat.py:112: VisibleDeprecationWarning: Creating an ndarray from ragged nested sequences (which is a list-or-tuple of lists-or-tuples-or ndarrays with different lengths or shapes) is deprecated. If you meant to do this, you must specify 'dtype=object' when creating the ndarray\n",
      "  [list(BatchSampler(SequentialSampler(np.arange(len(y_temp))), self.batch_size, drop_last=False))][0])\n",
      "/usr/local/lib/python3.7/dist-packages/distil/utils/similarity_mat.py:112: VisibleDeprecationWarning: Creating an ndarray from ragged nested sequences (which is a list-or-tuple of lists-or-tuples-or ndarrays with different lengths or shapes) is deprecated. If you meant to do this, you must specify 'dtype=object' when creating the ndarray\n",
      "  [list(BatchSampler(SequentialSampler(np.arange(len(y_temp))), self.batch_size, drop_last=False))][0])\n",
      "/usr/local/lib/python3.7/dist-packages/distil/utils/similarity_mat.py:112: VisibleDeprecationWarning: Creating an ndarray from ragged nested sequences (which is a list-or-tuple of lists-or-tuples-or ndarrays with different lengths or shapes) is deprecated. If you meant to do this, you must specify 'dtype=object' when creating the ndarray\n",
      "  [list(BatchSampler(SequentialSampler(np.arange(len(y_temp))), self.batch_size, drop_last=False))][0])\n"
     ]
    },
    {
     "name": "stdout",
     "output_type": "stream",
     "text": [
      "Sample Size R=18\n",
      "Sample Size R=18\n"
     ]
    },
    {
     "name": "stderr",
     "output_type": "stream",
     "text": [
      "/usr/local/lib/python3.7/dist-packages/distil/utils/similarity_mat.py:112: VisibleDeprecationWarning: Creating an ndarray from ragged nested sequences (which is a list-or-tuple of lists-or-tuples-or ndarrays with different lengths or shapes) is deprecated. If you meant to do this, you must specify 'dtype=object' when creating the ndarray\n",
      "  [list(BatchSampler(SequentialSampler(np.arange(len(y_temp))), self.batch_size, drop_last=False))][0])\n",
      "/usr/local/lib/python3.7/dist-packages/distil/utils/similarity_mat.py:112: VisibleDeprecationWarning: Creating an ndarray from ragged nested sequences (which is a list-or-tuple of lists-or-tuples-or ndarrays with different lengths or shapes) is deprecated. If you meant to do this, you must specify 'dtype=object' when creating the ndarray\n",
      "  [list(BatchSampler(SequentialSampler(np.arange(len(y_temp))), self.batch_size, drop_last=False))][0])\n",
      "/usr/local/lib/python3.7/dist-packages/distil/utils/similarity_mat.py:112: VisibleDeprecationWarning: Creating an ndarray from ragged nested sequences (which is a list-or-tuple of lists-or-tuples-or ndarrays with different lengths or shapes) is deprecated. If you meant to do this, you must specify 'dtype=object' when creating the ndarray\n",
      "  [list(BatchSampler(SequentialSampler(np.arange(len(y_temp))), self.batch_size, drop_last=False))][0])\n",
      "/usr/local/lib/python3.7/dist-packages/distil/utils/similarity_mat.py:112: VisibleDeprecationWarning: Creating an ndarray from ragged nested sequences (which is a list-or-tuple of lists-or-tuples-or ndarrays with different lengths or shapes) is deprecated. If you meant to do this, you must specify 'dtype=object' when creating the ndarray\n",
      "  [list(BatchSampler(SequentialSampler(np.arange(len(y_temp))), self.batch_size, drop_last=False))][0])\n",
      "/usr/local/lib/python3.7/dist-packages/distil/utils/similarity_mat.py:112: VisibleDeprecationWarning: Creating an ndarray from ragged nested sequences (which is a list-or-tuple of lists-or-tuples-or ndarrays with different lengths or shapes) is deprecated. If you meant to do this, you must specify 'dtype=object' when creating the ndarray\n",
      "  [list(BatchSampler(SequentialSampler(np.arange(len(y_temp))), self.batch_size, drop_last=False))][0])\n"
     ]
    },
    {
     "name": "stdout",
     "output_type": "stream",
     "text": [
      "Sample Size R=18\n",
      "Sample Size R=18\n"
     ]
    },
    {
     "name": "stderr",
     "output_type": "stream",
     "text": [
      "/usr/local/lib/python3.7/dist-packages/distil/utils/similarity_mat.py:112: VisibleDeprecationWarning: Creating an ndarray from ragged nested sequences (which is a list-or-tuple of lists-or-tuples-or ndarrays with different lengths or shapes) is deprecated. If you meant to do this, you must specify 'dtype=object' when creating the ndarray\n",
      "  [list(BatchSampler(SequentialSampler(np.arange(len(y_temp))), self.batch_size, drop_last=False))][0])\n",
      "/usr/local/lib/python3.7/dist-packages/distil/utils/similarity_mat.py:112: VisibleDeprecationWarning: Creating an ndarray from ragged nested sequences (which is a list-or-tuple of lists-or-tuples-or ndarrays with different lengths or shapes) is deprecated. If you meant to do this, you must specify 'dtype=object' when creating the ndarray\n",
      "  [list(BatchSampler(SequentialSampler(np.arange(len(y_temp))), self.batch_size, drop_last=False))][0])\n",
      "/usr/local/lib/python3.7/dist-packages/distil/utils/similarity_mat.py:112: VisibleDeprecationWarning: Creating an ndarray from ragged nested sequences (which is a list-or-tuple of lists-or-tuples-or ndarrays with different lengths or shapes) is deprecated. If you meant to do this, you must specify 'dtype=object' when creating the ndarray\n",
      "  [list(BatchSampler(SequentialSampler(np.arange(len(y_temp))), self.batch_size, drop_last=False))][0])\n",
      "/usr/local/lib/python3.7/dist-packages/distil/utils/similarity_mat.py:112: VisibleDeprecationWarning: Creating an ndarray from ragged nested sequences (which is a list-or-tuple of lists-or-tuples-or ndarrays with different lengths or shapes) is deprecated. If you meant to do this, you must specify 'dtype=object' when creating the ndarray\n",
      "  [list(BatchSampler(SequentialSampler(np.arange(len(y_temp))), self.batch_size, drop_last=False))][0])\n",
      "/usr/local/lib/python3.7/dist-packages/distil/utils/similarity_mat.py:112: VisibleDeprecationWarning: Creating an ndarray from ragged nested sequences (which is a list-or-tuple of lists-or-tuples-or ndarrays with different lengths or shapes) is deprecated. If you meant to do this, you must specify 'dtype=object' when creating the ndarray\n",
      "  [list(BatchSampler(SequentialSampler(np.arange(len(y_temp))), self.batch_size, drop_last=False))][0])\n"
     ]
    },
    {
     "name": "stdout",
     "output_type": "stream",
     "text": [
      "Sample Size R=18\n",
      "Sample Size R=18\n"
     ]
    },
    {
     "name": "stderr",
     "output_type": "stream",
     "text": [
      "/usr/local/lib/python3.7/dist-packages/distil/utils/similarity_mat.py:112: VisibleDeprecationWarning: Creating an ndarray from ragged nested sequences (which is a list-or-tuple of lists-or-tuples-or ndarrays with different lengths or shapes) is deprecated. If you meant to do this, you must specify 'dtype=object' when creating the ndarray\n",
      "  [list(BatchSampler(SequentialSampler(np.arange(len(y_temp))), self.batch_size, drop_last=False))][0])\n",
      "/usr/local/lib/python3.7/dist-packages/distil/utils/similarity_mat.py:112: VisibleDeprecationWarning: Creating an ndarray from ragged nested sequences (which is a list-or-tuple of lists-or-tuples-or ndarrays with different lengths or shapes) is deprecated. If you meant to do this, you must specify 'dtype=object' when creating the ndarray\n",
      "  [list(BatchSampler(SequentialSampler(np.arange(len(y_temp))), self.batch_size, drop_last=False))][0])\n",
      "/usr/local/lib/python3.7/dist-packages/distil/utils/similarity_mat.py:112: VisibleDeprecationWarning: Creating an ndarray from ragged nested sequences (which is a list-or-tuple of lists-or-tuples-or ndarrays with different lengths or shapes) is deprecated. If you meant to do this, you must specify 'dtype=object' when creating the ndarray\n",
      "  [list(BatchSampler(SequentialSampler(np.arange(len(y_temp))), self.batch_size, drop_last=False))][0])\n",
      "/usr/local/lib/python3.7/dist-packages/distil/utils/similarity_mat.py:112: VisibleDeprecationWarning: Creating an ndarray from ragged nested sequences (which is a list-or-tuple of lists-or-tuples-or ndarrays with different lengths or shapes) is deprecated. If you meant to do this, you must specify 'dtype=object' when creating the ndarray\n",
      "  [list(BatchSampler(SequentialSampler(np.arange(len(y_temp))), self.batch_size, drop_last=False))][0])\n",
      "/usr/local/lib/python3.7/dist-packages/distil/utils/similarity_mat.py:112: VisibleDeprecationWarning: Creating an ndarray from ragged nested sequences (which is a list-or-tuple of lists-or-tuples-or ndarrays with different lengths or shapes) is deprecated. If you meant to do this, you must specify 'dtype=object' when creating the ndarray\n",
      "  [list(BatchSampler(SequentialSampler(np.arange(len(y_temp))), self.batch_size, drop_last=False))][0])\n"
     ]
    }
   ],
   "source": [
    "acc_dulo_dict = {}\n",
    "acc_random_dict = {}\n",
    "acc_optimal_dict = {}\n",
    "acc_fass_dict = {}\n",
    "acc_badge_dict = {}\n",
    "acc_glister_dict = {}\n",
    "\n",
    "rank_dulo_dict = {}\n",
    "rank_random_dict = {}\n",
    "rank_optimal_dict = {}\n",
    "rank_fass_dict = {}\n",
    "rank_badge_dict = {}\n",
    "rank_glister_dict = {}\n",
    "\n",
    "net = torch_cifar_logistic_data_to_net(x_train_few, y_train_few, x_val_few, y_val_few)\n",
    "\n",
    "for seed in range(12, 18):\n",
    "  _, deepset_selected_rank, _ = findMostValuableSample_deepset_stochasticgreedy(model.model, visda_x_unlabel_resNetFeature, target_size, epsilon=1e-4, seed=seed)\n",
    "  random_perm = np.random.permutation(range(unlabel_size))\n",
    "  _, optimal_dulo_selected_rank, _ = findMostValuableSample_deepset_stochasticgreedy(model_optimal.model, visda_x_unlabel_resNetFeature, target_size, epsilon=1e-4, seed=seed)\n",
    "\n",
    "  \n",
    "  strategy_args = {'batch_size':target_size, 'submod':'facility_location', 'selection_type':'PerClass'}\n",
    "  strategy = FASS(x_train_few, y_train_few, visda_x_unlabel_few_re.numpy(), net.cuda(), DataHandler_Points, 10, strategy_args)\n",
    "  fass_selected_rank = strategy.select(target_size)\n",
    "\n",
    "  strategy_args = {'batch_size' : target_size}\n",
    "  strategy = BADGE(x_train_few, y_train_few, visda_x_unlabel_few_re.numpy(), net.cuda(), DataHandler_Points, 10, strategy_args)\n",
    "  badge_selected_rank = strategy.select(target_size)\n",
    "\n",
    "  strategy_args = {'batch_size' : target_size, 'lr':float(0.001)}\n",
    "  strategy = glister.GLISTER(x_train_few, y_train_few, visda_x_unlabel_few_re.numpy(), net.cuda(), DataHandler_Points, 10, strategy_args, \n",
    "                            valid=True, X_val=x_val_few, Y_val=y_val_few)\n",
    "  glister_selected_rank = strategy.select(target_size)\n",
    "\n",
    "\n",
    "\n",
    "  rank_dulo_dict[seed] = deepset_selected_rank\n",
    "  rank_random_dict[seed] = random_perm\n",
    "  rank_optimal_dict[seed] = optimal_dulo_selected_rank\n",
    "  rank_fass_dict[seed] = fass_selected_rank\n",
    "  rank_badge_dict[seed] = badge_selected_rank\n",
    "  rank_glister_dict[seed] = glister_selected_rank\n",
    "\n",
    "\n",
    "  acc_greedy = []\n",
    "  acc_random = []\n",
    "  acc_optimal = []\n",
    "  acc_fass = []\n",
    "  acc_badge = []\n",
    "  acc_glister = []\n",
    "\n",
    "  inspect_points = np.linspace(1, target_size, num=10).astype(int)\n",
    "\n",
    "  for i in inspect_points:\n",
    "    acc_greedy.append(torch_stl_smallcnn_data_to_acc(visda_x_unlabel_few[deepset_selected_rank[:i]], visda_y_unlabel_few[deepset_selected_rank[:i]], visda_x_test, visda_y_test))\n",
    "    acc_random.append(torch_stl_smallcnn_data_to_acc(visda_x_unlabel_few[random_perm[:i]], visda_y_unlabel_few[random_perm[:i]], visda_x_test, visda_y_test))\n",
    "    acc_optimal.append(torch_stl_smallcnn_data_to_acc(visda_x_unlabel_few[optimal_dulo_selected_rank[:i]], visda_y_unlabel_few[optimal_dulo_selected_rank[:i]], visda_x_test, visda_y_test) )\n",
    "\n",
    "    acc_fass.append(torch_stl_smallcnn_data_to_acc(visda_x_unlabel_few[fass_selected_rank[:i]], visda_y_unlabel_few[fass_selected_rank[:i]], visda_x_test, visda_y_test))\n",
    "    acc_badge.append(torch_stl_smallcnn_data_to_acc(visda_x_unlabel_few[badge_selected_rank[:i]], visda_y_unlabel_few[badge_selected_rank[:i]], visda_x_test, visda_y_test))\n",
    "    acc_glister.append(torch_stl_smallcnn_data_to_acc(visda_x_unlabel_few[glister_selected_rank[:i]], visda_y_unlabel_few[glister_selected_rank[:i]], visda_x_test, visda_y_test))\n",
    "    \n",
    "\n",
    "  acc_dulo_dict[seed] = acc_greedy\n",
    "  acc_random_dict[seed] = acc_random\n",
    "  acc_optimal_dict[seed] = acc_optimal\n",
    "  acc_fass_dict[seed] = acc_fass\n",
    "  acc_badge_dict[seed] = acc_badge\n",
    "  acc_glister_dict[seed] = acc_glister"
   ]
  },
  {
   "cell_type": "markdown",
   "metadata": {
    "id": "GGj0Sd6IcARn"
   },
   "source": [
    "### load rank and acc"
   ]
  },
  {
   "cell_type": "code",
   "execution_count": 32,
   "metadata": {
    "id": "xIcA_S0b9CSn"
   },
   "outputs": [],
   "source": [
    "corruption = 'Noisy'\n",
    "model_dir = prefix + '/active-learning-transfer/models/cycada/visda/iter_1_32/'\n",
    "\n",
    "rank_dulo_dict, rank_random_dict, rank_optimal_dict, rank_fass_dict, rank_badge_dict, rank_glister_dict = pickle.load(open(\"./rank_12_18_{}.pkl\".format(corruption),\"rb\"))\n",
    "acc_dulo_dict, acc_random_dict, acc_optimal_dict, acc_fass_dict, acc_badge_dict, acc_glister_dict = pickle.load(open(\"./acc_12_18_{}.pkl\".format(corruption),\"rb\"))"
   ]
  },
  {
   "cell_type": "markdown",
   "metadata": {
    "id": "KRR9VRZqWYEC"
   },
   "source": [
    "### plot"
   ]
  },
  {
   "cell_type": "code",
   "execution_count": null,
   "metadata": {
    "colab": {
     "base_uri": "https://localhost:8080/",
     "height": 295
    },
    "id": "fh1lUFgHFEHd",
    "outputId": "35a1612c-15d8-44f5-b2b8-fe8aba128805"
   },
   "outputs": [
    {
     "data": {
      "image/png": "[encoded data removed]",
      "text/plain": [
       "<Figure size 432x288 with 1 Axes>"
      ]
     },
     "metadata": {
      "needs_background": "light",
      "tags": []
     },
     "output_type": "display_data"
    }
   ],
   "source": [
    "target_size = 1000\n",
    "\n",
    "inspect_points = np.linspace(100, target_size, num=10).astype(int)\n",
    "\n",
    "acc_dulo = np.zeros((6, 10))\n",
    "acc_random = np.zeros((6, 10))\n",
    "acc_optimal = np.zeros((6, 10))\n",
    "acc_fass = np.zeros((6, 10))\n",
    "acc_badge = np.zeros((6, 10))\n",
    "acc_glister = np.zeros((6, 10))\n",
    "\n",
    "for i in range(6):\n",
    "  seed = i+12\n",
    "  acc_dulo[i] = acc_dulo_dict[seed]\n",
    "  acc_random[i] = acc_random_dict[seed]\n",
    "  acc_optimal[i] = acc_optimal_dict[seed]\n",
    "  acc_fass[i] = acc_fass_dict[seed]\n",
    "  acc_badge[i] = acc_badge_dict[seed]\n",
    "  acc_glister[i] = acc_glister_dict[seed]\n",
    "\n",
    "plt.figure()\n",
    "\n",
    "def plot_fill(record, name, col):\n",
    "  if name in ['DULO', 'Optimal']:\n",
    "    plt.plot(inspect_points, np.mean(record, axis=0), label=name, color=col, marker='o')\n",
    "  else:\n",
    "    plt.plot(inspect_points, np.mean(record, axis=0), label=name, color=col)\n",
    "  plt.fill_between(inspect_points, np.mean(record, axis=0)+np.std(record, axis=0), np.mean(record, axis=0)-np.std(record, axis=0), alpha=0.2, color=col)\n",
    "\n",
    "plot_fill(acc_dulo, 'DULO', 'C0')\n",
    "plot_fill(acc_random, 'Random', 'C1')\n",
    "plot_fill(acc_optimal, 'Optimal', 'C2')\n",
    "plot_fill(acc_fass, 'FASS', 'C3')\n",
    "plot_fill(acc_badge, 'BADGE', 'C4')\n",
    "plot_fill(acc_glister, 'GLISTER', 'C5')\n",
    "\n",
    "plt.title('Visda, SmallCNN') \n",
    "plt.ylabel('Classifier Accuracy')\n",
    "plt.xlabel('# Selected Data Points')\n",
    "plt.legend()\n",
    "plt.show()"
   ]
  },
  {
   "cell_type": "code",
   "execution_count": null,
   "metadata": {
    "colab": {
     "base_uri": "https://localhost:8080/"
    },
    "id": "VNYzUUMhdPpe",
    "outputId": "24505443-508c-4a15-c7d0-16942f67d3e6"
   },
   "outputs": [
    {
     "name": "stdout",
     "output_type": "stream",
     "text": [
      "Noisy\n"
     ]
    }
   ],
   "source": [
    "print(corruption)"
   ]
  },
  {
   "cell_type": "code",
   "execution_count": null,
   "metadata": {
    "id": "at0TrsS2wZ9e"
   },
   "outputs": [],
   "source": [
    "model_dir = prefix + '/active-learning-transfer/models/cycada/cifar_to_stl_uda'\n",
    "\n",
    "pickle.dump([rank_dulo_dict, rank_random_dict, rank_optimal_dict, rank_fass_dict, rank_badge_dict, rank_glister_dict], open(model_dir+\"/rank_12_18_{}.pkl\".format(corruption),\"wb\"))\n",
    "pickle.dump([acc_dulo_dict, acc_random_dict, acc_optimal_dict, acc_fass_dict, acc_badge_dict, acc_glister_dict], open(model_dir+\"/acc_12_18_{}.pkl\".format(corruption),\"wb\"))"
   ]
  },
  {
   "cell_type": "code",
   "execution_count": null,
   "metadata": {
    "colab": {
     "base_uri": "https://localhost:8080/"
    },
    "id": "4IVeeKs75iQK",
    "outputId": "2cf7a39d-ae7f-478c-d945-12751e2cc90c"
   },
   "outputs": [
    {
     "name": "stdout",
     "output_type": "stream",
     "text": [
      "/content/gdrive/My Drive//active-learning-transfer/models/cycada/usps_to_mnist/iter_1_28_noisy0.5\n"
     ]
    }
   ],
   "source": [
    "print(model_dir)"
   ]
  },
  {
   "cell_type": "code",
   "execution_count": null,
   "metadata": {
    "id": "6iP92oRp6ZWT"
   },
   "outputs": [],
   "source": []
  },
  {
   "cell_type": "markdown",
   "metadata": {
    "id": "jsE7viR36ZWJ"
   },
   "source": [
    "## Multi seed (fine-tune)"
   ]
  },
  {
   "cell_type": "code",
   "execution_count": null,
   "metadata": {
    "id": "_KTP0bh7BmhH"
   },
   "outputs": [],
   "source": [
    "def check_selection_unnormal(set_selected):\n",
    "  # input is torch tensor\n",
    "  for i in range(10):\n",
    "    if i in set_selected:\n",
    "      continue\n",
    "    else:\n",
    "      return True\n",
    "  return False\n"
   ]
  },
  {
   "cell_type": "code",
   "execution_count": null,
   "metadata": {
    "colab": {
     "base_uri": "https://localhost:8080/"
    },
    "id": "ON60IBB_6ZWJ",
    "outputId": "4c9c1421-2368-48ed-e3bd-1c22467fc88c"
   },
   "outputs": [
    {
     "name": "stdout",
     "output_type": "stream",
     "text": [
      "100\n",
      "Model Accuracy: 67.30000305175781\n",
      "Model Accuracy: 68.44999694824219\n",
      "Model Accuracy: 69.0\n",
      "Model Accuracy: 66.44999694824219\n",
      "Model Accuracy: 69.6500015258789\n",
      "Model Accuracy: 69.5\n",
      "200\n",
      "Model Accuracy: 68.6500015258789\n",
      "Model Accuracy: 72.19999694824219\n",
      "Model Accuracy: 71.55000305175781\n",
      "Model Accuracy: 69.80000305175781\n",
      "Model Accuracy: 71.05000305175781\n",
      "Model Accuracy: 70.69999694824219\n",
      "300\n",
      "Model Accuracy: 70.69999694824219\n",
      "Model Accuracy: 72.94999694824219\n",
      "Model Accuracy: 73.4000015258789\n",
      "Model Accuracy: 70.19999694824219\n",
      "Model Accuracy: 72.5999984741211\n",
      "Model Accuracy: 72.94999694824219\n",
      "400\n",
      "Model Accuracy: 70.69999694824219\n",
      "Model Accuracy: 73.0\n",
      "Model Accuracy: 74.75\n",
      "Model Accuracy: 70.0\n",
      "Model Accuracy: 73.3499984741211\n",
      "Model Accuracy: 73.0999984741211\n",
      "500\n",
      "Model Accuracy: 71.5\n",
      "Model Accuracy: 75.25\n",
      "Model Accuracy: 75.80000305175781\n",
      "Model Accuracy: 68.5999984741211\n",
      "Model Accuracy: 75.1500015258789\n",
      "Model Accuracy: 74.9000015258789\n",
      "600\n",
      "Model Accuracy: 72.19999694824219\n",
      "Model Accuracy: 74.05000305175781\n",
      "Model Accuracy: 76.05000305175781\n",
      "Model Accuracy: 69.30000305175781\n",
      "Model Accuracy: 74.55000305175781\n",
      "Model Accuracy: 76.0999984741211\n",
      "700\n",
      "Model Accuracy: 73.30000305175781\n",
      "Model Accuracy: 74.30000305175781\n",
      "Model Accuracy: 76.1500015258789\n",
      "Model Accuracy: 71.5\n",
      "Model Accuracy: 75.19999694824219\n",
      "Model Accuracy: 77.80000305175781\n",
      "800\n",
      "Model Accuracy: 74.55000305175781\n",
      "Model Accuracy: 74.55000305175781\n",
      "Model Accuracy: 76.8499984741211\n",
      "Model Accuracy: 72.30000305175781\n",
      "Model Accuracy: 74.19999694824219\n",
      "Model Accuracy: 77.19999694824219\n",
      "900\n",
      "Model Accuracy: 74.69999694824219\n",
      "Model Accuracy: 74.55000305175781\n",
      "Model Accuracy: 76.5\n",
      "Model Accuracy: 72.9000015258789\n",
      "Model Accuracy: 73.4000015258789\n",
      "Model Accuracy: 77.75\n",
      "1000\n",
      "Model Accuracy: 75.4000015258789\n",
      "Model Accuracy: 74.05000305175781\n",
      "Model Accuracy: 76.55000305175781\n",
      "Model Accuracy: 73.94999694824219\n",
      "Model Accuracy: 73.4000015258789\n",
      "Model Accuracy: 78.6500015258789\n",
      "100\n",
      "Model Accuracy: 68.80000305175781\n",
      "Model Accuracy: 69.19999694824219\n",
      "Model Accuracy: 69.75\n",
      "Model Accuracy: 66.3499984741211\n",
      "Model Accuracy: 69.05000305175781\n",
      "Model Accuracy: 67.25\n",
      "200\n",
      "Model Accuracy: 69.44999694824219\n",
      "Model Accuracy: 71.05000305175781\n",
      "Model Accuracy: 72.9000015258789\n",
      "Model Accuracy: 69.30000305175781\n",
      "Model Accuracy: 71.94999694824219\n",
      "Model Accuracy: 70.5999984741211\n",
      "300\n",
      "Model Accuracy: 70.19999694824219\n",
      "Model Accuracy: 71.94999694824219\n",
      "Model Accuracy: 73.5\n",
      "Model Accuracy: 71.44999694824219\n",
      "Model Accuracy: 71.5\n",
      "Model Accuracy: 73.05000305175781\n",
      "400\n",
      "Model Accuracy: 70.4000015258789\n",
      "Model Accuracy: 72.4000015258789\n",
      "Model Accuracy: 74.0999984741211\n",
      "Model Accuracy: 69.94999694824219\n",
      "Model Accuracy: 73.05000305175781\n",
      "Model Accuracy: 73.19999694824219\n",
      "500\n",
      "Model Accuracy: 71.3499984741211\n",
      "Model Accuracy: 73.80000305175781\n",
      "Model Accuracy: 74.5999984741211\n",
      "Model Accuracy: 68.94999694824219\n",
      "Model Accuracy: 74.19999694824219\n",
      "Model Accuracy: 75.0\n",
      "600\n",
      "Model Accuracy: 71.8499984741211\n",
      "Model Accuracy: 74.25\n",
      "Model Accuracy: 75.0999984741211\n",
      "Model Accuracy: 68.75\n",
      "Model Accuracy: 74.5\n",
      "Model Accuracy: 75.6500015258789\n",
      "700\n",
      "Model Accuracy: 74.05000305175781\n",
      "Model Accuracy: 74.55000305175781\n",
      "Model Accuracy: 76.25\n",
      "Model Accuracy: 72.05000305175781\n",
      "Model Accuracy: 74.0999984741211\n",
      "Model Accuracy: 77.30000305175781\n",
      "800\n",
      "Model Accuracy: 73.8499984741211\n",
      "Model Accuracy: 74.8499984741211\n",
      "Model Accuracy: 76.5999984741211\n",
      "Model Accuracy: 72.69999694824219\n",
      "Model Accuracy: 76.19999694824219\n",
      "Model Accuracy: 76.80000305175781\n",
      "900\n",
      "Model Accuracy: 74.5999984741211\n",
      "Model Accuracy: 75.5999984741211\n",
      "Model Accuracy: 76.9000015258789\n",
      "Model Accuracy: 73.0999984741211\n",
      "Model Accuracy: 73.80000305175781\n",
      "Model Accuracy: 76.44999694824219\n",
      "1000\n",
      "Model Accuracy: 75.0\n",
      "Model Accuracy: 75.3499984741211\n",
      "Model Accuracy: 77.3499984741211\n",
      "Model Accuracy: 75.80000305175781\n",
      "Model Accuracy: 73.3499984741211\n",
      "Model Accuracy: 77.44999694824219\n",
      "100\n",
      "Model Accuracy: 69.25\n",
      "Model Accuracy: 69.25\n",
      "Model Accuracy: 70.8499984741211\n",
      "Model Accuracy: 66.0\n",
      "Model Accuracy: 68.30000305175781\n",
      "Model Accuracy: 68.0999984741211\n",
      "200\n",
      "Model Accuracy: 68.4000015258789\n",
      "Model Accuracy: 69.3499984741211\n",
      "Model Accuracy: 73.44999694824219\n",
      "Model Accuracy: 69.6500015258789\n",
      "Model Accuracy: 72.25\n",
      "Model Accuracy: 71.0999984741211\n",
      "300\n",
      "Model Accuracy: 69.1500015258789\n",
      "Model Accuracy: 72.05000305175781\n",
      "Model Accuracy: 74.4000015258789\n",
      "Model Accuracy: 71.9000015258789\n",
      "Model Accuracy: 71.44999694824219\n",
      "Model Accuracy: 73.69999694824219\n",
      "400\n",
      "Model Accuracy: 70.80000305175781\n",
      "Model Accuracy: 72.55000305175781\n",
      "Model Accuracy: 74.1500015258789\n",
      "Model Accuracy: 70.30000305175781\n",
      "Model Accuracy: 74.19999694824219\n",
      "Model Accuracy: 73.5999984741211\n",
      "500\n",
      "Model Accuracy: 71.80000305175781\n",
      "Model Accuracy: 72.9000015258789\n",
      "Model Accuracy: 74.5999984741211\n",
      "Model Accuracy: 68.6500015258789\n",
      "Model Accuracy: 74.55000305175781\n",
      "Model Accuracy: 74.55000305175781\n",
      "600\n",
      "Model Accuracy: 72.8499984741211\n",
      "Model Accuracy: 75.3499984741211\n",
      "Model Accuracy: 75.3499984741211\n",
      "Model Accuracy: 69.55000305175781\n",
      "Model Accuracy: 74.94999694824219\n",
      "Model Accuracy: 76.5\n",
      "700\n",
      "Model Accuracy: 74.0\n",
      "Model Accuracy: 73.5999984741211\n",
      "Model Accuracy: 76.5999984741211\n",
      "Model Accuracy: 71.6500015258789\n",
      "Model Accuracy: 75.0999984741211\n",
      "Model Accuracy: 76.5\n",
      "800\n",
      "Model Accuracy: 74.5\n",
      "Model Accuracy: 73.55000305175781\n",
      "Model Accuracy: 77.05000305175781\n",
      "Model Accuracy: 72.9000015258789\n",
      "Model Accuracy: 74.80000305175781\n",
      "Model Accuracy: 77.3499984741211\n",
      "900\n",
      "Model Accuracy: 74.19999694824219\n",
      "Model Accuracy: 73.55000305175781\n",
      "Model Accuracy: 77.0\n",
      "Model Accuracy: 73.19999694824219\n",
      "Model Accuracy: 75.0\n",
      "Model Accuracy: 77.0999984741211\n",
      "1000\n",
      "Model Accuracy: 75.1500015258789\n",
      "Model Accuracy: 74.25\n",
      "Model Accuracy: 76.75\n",
      "Model Accuracy: 74.3499984741211\n",
      "Model Accuracy: 74.3499984741211\n",
      "Model Accuracy: 77.55000305175781\n",
      "100\n",
      "Model Accuracy: 68.9000015258789\n",
      "Model Accuracy: 68.55000305175781\n",
      "Model Accuracy: 67.0999984741211\n",
      "Model Accuracy: 66.6500015258789\n",
      "Model Accuracy: 67.75\n",
      "Model Accuracy: 68.25\n",
      "200\n",
      "Model Accuracy: 68.75\n",
      "Model Accuracy: 69.9000015258789\n",
      "Model Accuracy: 69.6500015258789\n",
      "Model Accuracy: 68.5999984741211\n",
      "Model Accuracy: 70.75\n",
      "Model Accuracy: 71.8499984741211\n",
      "300\n",
      "Model Accuracy: 69.5999984741211\n",
      "Model Accuracy: 71.55000305175781\n",
      "Model Accuracy: 71.05000305175781\n",
      "Model Accuracy: 70.75\n",
      "Model Accuracy: 72.19999694824219\n",
      "Model Accuracy: 73.19999694824219\n",
      "400\n",
      "Model Accuracy: 71.0\n",
      "Model Accuracy: 72.4000015258789\n",
      "Model Accuracy: 73.55000305175781\n",
      "Model Accuracy: 70.1500015258789\n",
      "Model Accuracy: 72.9000015258789\n",
      "Model Accuracy: 73.6500015258789\n",
      "500\n",
      "Model Accuracy: 72.05000305175781\n",
      "Model Accuracy: 72.8499984741211\n",
      "Model Accuracy: 74.30000305175781\n",
      "Model Accuracy: 68.55000305175781\n",
      "Model Accuracy: 74.25\n",
      "Model Accuracy: 75.55000305175781\n",
      "600\n",
      "Model Accuracy: 72.0\n",
      "Model Accuracy: 73.30000305175781\n",
      "Model Accuracy: 75.3499984741211\n",
      "Model Accuracy: 68.8499984741211\n",
      "Model Accuracy: 74.75\n",
      "Model Accuracy: 77.25\n",
      "700\n",
      "Model Accuracy: 73.9000015258789\n",
      "Model Accuracy: 73.80000305175781\n",
      "Model Accuracy: 76.30000305175781\n",
      "Model Accuracy: 71.8499984741211\n",
      "Model Accuracy: 74.80000305175781\n",
      "Model Accuracy: 77.05000305175781\n",
      "800\n",
      "Model Accuracy: 74.55000305175781\n",
      "Model Accuracy: 74.80000305175781\n",
      "Model Accuracy: 76.3499984741211\n",
      "Model Accuracy: 71.8499984741211\n",
      "Model Accuracy: 74.8499984741211\n",
      "Model Accuracy: 76.4000015258789\n",
      "900\n",
      "Model Accuracy: 74.19999694824219\n",
      "Model Accuracy: 74.0999984741211\n",
      "Model Accuracy: 77.05000305175781\n",
      "Model Accuracy: 73.0999984741211\n",
      "Model Accuracy: 73.5\n",
      "Model Accuracy: 78.19999694824219\n",
      "1000\n",
      "Model Accuracy: 74.80000305175781\n",
      "Model Accuracy: 74.69999694824219\n",
      "Model Accuracy: 77.55000305175781\n",
      "Model Accuracy: 73.0\n",
      "Model Accuracy: 74.30000305175781\n",
      "Model Accuracy: 78.25\n",
      "100\n",
      "Model Accuracy: 66.69999694824219\n",
      "Model Accuracy: 67.44999694824219\n",
      "Model Accuracy: 66.69999694824219\n",
      "Model Accuracy: 65.75\n",
      "Model Accuracy: 68.80000305175781\n",
      "Model Accuracy: 67.75\n",
      "200\n",
      "Model Accuracy: 68.19999694824219\n",
      "Model Accuracy: 70.55000305175781\n",
      "Model Accuracy: 67.69999694824219\n",
      "Model Accuracy: 69.3499984741211\n",
      "Model Accuracy: 71.5\n",
      "Model Accuracy: 71.0999984741211\n",
      "300\n",
      "Model Accuracy: 70.44999694824219\n",
      "Model Accuracy: 71.19999694824219\n",
      "Model Accuracy: 68.6500015258789\n",
      "Model Accuracy: 71.0\n",
      "Model Accuracy: 73.05000305175781\n",
      "Model Accuracy: 73.30000305175781\n",
      "400\n",
      "Model Accuracy: 70.80000305175781\n",
      "Model Accuracy: 72.6500015258789\n",
      "Model Accuracy: 70.80000305175781\n",
      "Model Accuracy: 70.69999694824219\n",
      "Model Accuracy: 73.30000305175781\n"
     ]
    }
   ],
   "source": [
    "corruption = 'Noisy'\n",
    "\n",
    "\n",
    "acc_dulo_dict_ft = {}\n",
    "acc_random_dict_ft = {}\n",
    "acc_optimal_dict_ft = {}\n",
    "acc_fass_dict_ft = {}\n",
    "acc_badge_dict_ft = {}\n",
    "acc_glister_dict_ft = {}\n",
    "\n",
    "rank_dulo_dict, rank_random_dict, rank_optimal_dict, rank_fass_dict, rank_badge_dict, rank_glister_dict = pickle.load(open(model_dir+\"/rank_12_18_{}.pkl\".format(corruption),\"rb\"))\n",
    "\n",
    "adda_file = [model_dir + \"/VisDA_HAFN_resnet101_netG_1.1_10.pth\", model_dir+\"/VisDA_HAFN_resnet101_netF_1.1_10.pth\"]\n",
    "\n",
    "\n",
    "for seed in range(12, 18):\n",
    "\n",
    "  deepset_selected_rank = rank_dulo_dict[seed]\n",
    "  random_perm = rank_random_dict[seed]\n",
    "  optimal_dulo_selected_rank = rank_optimal_dict[seed]\n",
    "  fass_selected_rank = rank_fass_dict[seed]\n",
    "  badge_selected_rank = rank_badge_dict[seed] \n",
    "  glister_selected_rank = rank_glister_dict[seed]\n",
    "\n",
    "  \n",
    "  acc_greedy_ft = [da_acc]\n",
    "  acc_random_ft = [da_acc]\n",
    "  acc_optimal_ft = [da_acc]\n",
    "  acc_fass_ft  = [da_acc]\n",
    "  acc_badge_ft = [da_acc]\n",
    "  acc_glister_ft = [da_acc]\n",
    "\n",
    "  inspect_points = np.linspace(100, 1000, num=10).astype(int)\n",
    "\n",
    "  for i in inspect_points:\n",
    "    print(i)\n",
    "\n",
    "    \n",
    "    acc_greedy_ft.append(data_to_acc_finetune_ori(adda_file, visda_x_unlabel_re[deepset_selected_rank[:i]], visda_y_unlabel_re[deepset_selected_rank[:i]], visda_x_test_re, visda_y_test_re, get_unlabel(deepset_selected_rank[:i])))\n",
    "\n",
    "    acc_random_ft.append(data_to_acc_finetune_ori(adda_file, visda_x_unlabel_re[random_perm[:i]], visda_y_unlabel_re[random_perm[:i]], visda_x_test_re, visda_y_test_re,get_unlabel(random_perm[:i])))\n",
    "\n",
    "    acc_optimal_ft.append(data_to_acc_finetune_ori(adda_file, visda_x_unlabel_re[optimal_dulo_selected_rank[:i]], visda_y_unlabel_re[optimal_dulo_selected_rank[:i]], visda_x_test_re, visda_y_test_re, get_unlabel(optimal_dulo_selected_rank[:i])))\n",
    "\n",
    "  \n",
    "    acc_fass_ft.append(data_to_acc_finetune_ori(adda_file, visda_x_unlabel_re[fass_selected_rank[:i]], visda_y_unlabel_re[fass_selected_rank[:i]], visda_x_test_re, visda_y_test_re,get_unlabel(fass_selected_rank[:i])))\n",
    "  \n",
    "    acc_badge_ft.append(data_to_acc_finetune_ori(adda_file, visda_x_unlabel_re[badge_selected_rank[:i]], visda_y_unlabel_re[badge_selected_rank[:i]], visda_x_test_re, visda_y_test_re, get_unlabel(badge_selected_rank[:i])))\n",
    "  \n",
    "    acc_glister_ft.append(data_to_acc_finetune_ori(adda_file, visda_x_unlabel_re[glister_selected_rank[:i]], visda_y_unlabel_re[glister_selected_rank[:i]], visda_x_test_re, visda_y_test_re, get_unlabel(glister_selected_rank[:i])))\n",
    "\n",
    "\n",
    "  acc_dulo_dict_ft[seed] = acc_greedy_ft\n",
    "  acc_random_dict_ft[seed] = acc_random_ft\n",
    "  acc_optimal_dict_ft[seed] = acc_optimal_ft\n",
    "  acc_fass_dict_ft[seed] = acc_fass_ft\n",
    "  acc_badge_dict_ft[seed] = acc_badge_ft\n",
    "  acc_glister_dict_ft[seed] = acc_glister_ft"
   ]
  },
  {
   "cell_type": "markdown",
   "metadata": {
    "id": "G--tp28V06-L"
   },
   "source": [
    "### load rank and acc"
   ]
  },
  {
   "cell_type": "code",
   "execution_count": null,
   "metadata": {
    "colab": {
     "base_uri": "https://localhost:8080/",
     "height": 215
    },
    "id": "2rO1ivnl0-BT",
    "outputId": "4ce10f48-af7d-4e73-b366-5e495d782ca0"
   },
   "outputs": [
    {
     "ename": "FileNotFoundError",
     "evalue": "ignored",
     "output_type": "error",
     "traceback": [
      "\u001b[0;31m---------------------------------------------------------------------------\u001b[0m",
      "\u001b[0;31mFileNotFoundError\u001b[0m                         Traceback (most recent call last)",
      "\u001b[0;32m<ipython-input-31-7632b0f1a4e7>\u001b[0m in \u001b[0;36m<module>\u001b[0;34m()\u001b[0m\n\u001b[1;32m      4\u001b[0m \u001b[0;34m\u001b[0m\u001b[0m\n\u001b[1;32m      5\u001b[0m \u001b[0mrank_dulo_dict\u001b[0m\u001b[0;34m,\u001b[0m \u001b[0mrank_random_dict\u001b[0m\u001b[0;34m,\u001b[0m \u001b[0mrank_optimal_dict\u001b[0m\u001b[0;34m,\u001b[0m \u001b[0mrank_fass_dict\u001b[0m\u001b[0;34m,\u001b[0m \u001b[0mrank_badge_dict\u001b[0m\u001b[0;34m,\u001b[0m \u001b[0mrank_glister_dict\u001b[0m \u001b[0;34m=\u001b[0m \u001b[0mpickle\u001b[0m\u001b[0;34m.\u001b[0m\u001b[0mload\u001b[0m\u001b[0;34m(\u001b[0m\u001b[0mopen\u001b[0m\u001b[0;34m(\u001b[0m\u001b[0mmodel_dir\u001b[0m\u001b[0;34m+\u001b[0m\u001b[0;34m\"/rank_12_18_{}.pkl\"\u001b[0m\u001b[0;34m.\u001b[0m\u001b[0mformat\u001b[0m\u001b[0;34m(\u001b[0m\u001b[0mcorruption\u001b[0m\u001b[0;34m)\u001b[0m\u001b[0;34m,\u001b[0m\u001b[0;34m\"rb\"\u001b[0m\u001b[0;34m)\u001b[0m\u001b[0;34m)\u001b[0m\u001b[0;34m\u001b[0m\u001b[0;34m\u001b[0m\u001b[0m\n\u001b[0;32m----> 6\u001b[0;31m \u001b[0macc_dulo_dict_ft\u001b[0m\u001b[0;34m,\u001b[0m \u001b[0macc_random_dict_ft\u001b[0m\u001b[0;34m,\u001b[0m \u001b[0macc_optimal_dict_ft\u001b[0m\u001b[0;34m,\u001b[0m \u001b[0macc_fass_dict_ft\u001b[0m\u001b[0;34m,\u001b[0m \u001b[0macc_badge_dict_ft\u001b[0m\u001b[0;34m,\u001b[0m \u001b[0macc_glister_dict_ft\u001b[0m \u001b[0;34m=\u001b[0m \u001b[0mpickle\u001b[0m\u001b[0;34m.\u001b[0m\u001b[0mload\u001b[0m\u001b[0;34m(\u001b[0m\u001b[0mopen\u001b[0m\u001b[0;34m(\u001b[0m\u001b[0mmodel_dir\u001b[0m\u001b[0;34m+\u001b[0m\u001b[0;34m\"/accFineTune_12_18_{}.pkl\"\u001b[0m\u001b[0;34m.\u001b[0m\u001b[0mformat\u001b[0m\u001b[0;34m(\u001b[0m\u001b[0mcorruption\u001b[0m\u001b[0;34m)\u001b[0m\u001b[0;34m,\u001b[0m\u001b[0;34m\"rb\"\u001b[0m\u001b[0;34m)\u001b[0m\u001b[0;34m)\u001b[0m\u001b[0;34m\u001b[0m\u001b[0;34m\u001b[0m\u001b[0m\n\u001b[0m",
      "\u001b[0;31mFileNotFoundError\u001b[0m: [Errno 2] No such file or directory: '/content/gdrive/My Drive//active-learning-transfer/models/cycada/visda/iter_1_32//accFineTune_12_18_Noisy.pkl'"
     ]
    }
   ],
   "source": [
    "corruption = 'Noisy'\n",
    "model_dir = prefix + '/active-learning-transfer/models/cycada/visda/iter_1_32/'\n",
    "\n",
    "\n",
    "rank_dulo_dict, rank_random_dict, rank_optimal_dict, rank_fass_dict, rank_badge_dict, rank_glister_dict = pickle.load(open(model_dir+\"/rank_12_18_{}.pkl\".format(corruption),\"rb\"))\n",
    "acc_dulo_dict_ft, acc_random_dict_ft, acc_optimal_dict_ft, acc_fass_dict_ft, acc_badge_dict_ft, acc_glister_dict_ft = pickle.load(open(model_dir+\"/accFineTune_12_18_{}.pkl\".format(corruption),\"rb\"))"
   ]
  },
  {
   "cell_type": "markdown",
   "metadata": {
    "id": "rK-LyyAM1bBP"
   },
   "source": [
    "### Plot"
   ]
  },
  {
   "cell_type": "code",
   "execution_count": null,
   "metadata": {
    "id": "PWjgnWKd6ZWS"
   },
   "outputs": [],
   "source": [
    "target_size = 1000\n",
    "inspect_points = np.linspace(0, target_size, num=11).astype(int)\n",
    "\n",
    "\n",
    "acc_dulo = np.zeros((6, 11))\n",
    "acc_random = np.zeros((6, 11))\n",
    "acc_optimal = np.zeros((6, 11))\n",
    "acc_fass = np.zeros((6, 11))\n",
    "acc_badge = np.zeros((6, 11))\n",
    "acc_glister = np.zeros((6, 11))\n",
    "\n",
    "for i in range(6):\n",
    "  seed = i+12\n",
    "  acc_dulo[i] = acc_dulo_dict_ft[seed]\n",
    "  acc_random[i] = acc_random_dict_ft[seed]\n",
    "  acc_optimal[i] = acc_optimal_dict_ft[seed]\n",
    "  acc_fass[i] = acc_fass_dict_ft[seed]\n",
    "  acc_badge[i] = acc_badge_dict_ft[seed]\n",
    "  acc_glister[i] = acc_glister_dict_ft[seed]\n",
    "\n",
    "plt.figure()\n",
    "\n",
    "def plot_fill(record, name, col):\n",
    "  if name in ['DULO', 'Optimal']:\n",
    "    plt.plot(inspect_points, np.mean(record, axis=0), label=name, color=col, marker='o')\n",
    "  else:\n",
    "    plt.plot(inspect_points, np.mean(record, axis=0), label=name, color=col)\n",
    "  plt.fill_between(inspect_points, np.mean(record, axis=0)+np.std(record, axis=0), np.mean(record, axis=0)-np.std(record, axis=0), alpha=0.2, color=col)\n",
    "\n",
    "plot_fill(acc_dulo, 'DULO', 'C0')\n",
    "plot_fill(acc_random, 'Random', 'C1')\n",
    "plot_fill(acc_optimal, 'Optimal', 'C2')\n",
    "plot_fill(acc_fass, 'FASS', 'C3')\n",
    "plot_fill(acc_badge, 'BADGE', 'C4')\n",
    "plot_fill(acc_glister, 'GLISTER', 'C5')\n",
    "\n",
    "plt.title('Visda, Finetune')\n",
    "plt.ylabel('Classifier Accuracy')\n",
    "plt.xlabel('# Selected Data Points')\n",
    "plt.legend()\n",
    "plt.show()"
   ]
  },
  {
   "cell_type": "code",
   "execution_count": null,
   "metadata": {
    "colab": {
     "base_uri": "https://localhost:8080/"
    },
    "id": "Um7j0gJVUj74",
    "outputId": "512e973d-648c-4d68-e2d4-56ee9c27bece"
   },
   "outputs": [
    {
     "name": "stdout",
     "output_type": "stream",
     "text": [
      "Noisy\n"
     ]
    }
   ],
   "source": [
    "print(corruption)"
   ]
  },
  {
   "cell_type": "code",
   "execution_count": null,
   "metadata": {
    "id": "ns1UKXo-6ZWT"
   },
   "outputs": [],
   "source": [
    "pickle.dump([acc_dulo_dict_ft, acc_random_dict_ft, acc_optimal_dict_ft, acc_fass_dict_ft, acc_badge_dict_ft, acc_glister_dict_ft], open(model_dir+\"/accFineTuneori_12_18_{}.pkl\".format(corruption),\"wb\"))"
   ]
  },
  {
   "cell_type": "code",
   "execution_count": null,
   "metadata": {
    "colab": {
     "base_uri": "https://localhost:8080/"
    },
    "id": "pHWlInr-6ZWT",
    "outputId": "1b999e9e-856c-4d4b-9790-414d05880e6a"
   },
   "outputs": [
    {
     "name": "stdout",
     "output_type": "stream",
     "text": [
      "/content/gdrive/My Drive//active-learning-transfer/models/cycada/ds/iter_1_28_noise\n"
     ]
    }
   ],
   "source": [
    "print(model_dir)"
   ]
  },
  {
   "cell_type": "markdown",
   "metadata": {
    "id": "PZe37EAfnLlC"
   },
   "source": [
    "## MULT"
   ]
  },
  {
   "cell_type": "code",
   "execution_count": null,
   "metadata": {
    "id": "mcyI_dqOnQNR"
   },
   "outputs": [],
   "source": [
    "model_dir = prefix + '/active-learning-transfer/models/cycada/visda/iter_1_32'\n",
    "\n",
    "# deepset_rank_coll, random_rank_coll, optimal_rank_coll, fass_rank_coll, badge_rank_coll, glister_rank_coll = pickle.load(open(model_dir+\"/visda_new.acccoll\",\"rb\"))\n",
    "acc_coll, ftacc_coll = pickle.load(open(model_dir+\"/visda_new.acccoll\",\"rb\"))"
   ]
  },
  {
   "cell_type": "code",
   "execution_count": null,
   "metadata": {
    "id": "CI9DRjO9qTvp"
   },
   "outputs": [],
   "source": []
  },
  {
   "cell_type": "code",
   "execution_count": null,
   "metadata": {
    "colab": {
     "base_uri": "https://localhost:8080/"
    },
    "id": "fnrXlvf0pzFp",
    "outputId": "419d9ffd-9a86-4fd4-91c9-19dad6058c3a"
   },
   "outputs": [
    {
     "name": "stdout",
     "output_type": "stream",
     "text": [
      "[ 500 1000 1500 2000 2500 3000 3500 4000 4500 5000]\n"
     ]
    }
   ],
   "source": [
    "target_size = 5000\n",
    "interval = 500\n",
    "inspect_points = np.linspace(interval, target_size, num=int(target_size/interval)).astype(int)\n",
    "print(inspect_points)"
   ]
  },
  {
   "cell_type": "code",
   "execution_count": null,
   "metadata": {
    "colab": {
     "base_uri": "https://localhost:8080/"
    },
    "id": "9KbO2UVGq5XQ",
    "outputId": "e1830055-5ae8-4248-b063-5530da5b10c8"
   },
   "outputs": [
    {
     "name": "stdout",
     "output_type": "stream",
     "text": [
      "3\n"
     ]
    }
   ],
   "source": [
    "print(len(acc_coll['deepset']))"
   ]
  },
  {
   "cell_type": "code",
   "execution_count": null,
   "metadata": {
    "colab": {
     "base_uri": "https://localhost:8080/",
     "height": 295
    },
    "id": "cHOizppynNO3",
    "outputId": "11b3392e-362b-4dd7-ac4c-ece11be564c7"
   },
   "outputs": [
    {
     "data": {
      "image/png": "[encoded data removed]",
      "text/plain": [
       "<Figure size 432x288 with 1 Axes>"
      ]
     },
     "metadata": {
      "needs_background": "light",
      "tags": []
     },
     "output_type": "display_data"
    }
   ],
   "source": [
    "target_size = 5000\n",
    "interval = 500\n",
    "num= int(target_size/interval)\n",
    "inspect_points = np.linspace(interval, target_size, num=num).astype(int)\n",
    "\n",
    "\n",
    "acc_dulo = np.zeros((6, num))\n",
    "acc_random = np.zeros((6, num))\n",
    "acc_optimal = np.zeros((6, num))\n",
    "acc_fass = np.zeros((6, num))\n",
    "acc_badge = np.zeros((6, num))\n",
    "# acc_glister = np.zeros((6, num))\n",
    "\n",
    "for i in range(3):\n",
    "  acc_dulo[i] = acc_coll['deepset'][i]\n",
    "  acc_random[i] = acc_coll['random'][i]\n",
    "  acc_optimal[i] = acc_coll['optimal'][i]\n",
    "  acc_fass[i] = acc_coll['fass'][i]\n",
    "  acc_badge[i] = acc_coll['badge'][i]\n",
    "  # acc_glister[i] = acc_coll['glister'][i]\n",
    "\n",
    "plt.figure()\n",
    "\n",
    "def plot_fill(record, name, col):\n",
    "  plt.plot(inspect_points, np.mean(record, axis=0), label=name, color=col)\n",
    "  # plt.fill_between(inspect_points, np.mean(record, axis=0)+np.std(record, axis=0), np.mean(record, axis=0)-np.std(record, axis=0), alpha=0.2, color=col)\n",
    "\n",
    "plot_fill(acc_dulo, 'DULO', 'C0')\n",
    "plot_fill(acc_random, 'Random', 'C1')\n",
    "plot_fill(acc_optimal, 'Optimal', 'C2')\n",
    "plot_fill(acc_fass, 'FASS', 'C3')\n",
    "plot_fill(acc_badge, 'BADGE', 'C4')\n",
    "# plot_fill(acc_glister, 'GLISTER', 'C5')\n",
    "\n",
    "plt.title('Visda, smallCNN')\n",
    "plt.ylabel('Classifier Accuracy')\n",
    "plt.xlabel('# Selected Data Points')\n",
    "plt.legend()\n",
    "plt.show()"
   ]
  },
  {
   "cell_type": "code",
   "execution_count": null,
   "metadata": {
    "colab": {
     "base_uri": "https://localhost:8080/",
     "height": 295
    },
    "id": "X0VSHCtyqjnb",
    "outputId": "75e9caed-f407-45c4-91b5-586ad6fbdb88"
   },
   "outputs": [
    {
     "data": {
      "image/png": "[encoded data removed]",
      "text/plain": [
       "<Figure size 432x288 with 1 Axes>"
      ]
     },
     "metadata": {
      "needs_background": "light",
      "tags": []
     },
     "output_type": "display_data"
    }
   ],
   "source": [
    "target_size = 5000\n",
    "interval = 500\n",
    "num= int(target_size/interval)\n",
    "inspect_points = np.linspace(interval, target_size, num=num).astype(int)\n",
    "\n",
    "\n",
    "acc_dulo = np.zeros((6, num))\n",
    "acc_random = np.zeros((6, num))\n",
    "acc_optimal = np.zeros((6, num))\n",
    "acc_fass = np.zeros((6, num))\n",
    "acc_badge = np.zeros((6, num))\n",
    "# acc_glister = np.zeros((6, num))\n",
    "\n",
    "for i in range(3):\n",
    "  acc_dulo[i] = ftacc_coll['deepset'][i]\n",
    "  acc_random[i] = ftacc_coll['random'][i]\n",
    "  acc_optimal[i] = ftacc_coll['optimal'][i]\n",
    "  acc_fass[i] = ftacc_coll['fass'][i]\n",
    "  acc_badge[i] = ftacc_coll['badge'][i]\n",
    "  # acc_glister[i] = ftacc_coll['glister'][i]\n",
    "\n",
    "plt.figure()\n",
    "\n",
    "def plot_fill(record, name, col):\n",
    "  plt.plot(inspect_points, np.mean(record, axis=0), label=name, color=col)\n",
    "  # plt.fill_between(inspect_points, np.mean(record, axis=0)+np.std(record, axis=0), np.mean(record, axis=0)-np.std(record, axis=0), alpha=0.2, color=col)\n",
    "\n",
    "plot_fill(acc_dulo, 'DULO', 'C0')\n",
    "plot_fill(acc_random, 'Random', 'C1')\n",
    "plot_fill(acc_optimal, 'Optimal', 'C2')\n",
    "plot_fill(acc_fass, 'FASS', 'C3')\n",
    "plot_fill(acc_badge, 'BADGE', 'C4')\n",
    "# plot_fill(acc_glister, 'GLISTER', 'C5')\n",
    "\n",
    "plt.title('Visda, Finetune')\n",
    "plt.ylabel('Classifier Accuracy')\n",
    "plt.xlabel('# Selected Data Points')\n",
    "plt.legend()\n",
    "plt.show()"
   ]
  },
  {
   "cell_type": "code",
   "execution_count": null,
   "metadata": {
    "id": "PUhOOEKQrTpP"
   },
   "outputs": [],
   "source": []
  }
 ],
 "metadata": {
  "accelerator": "GPU",
  "colab": {
   "collapsed_sections": [
    "1ZFSxj51oFP4",
    "hxZFaw65DVsn",
    "7022RIHcCmsb"
   ],
   "machine_shape": "hm",
   "name": "Copy of visda.ipynb",
   "provenance": [],
   "toc_visible": true
  },
  "kernelspec": {
   "display_name": "Python 3",
   "language": "python",
   "name": "python3"
  },
  "language_info": {
   "codemirror_mode": {
    "name": "ipython",
    "version": 3
   },
   "file_extension": ".py",
   "mimetype": "text/x-python",
   "name": "python",
   "nbconvert_exporter": "python",
   "pygments_lexer": "ipython3",
   "version": "3.6.13"
  },
  "widgets": {
   "application/vnd.jupyter.widget-state+json": {
    "39069bb8c649464a8280d7985b6b64e7": {
     "model_module": "@jupyter-widgets/controls",
     "model_name": "FloatProgressModel",
     "state": {
      "_dom_classes": [],
      "_model_module": "@jupyter-widgets/controls",
      "_model_module_version": "1.5.0",
      "_model_name": "FloatProgressModel",
      "_view_count": null,
      "_view_module": "@jupyter-widgets/controls",
      "_view_module_version": "1.5.0",
      "_view_name": "ProgressView",
      "bar_style": "success",
      "description": "100%",
      "description_tooltip": null,
      "layout": "IPY_MODEL_e7d2c71a66f74ccfbcb22a3ecd5c1909",
      "max": 178728960,
      "min": 0,
      "orientation": "horizontal",
      "style": "IPY_MODEL_626bb14849ca4946975944d907b12eb2",
      "value": 178728960
     }
    },
    "626bb14849ca4946975944d907b12eb2": {
     "model_module": "@jupyter-widgets/controls",
     "model_name": "ProgressStyleModel",
     "state": {
      "_model_module": "@jupyter-widgets/controls",
      "_model_module_version": "1.5.0",
      "_model_name": "ProgressStyleModel",
      "_view_count": null,
      "_view_module": "@jupyter-widgets/base",
      "_view_module_version": "1.2.0",
      "_view_name": "StyleView",
      "bar_color": null,
      "description_width": "initial"
     }
    },
    "7b2a8ac55d5a4ae9b2a68eb3beb5d082": {
     "model_module": "@jupyter-widgets/base",
     "model_name": "LayoutModel",
     "state": {
      "_model_module": "@jupyter-widgets/base",
      "_model_module_version": "1.2.0",
      "_model_name": "LayoutModel",
      "_view_count": null,
      "_view_module": "@jupyter-widgets/base",
      "_view_module_version": "1.2.0",
      "_view_name": "LayoutView",
      "align_content": null,
      "align_items": null,
      "align_self": null,
      "border": null,
      "bottom": null,
      "display": null,
      "flex": null,
      "flex_flow": null,
      "grid_area": null,
      "grid_auto_columns": null,
      "grid_auto_flow": null,
      "grid_auto_rows": null,
      "grid_column": null,
      "grid_gap": null,
      "grid_row": null,
      "grid_template_areas": null,
      "grid_template_columns": null,
      "grid_template_rows": null,
      "height": null,
      "justify_content": null,
      "justify_items": null,
      "left": null,
      "margin": null,
      "max_height": null,
      "max_width": null,
      "min_height": null,
      "min_width": null,
      "object_fit": null,
      "object_position": null,
      "order": null,
      "overflow": null,
      "overflow_x": null,
      "overflow_y": null,
      "padding": null,
      "right": null,
      "top": null,
      "visibility": null,
      "width": null
     }
    },
    "7c10e2215b444925b28eef746209fc49": {
     "model_module": "@jupyter-widgets/controls",
     "model_name": "DescriptionStyleModel",
     "state": {
      "_model_module": "@jupyter-widgets/controls",
      "_model_module_version": "1.5.0",
      "_model_name": "DescriptionStyleModel",
      "_view_count": null,
      "_view_module": "@jupyter-widgets/base",
      "_view_module_version": "1.2.0",
      "_view_name": "StyleView",
      "description_width": ""
     }
    },
    "8c1832f309964426a77c7dd084c209dc": {
     "model_module": "@jupyter-widgets/controls",
     "model_name": "HTMLModel",
     "state": {
      "_dom_classes": [],
      "_model_module": "@jupyter-widgets/controls",
      "_model_module_version": "1.5.0",
      "_model_name": "HTMLModel",
      "_view_count": null,
      "_view_module": "@jupyter-widgets/controls",
      "_view_module_version": "1.5.0",
      "_view_name": "HTMLView",
      "description": "",
      "description_tooltip": null,
      "layout": "IPY_MODEL_7b2a8ac55d5a4ae9b2a68eb3beb5d082",
      "placeholder": "​",
      "style": "IPY_MODEL_7c10e2215b444925b28eef746209fc49",
      "value": " 170M/170M [00:02&lt;00:00, 59.9MB/s]"
     }
    },
    "d5374c1e9cce4addb0c750cfda7b7a8c": {
     "model_module": "@jupyter-widgets/controls",
     "model_name": "HBoxModel",
     "state": {
      "_dom_classes": [],
      "_model_module": "@jupyter-widgets/controls",
      "_model_module_version": "1.5.0",
      "_model_name": "HBoxModel",
      "_view_count": null,
      "_view_module": "@jupyter-widgets/controls",
      "_view_module_version": "1.5.0",
      "_view_name": "HBoxView",
      "box_style": "",
      "children": [
       "IPY_MODEL_39069bb8c649464a8280d7985b6b64e7",
       "IPY_MODEL_8c1832f309964426a77c7dd084c209dc"
      ],
      "layout": "IPY_MODEL_e11e91af4be14db29d6b501d4786c2a0"
     }
    },
    "e11e91af4be14db29d6b501d4786c2a0": {
     "model_module": "@jupyter-widgets/base",
     "model_name": "LayoutModel",
     "state": {
      "_model_module": "@jupyter-widgets/base",
      "_model_module_version": "1.2.0",
      "_model_name": "LayoutModel",
      "_view_count": null,
      "_view_module": "@jupyter-widgets/base",
      "_view_module_version": "1.2.0",
      "_view_name": "LayoutView",
      "align_content": null,
      "align_items": null,
      "align_self": null,
      "border": null,
      "bottom": null,
      "display": null,
      "flex": null,
      "flex_flow": null,
      "grid_area": null,
      "grid_auto_columns": null,
      "grid_auto_flow": null,
      "grid_auto_rows": null,
      "grid_column": null,
      "grid_gap": null,
      "grid_row": null,
      "grid_template_areas": null,
      "grid_template_columns": null,
      "grid_template_rows": null,
      "height": null,
      "justify_content": null,
      "justify_items": null,
      "left": null,
      "margin": null,
      "max_height": null,
      "max_width": null,
      "min_height": null,
      "min_width": null,
      "object_fit": null,
      "object_position": null,
      "order": null,
      "overflow": null,
      "overflow_x": null,
      "overflow_y": null,
      "padding": null,
      "right": null,
      "top": null,
      "visibility": null,
      "width": null
     }
    },
    "e7d2c71a66f74ccfbcb22a3ecd5c1909": {
     "model_module": "@jupyter-widgets/base",
     "model_name": "LayoutModel",
     "state": {
      "_model_module": "@jupyter-widgets/base",
      "_model_module_version": "1.2.0",
      "_model_name": "LayoutModel",
      "_view_count": null,
      "_view_module": "@jupyter-widgets/base",
      "_view_module_version": "1.2.0",
      "_view_name": "LayoutView",
      "align_content": null,
      "align_items": null,
      "align_self": null,
      "border": null,
      "bottom": null,
      "display": null,
      "flex": null,
      "flex_flow": null,
      "grid_area": null,
      "grid_auto_columns": null,
      "grid_auto_flow": null,
      "grid_auto_rows": null,
      "grid_column": null,
      "grid_gap": null,
      "grid_row": null,
      "grid_template_areas": null,
      "grid_template_columns": null,
      "grid_template_rows": null,
      "height": null,
      "justify_content": null,
      "justify_items": null,
      "left": null,
      "margin": null,
      "max_height": null,
      "max_width": null,
      "min_height": null,
      "min_width": null,
      "object_fit": null,
      "object_position": null,
      "order": null,
      "overflow": null,
      "overflow_x": null,
      "overflow_y": null,
      "padding": null,
      "right": null,
      "top": null,
      "visibility": null,
      "width": null
     }
    }
   }
  }
 },
 "nbformat": 4,
 "nbformat_minor": 1
}
